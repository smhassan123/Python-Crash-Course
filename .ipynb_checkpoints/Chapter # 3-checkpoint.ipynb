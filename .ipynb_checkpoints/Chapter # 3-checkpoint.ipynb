{
 "cells": [
  {
   "cell_type": "markdown",
   "metadata": {},
   "source": [
    "# Introducing Lists"
   ]
  },
  {
   "cell_type": "markdown",
   "metadata": {},
   "source": [
    "In Python, square brackets ([ ]) indicate a list, and individual elements\n",
    "in the list are separated by commas. Here’s a simple example of a list that\n",
    "contains a few kinds of bicycles:"
   ]
  },
  {
   "cell_type": "code",
   "execution_count": 1,
   "metadata": {},
   "outputs": [
    {
     "name": "stdout",
     "output_type": "stream",
     "text": [
      "['trek', 'canondale', 'redline', 'specialized']\n"
     ]
    }
   ],
   "source": [
    "bicyclces = [\"trek\", \"canondale\", \"redline\", \"specialized\"]\n",
    "print(bicyclces)"
   ]
  },
  {
   "cell_type": "markdown",
   "metadata": {},
   "source": [
    "Accessing Elements in a List:"
   ]
  },
  {
   "cell_type": "code",
   "execution_count": 2,
   "metadata": {},
   "outputs": [
    {
     "name": "stdout",
     "output_type": "stream",
     "text": [
      "trek\n"
     ]
    }
   ],
   "source": [
    "print(bicyclces[0])"
   ]
  },
  {
   "cell_type": "code",
   "execution_count": 3,
   "metadata": {},
   "outputs": [
    {
     "name": "stdout",
     "output_type": "stream",
     "text": [
      "Trek\n"
     ]
    }
   ],
   "source": [
    "print(bicyclces[0].title())"
   ]
  },
  {
   "cell_type": "markdown",
   "metadata": {},
   "source": [
    "Index Positions Start at 0, Not 1:"
   ]
  },
  {
   "cell_type": "code",
   "execution_count": 4,
   "metadata": {},
   "outputs": [
    {
     "name": "stdout",
     "output_type": "stream",
     "text": [
      "canondale\n",
      "specialized\n"
     ]
    }
   ],
   "source": [
    "print(bicyclces[1])\n",
    "print(bicyclces[3])"
   ]
  },
  {
   "cell_type": "code",
   "execution_count": 5,
   "metadata": {},
   "outputs": [
    {
     "name": "stdout",
     "output_type": "stream",
     "text": [
      "specialized\n",
      "specialized\n"
     ]
    }
   ],
   "source": [
    "print(bicyclces[-1])\n",
    "print(bicyclces[3])"
   ]
  },
  {
   "cell_type": "markdown",
   "metadata": {},
   "source": [
    "Using Individual Values from a List:"
   ]
  },
  {
   "cell_type": "code",
   "execution_count": 7,
   "metadata": {},
   "outputs": [
    {
     "name": "stdout",
     "output_type": "stream",
     "text": [
      "My first bicycle was a trek.\n"
     ]
    }
   ],
   "source": [
    "message = \"My first bicycle was a \" + bicyclces[0] +\".\"\n",
    "print(message)"
   ]
  },
  {
   "cell_type": "markdown",
   "metadata": {},
   "source": [
    "Exercises"
   ]
  },
  {
   "cell_type": "markdown",
   "metadata": {},
   "source": [
    "3-1. Names: Store the names of a few of your friends in a list called names. Print\n",
    "each person’s name by accessing each element in the list, one at a time."
   ]
  },
  {
   "cell_type": "code",
   "execution_count": 8,
   "metadata": {},
   "outputs": [],
   "source": [
    "names = [\"Umer\" , \"Shaise\", \"Talha\" , \"Kashaf\"]"
   ]
  },
  {
   "cell_type": "code",
   "execution_count": 10,
   "metadata": {},
   "outputs": [
    {
     "name": "stdout",
     "output_type": "stream",
     "text": [
      "Umer\n"
     ]
    }
   ],
   "source": [
    "print(names[0])"
   ]
  },
  {
   "cell_type": "code",
   "execution_count": 11,
   "metadata": {},
   "outputs": [
    {
     "name": "stdout",
     "output_type": "stream",
     "text": [
      "Shaise\n"
     ]
    }
   ],
   "source": [
    "print(names[1])"
   ]
  },
  {
   "cell_type": "code",
   "execution_count": 12,
   "metadata": {},
   "outputs": [
    {
     "name": "stdout",
     "output_type": "stream",
     "text": [
      "Talha\n"
     ]
    }
   ],
   "source": [
    "print(names[2])"
   ]
  },
  {
   "cell_type": "code",
   "execution_count": 13,
   "metadata": {},
   "outputs": [
    {
     "name": "stdout",
     "output_type": "stream",
     "text": [
      "Kashaf\n"
     ]
    }
   ],
   "source": [
    "print(names[3])"
   ]
  },
  {
   "cell_type": "markdown",
   "metadata": {},
   "source": [
    "3-2. Greetings: Start with the list you used in Exercise 3-1, but instead of just\n",
    "printing each person’s name, print a message to them. The text of each message\n",
    "should be the same, but each message should be personalized with the\n",
    "person’s name."
   ]
  },
  {
   "cell_type": "code",
   "execution_count": 16,
   "metadata": {},
   "outputs": [
    {
     "name": "stdout",
     "output_type": "stream",
     "text": [
      "Hey Umer! How are you?\n"
     ]
    }
   ],
   "source": [
    "msg0 = \"Hey \" + names[0] + \"! How are you?\"\n",
    "print(msg0)"
   ]
  },
  {
   "cell_type": "code",
   "execution_count": 17,
   "metadata": {},
   "outputs": [
    {
     "name": "stdout",
     "output_type": "stream",
     "text": [
      "Hey Shaise! How are you?\n"
     ]
    }
   ],
   "source": [
    "msg1 = \"Hey \" + names[1] + \"! How are you?\"\n",
    "print(msg1)"
   ]
  },
  {
   "cell_type": "code",
   "execution_count": 18,
   "metadata": {},
   "outputs": [
    {
     "name": "stdout",
     "output_type": "stream",
     "text": [
      "Hey Talha! How are you?\n"
     ]
    }
   ],
   "source": [
    "msg2 = \"Hey \" + names[2] + \"! How are you?\"\n",
    "print(msg2)"
   ]
  },
  {
   "cell_type": "code",
   "execution_count": 19,
   "metadata": {},
   "outputs": [
    {
     "name": "stdout",
     "output_type": "stream",
     "text": [
      "Hey Kashaf! How are you?\n"
     ]
    }
   ],
   "source": [
    "msg3 = \"Hey \" + names[3] + \"! How are you?\"\n",
    "print(msg3)"
   ]
  },
  {
   "cell_type": "markdown",
   "metadata": {},
   "source": [
    "3-3. Your Own List: Think of your favorite mode of transportation, such as a\n",
    "motorcycle or a car, and make a list that stores several examples. Use your list\n",
    "to print a series of statements about these items, such as “I would like to own a\n",
    "Honda motorcycle.”"
   ]
  },
  {
   "cell_type": "code",
   "execution_count": 20,
   "metadata": {},
   "outputs": [],
   "source": [
    "favTransport = [\"Honda Civic\" , \"Toyota Corolla\" , \"Kia Picanto\" ]"
   ]
  },
  {
   "cell_type": "code",
   "execution_count": 22,
   "metadata": {},
   "outputs": [
    {
     "name": "stdout",
     "output_type": "stream",
     "text": [
      "I would like to own a Honda Civic.\n"
     ]
    }
   ],
   "source": [
    "stat0 = \"I would like to own a \" + favTransport[0] + \".\"\n",
    "print(stat0)"
   ]
  },
  {
   "cell_type": "code",
   "execution_count": 23,
   "metadata": {},
   "outputs": [
    {
     "name": "stdout",
     "output_type": "stream",
     "text": [
      "I would like to own a Toyota Corolla.\n"
     ]
    }
   ],
   "source": [
    "stat1 = \"I would like to own a \" + favTransport[1] + \".\"\n",
    "print(stat1)"
   ]
  },
  {
   "cell_type": "code",
   "execution_count": 24,
   "metadata": {},
   "outputs": [
    {
     "name": "stdout",
     "output_type": "stream",
     "text": [
      "I would like to own a Kia Picanto.\n"
     ]
    }
   ],
   "source": [
    "stat2 = \"I would like to own a \" + favTransport[2] + \".\"\n",
    "print(stat2)"
   ]
  },
  {
   "cell_type": "markdown",
   "metadata": {},
   "source": [
    "Changing, Adding, and Removing Elements: Modifying Elements in a List"
   ]
  },
  {
   "cell_type": "code",
   "execution_count": 25,
   "metadata": {},
   "outputs": [
    {
     "name": "stdout",
     "output_type": "stream",
     "text": [
      "['honda', 'yamaha', 'suzuki']\n",
      "['ducati', 'yamaha', 'suzuki']\n"
     ]
    }
   ],
   "source": [
    "motorcycles = ['honda', 'yamaha', 'suzuki']\n",
    "print(motorcycles)\n",
    "motorcycles[0] = 'ducati'\n",
    "print(motorcycles)"
   ]
  },
  {
   "cell_type": "markdown",
   "metadata": {},
   "source": [
    "Adding Elements to a List"
   ]
  },
  {
   "cell_type": "code",
   "execution_count": 27,
   "metadata": {},
   "outputs": [
    {
     "name": "stdout",
     "output_type": "stream",
     "text": [
      "['ducati', 'yamaha', 'suzuki', 'kawasaki']\n"
     ]
    }
   ],
   "source": [
    "motorcycles.append(\"kawasaki\")\n",
    "print(motorcycles)"
   ]
  },
  {
   "cell_type": "code",
   "execution_count": 29,
   "metadata": {},
   "outputs": [
    {
     "name": "stdout",
     "output_type": "stream",
     "text": [
      "['honda', 'toyota', 'suzuki', 'kia']\n"
     ]
    }
   ],
   "source": [
    "cars = []\n",
    "cars.append(\"honda\")\n",
    "cars.append(\"toyota\")\n",
    "cars.append(\"suzuki\")\n",
    "cars.append(\"kia\")\n",
    "print(cars)"
   ]
  },
  {
   "cell_type": "markdown",
   "metadata": {},
   "source": [
    "Inserting Elements to a List"
   ]
  },
  {
   "cell_type": "code",
   "execution_count": 30,
   "metadata": {},
   "outputs": [
    {
     "data": {
      "text/plain": [
       "['ducati', 'yamaha', 'suzuki', 'kawasaki']"
      ]
     },
     "execution_count": 30,
     "metadata": {},
     "output_type": "execute_result"
    }
   ],
   "source": [
    "motorcycles"
   ]
  },
  {
   "cell_type": "code",
   "execution_count": 31,
   "metadata": {},
   "outputs": [
    {
     "data": {
      "text/plain": [
       "['ducati', 'harley davidson', 'yamaha', 'suzuki', 'kawasaki', 'honda']"
      ]
     },
     "execution_count": 31,
     "metadata": {},
     "output_type": "execute_result"
    }
   ],
   "source": [
    "motorcycles.insert(4, \"honda\")\n",
    "motorcycles.insert(1, \"harley davidson\")\n",
    "motorcycles"
   ]
  },
  {
   "cell_type": "markdown",
   "metadata": {},
   "source": [
    "Removing Elements from a List"
   ]
  },
  {
   "cell_type": "code",
   "execution_count": 32,
   "metadata": {},
   "outputs": [
    {
     "data": {
      "text/plain": [
       "['ducati', 'yamaha', 'suzuki', 'kawasaki', 'honda']"
      ]
     },
     "execution_count": 32,
     "metadata": {},
     "output_type": "execute_result"
    }
   ],
   "source": [
    "del motorcycles[1]\n",
    "motorcycles"
   ]
  },
  {
   "cell_type": "markdown",
   "metadata": {},
   "source": [
    "Removing by .pop()"
   ]
  },
  {
   "cell_type": "code",
   "execution_count": 33,
   "metadata": {},
   "outputs": [
    {
     "data": {
      "text/plain": [
       "'honda'"
      ]
     },
     "execution_count": 33,
     "metadata": {},
     "output_type": "execute_result"
    }
   ],
   "source": [
    "poppedMotorCycle = motorcycles.pop()\n",
    "poppedMotorCycle"
   ]
  },
  {
   "cell_type": "code",
   "execution_count": 34,
   "metadata": {},
   "outputs": [
    {
     "data": {
      "text/plain": [
       "'ducati'"
      ]
     },
     "execution_count": 34,
     "metadata": {},
     "output_type": "execute_result"
    }
   ],
   "source": [
    "poppedMotorCycle2 = motorcycles.pop(0)\n",
    "poppedMotorCycle2"
   ]
  },
  {
   "cell_type": "markdown",
   "metadata": {},
   "source": [
    "Removing Value by Value"
   ]
  },
  {
   "cell_type": "code",
   "execution_count": 37,
   "metadata": {},
   "outputs": [
    {
     "data": {
      "text/plain": [
       "['kawasaki']"
      ]
     },
     "execution_count": 37,
     "metadata": {},
     "output_type": "execute_result"
    }
   ],
   "source": [
    "motorcycles.remove('suzuki')\n",
    "motorcycles"
   ]
  },
  {
   "cell_type": "markdown",
   "metadata": {},
   "source": [
    "Exercises"
   ]
  },
  {
   "cell_type": "markdown",
   "metadata": {},
   "source": [
    "3-4. Guest List: If you could invite anyone, living or deceased, to dinner, who\n",
    "would you invite? Make a list that includes at least three people you’d like to\n",
    "invite to dinner. Then use your list to print a message to each person, inviting\n",
    "them to dinner."
   ]
  },
  {
   "cell_type": "code",
   "execution_count": 45,
   "metadata": {},
   "outputs": [
    {
     "name": "stdout",
     "output_type": "stream",
     "text": [
      "Hi Ali, You are invited for dinner tonight at my home\n",
      "Hi Shazy, You are invited for dinner tonight at my home\n",
      "Hi Kashaf, You are invited for dinner tonight at my home\n"
     ]
    }
   ],
   "source": [
    "guestList = [\"Ali\" , \"Shazy\" , \"Kashaf\"]\n",
    "\n",
    "print(\"Hi \" + guestList[0] + \", You are invited for dinner tonight at my home\" )\n",
    "print(\"Hi \" + guestList[1] + \", You are invited for dinner tonight at my home\" )\n",
    "print(\"Hi \" + guestList[2] + \", You are invited for dinner tonight at my home\" )"
   ]
  },
  {
   "cell_type": "markdown",
   "metadata": {},
   "source": [
    "3-5. Changing Guest List: You just heard that one of your guests can’t make the\n",
    "dinner, so you need to send out a new set of invitations. You’ll have to think of\n",
    "someone else to invite.\n",
    "• Start with your program from Exercise 3-4. Add a print statement at the\n",
    "end of your program stating the name of the guest who can’t make it.\n",
    "• Modify your list, replacing the name of the guest who can’t make it with\n",
    "the name of the new person you are inviting.\n",
    "• Print a second set of invitation messages, one for each person who is still\n",
    "in your list."
   ]
  },
  {
   "cell_type": "code",
   "execution_count": 46,
   "metadata": {},
   "outputs": [
    {
     "name": "stdout",
     "output_type": "stream",
     "text": [
      "Ali will not be able to come today.\n"
     ]
    }
   ],
   "source": [
    "print(guestList[0] + ' will not be able to come today.')"
   ]
  },
  {
   "cell_type": "code",
   "execution_count": 47,
   "metadata": {},
   "outputs": [
    {
     "name": "stdout",
     "output_type": "stream",
     "text": [
      "Hi Zaid, You are invited for dinner tonight at my home\n",
      "Hi Shazy, You are invited for dinner tonight at my home\n",
      "Hi Kashaf, You are invited for dinner tonight at my home\n"
     ]
    }
   ],
   "source": [
    "guestList[0] = \"Zaid\"\n",
    "print(\"Hi \" + guestList[0] + \", You are invited for dinner tonight at my home\" )\n",
    "print(\"Hi \" + guestList[1] + \", You are invited for dinner tonight at my home\" )\n",
    "print(\"Hi \" + guestList[2] + \", You are invited for dinner tonight at my home\" )"
   ]
  },
  {
   "cell_type": "markdown",
   "metadata": {},
   "source": [
    "3-6. More Guests: You just found a bigger dinner table, so now more space is\n",
    "available. Think of three more guests to invite to dinner.\n",
    "• Start with your program from Exercise 3-4 or Exercise 3-5. Add a print\n",
    "statement to the end of your program informing people that you found a\n",
    "bigger dinner table.\n",
    "• Use insert() to add one new guest to the beginning of your list.\n",
    "• Use insert() to add one new guest to the middle of your list.\n",
    "• Use append() to add one new guest to the end of your list.\n",
    "• Print a new set of invitation messages, one for each person in your list."
   ]
  },
  {
   "cell_type": "code",
   "execution_count": 49,
   "metadata": {},
   "outputs": [
    {
     "name": "stdout",
     "output_type": "stream",
     "text": [
      "I have got a new big table so we can gather more people for tonight's dinner.\n"
     ]
    }
   ],
   "source": [
    "print(\"I have got a new big table so we can gather more people for tonight's dinner.\")"
   ]
  },
  {
   "cell_type": "code",
   "execution_count": 50,
   "metadata": {},
   "outputs": [
    {
     "data": {
      "text/plain": [
       "['Faisal', 'Zaid', 'Shazy', 'Kashaf']"
      ]
     },
     "execution_count": 50,
     "metadata": {},
     "output_type": "execute_result"
    }
   ],
   "source": [
    "guestList.insert(0, \"Faisal\")\n",
    "guestList"
   ]
  },
  {
   "cell_type": "code",
   "execution_count": 51,
   "metadata": {},
   "outputs": [
    {
     "data": {
      "text/plain": [
       "['Faisal', 'Zaid', 'Farhan', 'Shazy', 'Kashaf']"
      ]
     },
     "execution_count": 51,
     "metadata": {},
     "output_type": "execute_result"
    }
   ],
   "source": [
    "guestList.insert(2, \"Farhan\")\n",
    "guestList"
   ]
  },
  {
   "cell_type": "code",
   "execution_count": 56,
   "metadata": {},
   "outputs": [
    {
     "data": {
      "text/plain": [
       "['Faisal', 'Zaid', 'Farhan', 'Shazy', 'Kashaf', 'Siraj']"
      ]
     },
     "execution_count": 56,
     "metadata": {},
     "output_type": "execute_result"
    }
   ],
   "source": [
    "guestList.append(\"Siraj\")\n",
    "guestList"
   ]
  },
  {
   "cell_type": "code",
   "execution_count": 53,
   "metadata": {},
   "outputs": [
    {
     "name": "stdout",
     "output_type": "stream",
     "text": [
      "Hi Faisal, You are invited for dinner tonight at my home\n",
      "Hi Zaid, You are invited for dinner tonight at my home\n",
      "Hi Farhan, You are invited for dinner tonight at my home\n",
      "Hi Shazy, You are invited for dinner tonight at my home\n",
      "Hi Kashaf, You are invited for dinner tonight at my home\n",
      "Hi Siraj, You are invited for dinner tonight at my home\n"
     ]
    }
   ],
   "source": [
    "print(\"Hi \" + guestList[0] + \", You are invited for dinner tonight at my home\" )\n",
    "print(\"Hi \" + guestList[1] + \", You are invited for dinner tonight at my home\" )\n",
    "print(\"Hi \" + guestList[2] + \", You are invited for dinner tonight at my home\" )\n",
    "print(\"Hi \" + guestList[3] + \", You are invited for dinner tonight at my home\" )\n",
    "print(\"Hi \" + guestList[4] + \", You are invited for dinner tonight at my home\" )\n",
    "print(\"Hi \" + guestList[5] + \", You are invited for dinner tonight at my home\" )"
   ]
  },
  {
   "cell_type": "markdown",
   "metadata": {},
   "source": [
    "3-7. Shrinking Guest List: You just found out that your new dinner table won’t\n",
    "arrive in time for the dinner, and you have space for only two guests.\n",
    "• Start with your program from Exercise 3-6. Add a new line that prints a\n",
    "message saying that you can invite only two people for dinner.\n",
    "• Use pop() to remove guests from your list one at a time until only two\n",
    "names remain in your list. Each time you pop a name from your list, print\n",
    "a message to that person letting them know you’re sorry you can’t invite\n",
    "them to dinner.\n",
    "• Print a message to each of the two people still on your list, letting them\n",
    "know they’re still invited.\n",
    "• Use del to remove the last two names from your list, so you have an empty\n",
    "list. Print your list to make sure you actually have an empty list at the end\n",
    "of your program."
   ]
  },
  {
   "cell_type": "code",
   "execution_count": 54,
   "metadata": {},
   "outputs": [
    {
     "name": "stdout",
     "output_type": "stream",
     "text": [
      "Due to some issues I can only invite 2 person\n"
     ]
    }
   ],
   "source": [
    "print(\"Due to some issues I can only invite 2 person\")"
   ]
  },
  {
   "cell_type": "code",
   "execution_count": 57,
   "metadata": {},
   "outputs": [
    {
     "name": "stdout",
     "output_type": "stream",
     "text": [
      "I'm sorry Siraj, Due to late delivery of Table I cannot invite you.\n"
     ]
    },
    {
     "data": {
      "text/plain": [
       "['Faisal', 'Zaid', 'Farhan', 'Shazy', 'Kashaf']"
      ]
     },
     "execution_count": 57,
     "metadata": {},
     "output_type": "execute_result"
    }
   ],
   "source": [
    "print( \"I'm sorry \" + guestList.pop() + \", Due to late delivery of Table I cannot invite you.\")\n",
    "guestList"
   ]
  },
  {
   "cell_type": "code",
   "execution_count": 58,
   "metadata": {},
   "outputs": [
    {
     "name": "stdout",
     "output_type": "stream",
     "text": [
      "I'm sorry Kashaf, Due to late delivery of Table I cannot invite you.\n"
     ]
    },
    {
     "data": {
      "text/plain": [
       "['Faisal', 'Zaid', 'Farhan', 'Shazy']"
      ]
     },
     "execution_count": 58,
     "metadata": {},
     "output_type": "execute_result"
    }
   ],
   "source": [
    "print( \"I'm sorry \" + guestList.pop() + \", Due to late delivery of Table I cannot invite you.\")\n",
    "guestList"
   ]
  },
  {
   "cell_type": "code",
   "execution_count": 59,
   "metadata": {},
   "outputs": [
    {
     "name": "stdout",
     "output_type": "stream",
     "text": [
      "I'm sorry Shazy, Due to late delivery of Table I cannot invite you.\n"
     ]
    },
    {
     "data": {
      "text/plain": [
       "['Faisal', 'Zaid', 'Farhan']"
      ]
     },
     "execution_count": 59,
     "metadata": {},
     "output_type": "execute_result"
    }
   ],
   "source": [
    "print( \"I'm sorry \" + guestList.pop() + \", Due to late delivery of Table I cannot invite you.\")\n",
    "guestList"
   ]
  },
  {
   "cell_type": "code",
   "execution_count": 60,
   "metadata": {},
   "outputs": [
    {
     "name": "stdout",
     "output_type": "stream",
     "text": [
      "I'm sorry Farhan, Due to late delivery of Table I cannot invite you.\n"
     ]
    },
    {
     "data": {
      "text/plain": [
       "['Faisal', 'Zaid']"
      ]
     },
     "execution_count": 60,
     "metadata": {},
     "output_type": "execute_result"
    }
   ],
   "source": [
    "print( \"I'm sorry \" + guestList.pop() + \", Due to late delivery of Table I cannot invite you.\")\n",
    "guestList"
   ]
  },
  {
   "cell_type": "code",
   "execution_count": 61,
   "metadata": {},
   "outputs": [
    {
     "name": "stdout",
     "output_type": "stream",
     "text": [
      "Dear Faisal, You are still invited.\n",
      "Dear Zaid, You are still invited.\n"
     ]
    }
   ],
   "source": [
    "print( \"Dear \" + guestList[0] + \", You are still invited.\")\n",
    "print( \"Dear \" + guestList[1] + \", You are still invited.\")"
   ]
  },
  {
   "cell_type": "code",
   "execution_count": 64,
   "metadata": {},
   "outputs": [
    {
     "data": {
      "text/plain": [
       "[]"
      ]
     },
     "execution_count": 64,
     "metadata": {},
     "output_type": "execute_result"
    }
   ],
   "source": [
    "#del guestList[0]\n",
    "#del guestList[0]\n",
    "guestList"
   ]
  },
  {
   "cell_type": "markdown",
   "metadata": {},
   "source": [
    " "
   ]
  },
  {
   "cell_type": "markdown",
   "metadata": {},
   "source": [
    "Sorting a List Permanently with the sort() Method"
   ]
  },
  {
   "cell_type": "code",
   "execution_count": 3,
   "metadata": {},
   "outputs": [
    {
     "data": {
      "text/plain": [
       "['bmw', 'audi', 'toyota', 'subaru']"
      ]
     },
     "execution_count": 3,
     "metadata": {},
     "output_type": "execute_result"
    }
   ],
   "source": [
    "cars = ['bmw' , 'audi' ,'toyota', 'subaru']\n",
    "cars"
   ]
  },
  {
   "cell_type": "code",
   "execution_count": 4,
   "metadata": {},
   "outputs": [
    {
     "data": {
      "text/plain": [
       "['audi', 'bmw', 'subaru', 'toyota']"
      ]
     },
     "execution_count": 4,
     "metadata": {},
     "output_type": "execute_result"
    }
   ],
   "source": [
    "cars.sort() #this method sorts permanently\n",
    "cars"
   ]
  },
  {
   "cell_type": "code",
   "execution_count": 6,
   "metadata": {},
   "outputs": [
    {
     "data": {
      "text/plain": [
       "['toyota', 'subaru', 'bmw', 'audi']"
      ]
     },
     "execution_count": 6,
     "metadata": {},
     "output_type": "execute_result"
    }
   ],
   "source": [
    "#Reverse sorting\n",
    "cars.sort(reverse=True)\n",
    "cars"
   ]
  },
  {
   "cell_type": "markdown",
   "metadata": {},
   "source": [
    " "
   ]
  },
  {
   "cell_type": "markdown",
   "metadata": {},
   "source": [
    "Sorting a List Temporarily with the sorted() Function"
   ]
  },
  {
   "cell_type": "code",
   "execution_count": 7,
   "metadata": {},
   "outputs": [],
   "source": [
    "cars = ['bmw' , 'audi' ,'toyota', 'subaru']"
   ]
  },
  {
   "cell_type": "code",
   "execution_count": 10,
   "metadata": {},
   "outputs": [
    {
     "name": "stdout",
     "output_type": "stream",
     "text": [
      "Original List:\n",
      "['bmw', 'audi', 'toyota', 'subaru']\n",
      "Sorted List:\n",
      "['audi', 'bmw', 'subaru', 'toyota']\n"
     ]
    },
    {
     "data": {
      "text/plain": [
       "['bmw', 'audi', 'toyota', 'subaru']"
      ]
     },
     "execution_count": 10,
     "metadata": {},
     "output_type": "execute_result"
    }
   ],
   "source": [
    "print('Original List:')\n",
    "print(cars)\n",
    "\n",
    "print('Sorted List:') #this function sorts the list temporarily\n",
    "print(sorted(cars))\n",
    "\n",
    "cars"
   ]
  },
  {
   "cell_type": "markdown",
   "metadata": {},
   "source": [
    " "
   ]
  },
  {
   "cell_type": "markdown",
   "metadata": {},
   "source": [
    "Printing a list in reverse order"
   ]
  },
  {
   "cell_type": "code",
   "execution_count": 15,
   "metadata": {},
   "outputs": [
    {
     "name": "stdout",
     "output_type": "stream",
     "text": [
      "['bmw', 'audi', 'toyota', 'subaru']\n",
      "Reverse order:\n",
      "['subaru', 'toyota', 'audi', 'bmw']\n"
     ]
    }
   ],
   "source": [
    "print(cars)\n",
    "\n",
    "print('Reverse order:')\n",
    "cars.reverse() #reverse method changes the order Permanently\n",
    "print(cars)"
   ]
  },
  {
   "cell_type": "markdown",
   "metadata": {},
   "source": [
    " "
   ]
  },
  {
   "cell_type": "markdown",
   "metadata": {},
   "source": [
    "Finding the length of list"
   ]
  },
  {
   "cell_type": "code",
   "execution_count": 17,
   "metadata": {},
   "outputs": [
    {
     "data": {
      "text/plain": [
       "4"
      ]
     },
     "execution_count": 17,
     "metadata": {},
     "output_type": "execute_result"
    }
   ],
   "source": [
    "len(cars) #the output shows that whether how many elemnts are there in the list"
   ]
  },
  {
   "cell_type": "markdown",
   "metadata": {},
   "source": [
    " "
   ]
  },
  {
   "cell_type": "markdown",
   "metadata": {},
   "source": [
    "Exercises:"
   ]
  },
  {
   "cell_type": "markdown",
   "metadata": {},
   "source": [
    "3-8. Seeing the World: Think of at least five places in the world you’d like to\n",
    "visit.\n",
    "• Store the locations in a list. Make sure the list is not in alphabetical order.\n",
    "• Print your list in its original order. Don’t worry about printing the list neatly,\n",
    "just print it as a raw Python list.\n",
    "• Use sorted() to print your list in alphabetical order without modifying the\n",
    "actual list.\n",
    "• Show that your list is still in its original order by printing it.\n",
    "• Use sorted() to print your list in reverse alphabetical order without changing\n",
    "the order of the original list.\n",
    "• Show that your list is still in its original order by printing it again.\n",
    "• Use reverse() to change the order of your list. Print the list to show that its\n",
    "order has changed.\n",
    "• Use reverse() to change the order of your list again. Print the list to show\n",
    "it’s back to its original order.\n",
    "• Use sort() to change your list so it’s stored in alphabetical order. Print the\n",
    "list to show that its order has been changed.\n",
    "• Use sort() to change your list so it’s stored in reverse alphabetical order.\n",
    "Print the list to show that its order has changed."
   ]
  },
  {
   "cell_type": "code",
   "execution_count": 19,
   "metadata": {},
   "outputs": [
    {
     "name": "stdout",
     "output_type": "stream",
     "text": [
      "['Islamabad', 'Faisalabad', 'Swat', 'Balochistan', 'peshawar']\n"
     ]
    }
   ],
   "source": [
    "placesToVisit = ['Islamabad' , 'Faisalabad' , 'Swat' , 'Balochistan' , 'peshawar']\n",
    "print(placesToVisit)"
   ]
  },
  {
   "cell_type": "code",
   "execution_count": 20,
   "metadata": {},
   "outputs": [
    {
     "name": "stdout",
     "output_type": "stream",
     "text": [
      "['Balochistan', 'Faisalabad', 'Islamabad', 'Swat', 'peshawar']\n"
     ]
    }
   ],
   "source": [
    "print(sorted(placesToVisit))"
   ]
  },
  {
   "cell_type": "code",
   "execution_count": 21,
   "metadata": {},
   "outputs": [
    {
     "name": "stdout",
     "output_type": "stream",
     "text": [
      "['Islamabad', 'Faisalabad', 'Swat', 'Balochistan', 'peshawar']\n"
     ]
    }
   ],
   "source": [
    "print(placesToVisit)"
   ]
  },
  {
   "cell_type": "code",
   "execution_count": 22,
   "metadata": {},
   "outputs": [
    {
     "name": "stdout",
     "output_type": "stream",
     "text": [
      "['peshawar', 'Swat', 'Islamabad', 'Faisalabad', 'Balochistan']\n"
     ]
    }
   ],
   "source": [
    "print(sorted(placesToVisit,reverse=True))"
   ]
  },
  {
   "cell_type": "code",
   "execution_count": 23,
   "metadata": {},
   "outputs": [
    {
     "name": "stdout",
     "output_type": "stream",
     "text": [
      "['Islamabad', 'Faisalabad', 'Swat', 'Balochistan', 'peshawar']\n"
     ]
    }
   ],
   "source": [
    "print(placesToVisit)"
   ]
  },
  {
   "cell_type": "code",
   "execution_count": 26,
   "metadata": {},
   "outputs": [
    {
     "name": "stdout",
     "output_type": "stream",
     "text": [
      "['peshawar', 'Balochistan', 'Swat', 'Faisalabad', 'Islamabad']\n"
     ]
    }
   ],
   "source": [
    "placesToVisit.reverse()\n",
    "print(placesToVisit)"
   ]
  },
  {
   "cell_type": "code",
   "execution_count": 27,
   "metadata": {},
   "outputs": [
    {
     "name": "stdout",
     "output_type": "stream",
     "text": [
      "['Islamabad', 'Faisalabad', 'Swat', 'Balochistan', 'peshawar']\n"
     ]
    }
   ],
   "source": [
    "placesToVisit.reverse()\n",
    "print(placesToVisit)"
   ]
  },
  {
   "cell_type": "code",
   "execution_count": 28,
   "metadata": {},
   "outputs": [
    {
     "name": "stdout",
     "output_type": "stream",
     "text": [
      "['Balochistan', 'Faisalabad', 'Islamabad', 'Swat', 'peshawar']\n"
     ]
    }
   ],
   "source": [
    "placesToVisit.sort()\n",
    "print(placesToVisit)"
   ]
  },
  {
   "cell_type": "code",
   "execution_count": 29,
   "metadata": {},
   "outputs": [
    {
     "name": "stdout",
     "output_type": "stream",
     "text": [
      "['peshawar', 'Swat', 'Islamabad', 'Faisalabad', 'Balochistan']\n"
     ]
    }
   ],
   "source": [
    "placesToVisit.sort(reverse=True)\n",
    "print(placesToVisit)"
   ]
  },
  {
   "cell_type": "code",
   "execution_count": null,
   "metadata": {},
   "outputs": [],
   "source": []
  }
 ],
 "metadata": {
  "kernelspec": {
   "display_name": "Python 3",
   "language": "python",
   "name": "python3"
  },
  "language_info": {
   "codemirror_mode": {
    "name": "ipython",
    "version": 3
   },
   "file_extension": ".py",
   "mimetype": "text/x-python",
   "name": "python",
   "nbconvert_exporter": "python",
   "pygments_lexer": "ipython3",
   "version": "3.7.4"
  }
 },
 "nbformat": 4,
 "nbformat_minor": 2
}
