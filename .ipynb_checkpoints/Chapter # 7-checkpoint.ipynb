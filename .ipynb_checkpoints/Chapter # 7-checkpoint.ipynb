{
 "cells": [
  {
   "cell_type": "markdown",
   "metadata": {},
   "source": [
    "# User input and while loops"
   ]
  },
  {
   "cell_type": "markdown",
   "metadata": {},
   "source": [
    "How the input() function works"
   ]
  },
  {
   "cell_type": "code",
   "execution_count": 1,
   "metadata": {},
   "outputs": [
    {
     "name": "stdout",
     "output_type": "stream",
     "text": [
      "Tell me something, and I will repeat it back to you: Python is Love!!..\n",
      "Python is Love!!..\n"
     ]
    }
   ],
   "source": [
    "message = input('Tell me something, and I will repeat it back to you: ')\n",
    "print(messagesage)"
   ]
  },
  {
   "cell_type": "markdown",
   "metadata": {},
   "source": [
    "Writing clear prompts"
   ]
  },
  {
   "cell_type": "code",
   "execution_count": 3,
   "metadata": {},
   "outputs": [
    {
     "name": "stdout",
     "output_type": "stream",
     "text": [
      "Please Enter Your Name: SANDRA\n",
      "Hello, Sandra.\n"
     ]
    }
   ],
   "source": [
    "name = input('Please Enter Your Name: ')\n",
    "print(f\"Hello, {name.title()}.\")"
   ]
  },
  {
   "cell_type": "code",
   "execution_count": 5,
   "metadata": {},
   "outputs": [
    {
     "name": "stdout",
     "output_type": "stream",
     "text": [
      "If you tell us who you are, we can personalize the messages you see.\n",
      "What is your name? bravo\n",
      "Hello, Bravo.\n"
     ]
    }
   ],
   "source": [
    "prompt = \"If you tell us who you are, we can personalize the messages you see.\"\n",
    "prompt += \"\\nWhat is your name? \"\n",
    "\n",
    "name = input(prompt)\n",
    "print(f\"Hello, {name.title()}.\")"
   ]
  },
  {
   "cell_type": "markdown",
   "metadata": {},
   "source": [
    "Using int() to accept numerical input"
   ]
  },
  {
   "cell_type": "code",
   "execution_count": 6,
   "metadata": {},
   "outputs": [
    {
     "name": "stdout",
     "output_type": "stream",
     "text": [
      "How old are you? 54\n",
      "54\n",
      "Type of age is <class 'str'>\n"
     ]
    }
   ],
   "source": [
    "age = input('How old are you? ')\n",
    "print(age)\n",
    "print(f\"Type of age is {type(age)}\")"
   ]
  },
  {
   "cell_type": "code",
   "execution_count": 7,
   "metadata": {},
   "outputs": [
    {
     "data": {
      "text/plain": [
       "'54'"
      ]
     },
     "execution_count": 7,
     "metadata": {},
     "output_type": "execute_result"
    }
   ],
   "source": [
    "age"
   ]
  },
  {
   "cell_type": "code",
   "execution_count": 9,
   "metadata": {},
   "outputs": [
    {
     "name": "stdout",
     "output_type": "stream",
     "text": [
      "How old are you? 66\n"
     ]
    },
    {
     "ename": "TypeError",
     "evalue": "'>=' not supported between instances of 'str' and 'int'",
     "output_type": "error",
     "traceback": [
      "\u001b[1;31m---------------------------------------------------------------------------\u001b[0m",
      "\u001b[1;31mTypeError\u001b[0m                                 Traceback (most recent call last)",
      "\u001b[1;32m<ipython-input-9-ea0fbe299487>\u001b[0m in \u001b[0;36m<module>\u001b[1;34m\u001b[0m\n\u001b[0;32m      1\u001b[0m \u001b[0mage\u001b[0m \u001b[1;33m=\u001b[0m \u001b[0minput\u001b[0m\u001b[1;33m(\u001b[0m\u001b[1;34m'How old are you? '\u001b[0m\u001b[1;33m)\u001b[0m\u001b[1;33m\u001b[0m\u001b[1;33m\u001b[0m\u001b[0m\n\u001b[1;32m----> 2\u001b[1;33m \u001b[0mage\u001b[0m \u001b[1;33m>=\u001b[0m \u001b[1;36m18\u001b[0m\u001b[1;33m\u001b[0m\u001b[1;33m\u001b[0m\u001b[0m\n\u001b[0m",
      "\u001b[1;31mTypeError\u001b[0m: '>=' not supported between instances of 'str' and 'int'"
     ]
    }
   ],
   "source": [
    "age = input('How old are you? ')\n",
    "age >= 18"
   ]
  },
  {
   "cell_type": "code",
   "execution_count": 11,
   "metadata": {},
   "outputs": [
    {
     "name": "stdout",
     "output_type": "stream",
     "text": [
      "How old are you? 15\n"
     ]
    },
    {
     "data": {
      "text/plain": [
       "False"
      ]
     },
     "execution_count": 11,
     "metadata": {},
     "output_type": "execute_result"
    }
   ],
   "source": [
    "age = input('How old are you? ')\n",
    "age = int(age)\n",
    "\n",
    "age>= 18"
   ]
  },
  {
   "cell_type": "code",
   "execution_count": 14,
   "metadata": {},
   "outputs": [
    {
     "name": "stdout",
     "output_type": "stream",
     "text": [
      "How tall are you in inches? 40\n",
      "\n",
      "You are tall enough to ride!\n"
     ]
    }
   ],
   "source": [
    "height = int(input('How tall are you in inches? '))\n",
    "\n",
    "if height >= 36:\n",
    "    print('\\nYou are tall enough to ride!')\n",
    "else:\n",
    "    print('\\nYou can not ride.')"
   ]
  },
  {
   "cell_type": "markdown",
   "metadata": {},
   "source": [
    "The Modulo Operator"
   ]
  },
  {
   "cell_type": "code",
   "execution_count": 1,
   "metadata": {},
   "outputs": [
    {
     "data": {
      "text/plain": [
       "1"
      ]
     },
     "execution_count": 1,
     "metadata": {},
     "output_type": "execute_result"
    }
   ],
   "source": [
    "4 % 3"
   ]
  },
  {
   "cell_type": "code",
   "execution_count": 3,
   "metadata": {},
   "outputs": [
    {
     "data": {
      "text/plain": [
       "2"
      ]
     },
     "execution_count": 3,
     "metadata": {},
     "output_type": "execute_result"
    }
   ],
   "source": [
    "5 % 3"
   ]
  },
  {
   "cell_type": "code",
   "execution_count": 4,
   "metadata": {},
   "outputs": [
    {
     "data": {
      "text/plain": [
       "0"
      ]
     },
     "execution_count": 4,
     "metadata": {},
     "output_type": "execute_result"
    }
   ],
   "source": [
    "6 % 3"
   ]
  },
  {
   "cell_type": "code",
   "execution_count": 5,
   "metadata": {},
   "outputs": [
    {
     "data": {
      "text/plain": [
       "1"
      ]
     },
     "execution_count": 5,
     "metadata": {},
     "output_type": "execute_result"
    }
   ],
   "source": [
    "7 % 3"
   ]
  },
  {
   "cell_type": "code",
   "execution_count": 7,
   "metadata": {},
   "outputs": [
    {
     "name": "stdout",
     "output_type": "stream",
     "text": [
      "Enter number, I'll tell you whether it is Even or Odd: 6\n",
      "6 is Even,\n"
     ]
    }
   ],
   "source": [
    "#Even Odd\n",
    "num = int(input(\"Enter number, I'll tell you whether it is Even or Odd: \"))\n",
    "\n",
    "if num % 2 == 0:\n",
    "    print(f\"{num} is Even,\")\n",
    "else:\n",
    "    print(f\"{num} is Odd.\")"
   ]
  },
  {
   "cell_type": "markdown",
   "metadata": {},
   "source": [
    "Exercise"
   ]
  },
  {
   "cell_type": "markdown",
   "metadata": {},
   "source": [
    "7-1. Rental Car: Write a program that asks the user what kind of rental car they\n",
    "would like. Print a message about that car, such as “Let me see if I can find you\n",
    "a Subaru.”"
   ]
  },
  {
   "cell_type": "code",
   "execution_count": 9,
   "metadata": {},
   "outputs": [
    {
     "name": "stdout",
     "output_type": "stream",
     "text": [
      "Enter the name of car you would like to rent out: toyota\n",
      "Let me see if i can find you a Toyota.\n"
     ]
    }
   ],
   "source": [
    "car = input('Enter the name of car you would like to rent out: ')\n",
    "print(f\"Let me see if i can find you a {car.title()}.\")"
   ]
  },
  {
   "cell_type": "markdown",
   "metadata": {},
   "source": [
    "7-2. Restaurant Seating: Write a program that asks the user how many people\n",
    "are in their dinner group. If the answer is more than eight, print a message saying\n",
    "they’ll have to wait for a table. Otherwise, report that their table is ready."
   ]
  },
  {
   "cell_type": "code",
   "execution_count": 11,
   "metadata": {},
   "outputs": [
    {
     "name": "stdout",
     "output_type": "stream",
     "text": [
      "Enter the number of persons to arrange a table for you: 9\n",
      "You have to wait a bit.\n"
     ]
    }
   ],
   "source": [
    "people = int(input(\"Enter the number of persons to arrange a table for you: \"))\n",
    "\n",
    "if people > 8:\n",
    "    print(\"You have to wait a bit.\")\n",
    "else:\n",
    "    print(\"The table is ready.\")"
   ]
  },
  {
   "cell_type": "markdown",
   "metadata": {},
   "source": [
    "7-3. Multiples of Ten: Ask the user for a number, and then report whether the\n",
    "number is a multiple of 10 or not."
   ]
  },
  {
   "cell_type": "code",
   "execution_count": 13,
   "metadata": {},
   "outputs": [
    {
     "name": "stdout",
     "output_type": "stream",
     "text": [
      "Enter the number, I will tell whether it is multiple of 10 or not: 500\n",
      "500 is multiple of 10.\n"
     ]
    }
   ],
   "source": [
    "number = int(input('Enter the number, I will tell whether it is multiple of 10 or not: '))\n",
    "\n",
    "if number % 10 == 0:\n",
    "    print(f\"{number} is multiple of 10.\")\n",
    "else:\n",
    "    print(f\"{number} is not multiple of 10.\")"
   ]
  },
  {
   "cell_type": "markdown",
   "metadata": {},
   "source": [
    "Introducing while Loops: The while Loop in action"
   ]
  },
  {
   "cell_type": "code",
   "execution_count": 1,
   "metadata": {},
   "outputs": [
    {
     "name": "stdout",
     "output_type": "stream",
     "text": [
      "1\n",
      "2\n",
      "3\n",
      "4\n",
      "5\n"
     ]
    }
   ],
   "source": [
    "currentNum = 1\n",
    "\n",
    "while currentNum <= 5:\n",
    "    print(currentNum)\n",
    "    currentNum += 1"
   ]
  },
  {
   "cell_type": "markdown",
   "metadata": {},
   "source": [
    "Letting the user choose when to quit"
   ]
  },
  {
   "cell_type": "code",
   "execution_count": 3,
   "metadata": {},
   "outputs": [
    {
     "name": "stdout",
     "output_type": "stream",
     "text": [
      "\n",
      "Tell me something, I will repeat it back to you: \n",
      "Enter 'quit' to end program.how are you?\n",
      "How Are You?\n",
      "\n",
      "Tell me something, I will repeat it back to you: \n",
      "Enter 'quit' to end program.hahahhah\n",
      "Hahahhah\n",
      "\n",
      "Tell me something, I will repeat it back to you: \n",
      "Enter 'quit' to end program.quit\n",
      "Quit\n"
     ]
    }
   ],
   "source": [
    "prompt = \"\\nTell me something, I will repeat it back to you: \"\n",
    "prompt += \"\\nEnter 'quit' to end program.\"\n",
    "\n",
    "message = \"\"\n",
    "while message != 'quit':\n",
    "    message = input(prompt).lower()\n",
    "    print(message.title())"
   ]
  },
  {
   "cell_type": "code",
   "execution_count": 5,
   "metadata": {},
   "outputs": [
    {
     "name": "stdout",
     "output_type": "stream",
     "text": [
      "\n",
      "Tell me something, I will repeat it back to you: \n",
      "Enter 'quit' to end program. Hello\n",
      "Hello\n",
      "\n",
      "Tell me something, I will repeat it back to you: \n",
      "Enter 'quit' to end program. HI\n",
      "Hi\n",
      "\n",
      "Tell me something, I will repeat it back to you: \n",
      "Enter 'quit' to end program. quit\n"
     ]
    }
   ],
   "source": [
    "prompt = \"\\nTell me something, I will repeat it back to you: \"\n",
    "prompt += \"\\nEnter 'quit' to end program. \"\n",
    "\n",
    "message = \"\"\n",
    "\n",
    "while message != 'quit':\n",
    "    message = input(prompt).lower()\n",
    "    if message != 'quit':\n",
    "        print(message.title())"
   ]
  },
  {
   "cell_type": "markdown",
   "metadata": {},
   "source": [
    "Using a Flag"
   ]
  },
  {
   "cell_type": "code",
   "execution_count": 7,
   "metadata": {},
   "outputs": [
    {
     "name": "stdout",
     "output_type": "stream",
     "text": [
      "\n",
      "Tell me something, I will repeat it back to you: \n",
      "Enter 'quit' to end program. HI everyone\n",
      "Hi Everyone\n",
      "\n",
      "Tell me something, I will repeat it back to you: \n",
      "Enter 'quit' to end program. hello python\n",
      "Hello Python\n",
      "\n",
      "Tell me something, I will repeat it back to you: \n",
      "Enter 'quit' to end program. Quit\n"
     ]
    }
   ],
   "source": [
    "prompt = \"\\nTell me something, I will repeat it back to you: \"\n",
    "prompt += \"\\nEnter 'quit' to end program. \"\n",
    "\n",
    "flag = True\n",
    "while flag:\n",
    "    message = input(prompt).lower()\n",
    "    \n",
    "    if message == 'quit':\n",
    "        flag = False\n",
    "    else:\n",
    "        print(message.title())"
   ]
  },
  {
   "cell_type": "markdown",
   "metadata": {},
   "source": [
    "Using Break to exit the Loop"
   ]
  },
  {
   "cell_type": "code",
   "execution_count": 8,
   "metadata": {},
   "outputs": [
    {
     "name": "stdout",
     "output_type": "stream",
     "text": [
      "\n",
      "please enter the name of a city you have visited:\n",
      "(enter 'quit' when you are finished.) london\n",
      "London\n",
      "\n",
      "please enter the name of a city you have visited:\n",
      "(enter 'quit' when you are finished.) new york\n",
      "New York\n",
      "\n",
      "please enter the name of a city you have visited:\n",
      "(enter 'quit' when you are finished.) quit\n"
     ]
    }
   ],
   "source": [
    "prompt = \"\\nPlease enter the name of a city you have visited:\"\n",
    "prompt += \"\\n(Enter 'quit' when you are finished.) \"\n",
    "\n",
    "while True:\n",
    "    city = input(prompt.lower())\n",
    "    \n",
    "    if city == 'quit':\n",
    "        break\n",
    "    else:\n",
    "        print(city.title())"
   ]
  },
  {
   "cell_type": "markdown",
   "metadata": {},
   "source": [
    "Using continue in a loop"
   ]
  },
  {
   "cell_type": "code",
   "execution_count": 3,
   "metadata": {},
   "outputs": [
    {
     "name": "stdout",
     "output_type": "stream",
     "text": [
      "1\n",
      "3\n",
      "5\n",
      "7\n",
      "9\n"
     ]
    }
   ],
   "source": [
    "currentNum = 0\n",
    "\n",
    "while currentNum < 10:\n",
    "    currentNum += 1\n",
    "    if currentNum % 2 == 0:\n",
    "        continue\n",
    "    else:\n",
    "        print(currentNum)"
   ]
  },
  {
   "cell_type": "markdown",
   "metadata": {},
   "source": [
    "Avoiding Infinite Loop"
   ]
  },
  {
   "cell_type": "code",
   "execution_count": 4,
   "metadata": {},
   "outputs": [
    {
     "name": "stdout",
     "output_type": "stream",
     "text": [
      "1\n",
      "2\n",
      "3\n",
      "4\n",
      "5\n"
     ]
    }
   ],
   "source": [
    "x = 1\n",
    "\n",
    "while x <= 5:\n",
    "    print(x)\n",
    "    x += 1"
   ]
  },
  {
   "cell_type": "code",
   "execution_count": 6,
   "metadata": {},
   "outputs": [],
   "source": [
    "#This loop runs forever, as while loop needs a false to stop and in this code you can see that\n",
    "#the condition is always true and the code will run forever.\n",
    "#x = 1\n",
    "#while x <= 5:\n",
    "#    print(x)"
   ]
  },
  {
   "cell_type": "markdown",
   "metadata": {},
   "source": [
    "Exercise"
   ]
  },
  {
   "cell_type": "markdown",
   "metadata": {},
   "source": [
    "7-4. Pizza Toppings: Write a loop that prompts the user to enter a series of\n",
    "pizza toppings until they enter a 'quit' value. As they enter each topping,\n",
    "print a message saying you’ll add that topping to their pizza."
   ]
  },
  {
   "cell_type": "code",
   "execution_count": 9,
   "metadata": {},
   "outputs": [
    {
     "name": "stdout",
     "output_type": "stream",
     "text": [
      "\n",
      "Enter the topping you like to add on pizza:\n",
      "(Enter 'quit' to stop)mushrooms\n",
      "\n",
      "Adding Mushrooms to your pizza.\n",
      "\n",
      "Enter the topping you like to add on pizza:\n",
      "(Enter 'quit' to stop)extra cheese\n",
      "\n",
      "Adding Extra Cheese to your pizza.\n",
      "\n",
      "Enter the topping you like to add on pizza:\n",
      "(Enter 'quit' to stop)quit\n",
      "\n",
      "Your pizza will be ready in 10 minutes.\n"
     ]
    }
   ],
   "source": [
    "prompt = \"\\nEnter the topping you like to add on pizza:\"\n",
    "prompt += \"\\n(Enter 'quit' to stop)\"\n",
    "\n",
    "flag = True\n",
    "\n",
    "while flag:\n",
    "    topping = input(prompt).lower()\n",
    "    if topping == 'quit':\n",
    "        print(\"\\nYour pizza will be ready in 10 minutes.\")\n",
    "        flag = False\n",
    "    else:\n",
    "        print(f\"\\nAdding {topping.title()} to your pizza.\")"
   ]
  },
  {
   "cell_type": "markdown",
   "metadata": {},
   "source": [
    "7-5. Movie Tickets: A movie theater charges different ticket prices depending on\n",
    "a person’s age. If a person is under the age of 3, the ticket is free; if they are\n",
    "between 3 and 12, the ticket is $ 10; and if they are over age 12, the ticket is\n",
    "$ 15. Write a loop in which you ask users their age, and then tell them the cost\n",
    "of their movie ticket."
   ]
  },
  {
   "cell_type": "code",
   "execution_count": 12,
   "metadata": {},
   "outputs": [
    {
     "name": "stdout",
     "output_type": "stream",
     "text": [
      "\n",
      "Enter your age:\n",
      "(Enter 'quit' to exit) 2\n",
      "\n",
      "The ticket is free.\n",
      "\n",
      "Enter your age:\n",
      "(Enter 'quit' to exit) 6\n",
      "\n",
      "The ticket is of $10.\n",
      "\n",
      "Enter your age:\n",
      "(Enter 'quit' to exit) 25\n",
      "\n",
      "The ticket is of $15\n",
      "\n",
      "Enter your age:\n",
      "(Enter 'quit' to exit) quit\n",
      "\n",
      "You may pay the cost and proceed.\n"
     ]
    }
   ],
   "source": [
    "prompt = \"\\nEnter your age:\\n(Enter 'quit' to exit) \"\n",
    "\n",
    "flag = True\n",
    "\n",
    "while flag:\n",
    "    age = input(prompt).lower()\n",
    "    if age == 'quit':\n",
    "        print('\\nYou may pay the cost and proceed.')\n",
    "        flag = False\n",
    "    elif int(age) < 3:\n",
    "        print(\"\\nThe ticket is free.\")\n",
    "    elif int(age) < 12:\n",
    "        print(\"\\nThe ticket is of $10.\")\n",
    "    else:\n",
    "        print(\"\\nThe ticket is of $15\")\n",
    "\n"
   ]
  },
  {
   "cell_type": "markdown",
   "metadata": {},
   "source": [
    "Using a while Loop with lists and dictionaries: Moving items from one list to another"
   ]
  },
  {
   "cell_type": "code",
   "execution_count": 13,
   "metadata": {},
   "outputs": [
    {
     "name": "stdout",
     "output_type": "stream",
     "text": [
      "\n",
      "Verifying Alice\n",
      "\n",
      "Verifying Brian\n",
      "\n",
      "Verifying Alan\n",
      "\n",
      "Following users have been confirmed:\n",
      "Alice\n",
      "Brian\n",
      "Alan\n"
     ]
    }
   ],
   "source": [
    "unconfirmedUsers = ['alan', 'brian' , 'alice']\n",
    "confirmedUsers = []\n",
    "\n",
    "while unconfirmedUsers:\n",
    "    currentUser = unconfirmedUsers.pop()\n",
    "    print(f'\\nVerifying {currentUser.title()}')\n",
    "    confirmedUsers.append(currentUser)\n",
    "    \n",
    "print(\"\\nFollowing users have been confirmed:\")\n",
    "for user in confirmedUsers:\n",
    "    print(user.title())"
   ]
  },
  {
   "cell_type": "markdown",
   "metadata": {},
   "source": [
    "Removing all instances os specific values from a list"
   ]
  },
  {
   "cell_type": "code",
   "execution_count": 14,
   "metadata": {},
   "outputs": [
    {
     "name": "stdout",
     "output_type": "stream",
     "text": [
      "['dog', 'cat', 'dog', 'goldfish', 'cat', 'rabbit', 'cat']\n",
      "['dog', 'dog', 'goldfish', 'rabbit']\n"
     ]
    }
   ],
   "source": [
    "pets = ['dog', 'cat', 'dog', 'goldfish', 'cat', 'rabbit', 'cat']\n",
    "print(pets)\n",
    "\n",
    "while 'cat' in pets:\n",
    "    pets.remove('cat')\n",
    "    \n",
    "print(pets)"
   ]
  },
  {
   "cell_type": "markdown",
   "metadata": {},
   "source": [
    "Filling a dictionary with user input"
   ]
  },
  {
   "cell_type": "code",
   "execution_count": 17,
   "metadata": {},
   "outputs": [
    {
     "name": "stdout",
     "output_type": "stream",
     "text": [
      "Enter your name: alan\n",
      "Enter the country you would like to visit: spain\n",
      "Do anyone else want to take the poll? (y/n)y\n",
      "Enter your name: gary\n",
      "Enter the country you would like to visit: germany\n",
      "Do anyone else want to take the poll? (y/n)g\n",
      "Please input correct command\n",
      "Do anyone else want to take the poll? (y/n)Y\n",
      "Enter your name: larry\n",
      "Enter the country you would like to visit: russia\n",
      "Do anyone else want to take the poll? (y/n)n\n",
      "\n",
      "---Poll Results---\n",
      "\n",
      "Alan would love to visit Spain.\n",
      "\n",
      "Gary would love to visit Germany.\n",
      "\n",
      "Larry would love to visit Russia.\n"
     ]
    }
   ],
   "source": [
    "responses = {}\n",
    "\n",
    "flag = True\n",
    "\n",
    "while flag:\n",
    "    name = input('Enter your name: ').lower()\n",
    "    response = input('Enter the country you would like to visit: ').lower()\n",
    "    \n",
    "    responses[name] = response\n",
    "    \n",
    "    repFlag = True\n",
    "    while repFlag:\n",
    "        repeat = input('Do anyone else want to take the poll? (y/n)').lower()\n",
    "        if repeat == 'y':\n",
    "            repFlag = False\n",
    "        elif repeat == 'n':\n",
    "            flag = False\n",
    "            repFlag = False\n",
    "        else:\n",
    "            print(\"Please input correct command\")\n",
    "\n",
    "print(\"\\n---Poll Results---\")\n",
    "for k, v in responses.items():\n",
    "    print(f\"\\n{k.title()} would love to visit {v.title()}.\")"
   ]
  },
  {
   "cell_type": "markdown",
   "metadata": {},
   "source": [
    "Exercise"
   ]
  },
  {
   "cell_type": "markdown",
   "metadata": {},
   "source": [
    "7-8. Deli: Make a list called sandwich_orders and fill it with the names of various\n",
    "sandwiches. Then make an empty list called finished_sandwiches. Loop\n",
    "through the list of sandwich orders and print a message for each order, such\n",
    "as I made your tuna sandwich. As each sandwich is made, move it to the list\n",
    "of finished sandwiches. After all the sandwiches have been made, print a\n",
    "message listing each sandwich that was made."
   ]
  },
  {
   "cell_type": "code",
   "execution_count": 19,
   "metadata": {},
   "outputs": [
    {
     "name": "stdout",
     "output_type": "stream",
     "text": [
      "\n",
      "Spicy sandwich is ready to be served.\n",
      "\n",
      "Club sandwich is ready to be served.\n",
      "\n",
      "Bbq sandwich is ready to be served.\n",
      "\n",
      "Finished orders:\n",
      "Spicy Sandwich\n",
      "Club Sandwich\n",
      "Bbq Sandwich\n"
     ]
    }
   ],
   "source": [
    "sandwichOrders = ['bbq' , 'club', 'spicy']\n",
    "finishedOrders = []\n",
    "\n",
    "while sandwichOrders:\n",
    "    currentOrder = sandwichOrders.pop()\n",
    "    finishedOrders.append(currentOrder)\n",
    "    print(f\"\\n{currentOrder.title()} sandwich is ready to be served.\")\n",
    "    \n",
    "print('\\nFinished orders:')\n",
    "for order in finishedOrders:\n",
    "    print(f\"{order.title()} Sandwich\")"
   ]
  },
  {
   "cell_type": "markdown",
   "metadata": {},
   "source": [
    "7-9. No Pastrami: Using the list sandwich_orders from Exercise 7-8, make sure\n",
    "the sandwich 'pastrami' appears in the list at least three times. Add code\n",
    "near the beginning of your program to print a message saying the deli has\n",
    "run out of pastrami, and then use a while loop to remove all occurrences of\n",
    "'pastrami' from sandwich_orders. Make sure no pastrami sandwiches end up\n",
    "in finished_sandwiches."
   ]
  },
  {
   "cell_type": "code",
   "execution_count": 20,
   "metadata": {},
   "outputs": [
    {
     "name": "stdout",
     "output_type": "stream",
     "text": [
      "We are out of Pastorami Sandwiches.\n",
      "\n",
      "Spicy sandwich is ready to be served.\n",
      "\n",
      "Club sandwich is ready to be served.\n",
      "\n",
      "Bbq sandwich is ready to be served.\n",
      "\n",
      "Finished orders:\n",
      "Spicy Sandwich\n",
      "Club Sandwich\n",
      "Bbq Sandwich\n"
     ]
    }
   ],
   "source": [
    "sandwichOrders = ['bbq' , 'pastorami', 'club', 'pastorami', 'spicy', 'pastorami']\n",
    "finishedOrders = []\n",
    "\n",
    "print('We are out of Pastorami Sandwiches.')\n",
    "\n",
    "while 'pastorami' in sandwichOrders:\n",
    "    sandwichOrders.remove('pastorami')\n",
    "\n",
    "while sandwichOrders:\n",
    "    currentOrder = sandwichOrders.pop()\n",
    "    finishedOrders.append(currentOrder)\n",
    "    print(f\"\\n{currentOrder.title()} sandwich is ready to be served.\")\n",
    "    \n",
    "print('\\nFinished orders:')\n",
    "for order in finishedOrders:\n",
    "    print(f\"{order.title()} Sandwich\")"
   ]
  },
  {
   "cell_type": "markdown",
   "metadata": {},
   "source": [
    "7-10. Dream Vacation: Write a program that polls users about their dream\n",
    "vacation. Write a prompt similar to If you could visit one place in the world,\n",
    "where would you go? Include a block of code that prints the results of the poll."
   ]
  },
  {
   "cell_type": "code",
   "execution_count": 24,
   "metadata": {},
   "outputs": [
    {
     "name": "stdout",
     "output_type": "stream",
     "text": [
      "Enter your Name: john\n",
      "If you could visit one place in the world where would you go?america\n",
      "Do anyone else want to take the poll? (y/n)y\n",
      "Enter your Name: kevin\n",
      "If you could visit one place in the world where would you go?kenya\n",
      "Do anyone else want to take the poll? (y/n)h\n",
      "\n",
      "Enter the correct command.\n",
      "Do anyone else want to take the poll? (y/n)y\n",
      "Enter your Name: danny\n",
      "If you could visit one place in the world where would you go?denmark\n",
      "Do anyone else want to take the poll? (y/n)n\n",
      "---Polls Result---\n",
      "\n",
      "John would like to visit America\n",
      "\n",
      "Kevin would like to visit Kenya\n",
      "\n",
      "Danny would like to visit Denmark\n"
     ]
    }
   ],
   "source": [
    "polls = {}\n",
    "prompt = \"If you could visit one place in the world where would you go?\"\n",
    "\n",
    "flag = True\n",
    "\n",
    "while flag:\n",
    "    name = input('Enter your Name: ').lower()\n",
    "    place = input(prompt).lower()\n",
    "    polls[name] = place\n",
    "    \n",
    "    repFlag = True\n",
    "    while repFlag:\n",
    "        repeat = input('Do anyone else want to take the poll? (y/n)').lower()\n",
    "        if repeat == 'y':\n",
    "            repFlag = False\n",
    "        elif repeat == 'n':\n",
    "            flag = False\n",
    "            repFlag = False\n",
    "        else:\n",
    "            print('\\nEnter the correct command.')\n",
    "\n",
    "print(\\n\"---Polls Result---\")\n",
    "for k, v in polls.items():\n",
    "    print(f\"\\n{k.title()} would like to visit {v.title()}\")"
   ]
  }
 ],
 "metadata": {
  "kernelspec": {
   "display_name": "Python 3",
   "language": "python",
   "name": "python3"
  },
  "language_info": {
   "codemirror_mode": {
    "name": "ipython",
    "version": 3
   },
   "file_extension": ".py",
   "mimetype": "text/x-python",
   "name": "python",
   "nbconvert_exporter": "python",
   "pygments_lexer": "ipython3",
   "version": "3.7.4"
  }
 },
 "nbformat": 4,
 "nbformat_minor": 2
}
