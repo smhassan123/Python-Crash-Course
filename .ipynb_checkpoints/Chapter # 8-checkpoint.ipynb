{
 "cells": [
  {
   "cell_type": "markdown",
   "metadata": {},
   "source": [
    "# Functions"
   ]
  },
  {
   "cell_type": "markdown",
   "metadata": {},
   "source": [
    "Defining a Function"
   ]
  },
  {
   "cell_type": "code",
   "execution_count": 2,
   "metadata": {},
   "outputs": [
    {
     "name": "stdout",
     "output_type": "stream",
     "text": [
      "Hello\n"
     ]
    }
   ],
   "source": [
    "def greetUser():\n",
    "    print('Hello')\n",
    "    \n",
    "greetUser()"
   ]
  },
  {
   "cell_type": "markdown",
   "metadata": {},
   "source": [
    "Passing information to a function"
   ]
  },
  {
   "cell_type": "code",
   "execution_count": 3,
   "metadata": {},
   "outputs": [
    {
     "name": "stdout",
     "output_type": "stream",
     "text": [
      "Hello, Jesse!\n"
     ]
    }
   ],
   "source": [
    "def greetUser(username):\n",
    "    print(f\"Hello, {username.title()}!\")\n",
    "\n",
    "greetUser('jesse')"
   ]
  },
  {
   "cell_type": "markdown",
   "metadata": {},
   "source": [
    "Exercise"
   ]
  },
  {
   "cell_type": "markdown",
   "metadata": {},
   "source": [
    "8-1. Message: Write a function called display_message() that prints one sentence\n",
    "telling everyone what you are learning about in this chapter. Call the\n",
    "function, and make sure the message displays correctly."
   ]
  },
  {
   "cell_type": "code",
   "execution_count": 4,
   "metadata": {},
   "outputs": [
    {
     "name": "stdout",
     "output_type": "stream",
     "text": [
      "I'm learning Functions in this chapter.\n"
     ]
    }
   ],
   "source": [
    "def displayMessage():\n",
    "    print(\"I'm learning Functions in this chapter.\")\n",
    "    \n",
    "displayMessage()"
   ]
  },
  {
   "cell_type": "markdown",
   "metadata": {},
   "source": [
    "8-2. Favorite Book: Write a function called favorite_book() that accepts one\n",
    "parameter, title. The function should print a message, such as One of my\n",
    "favorite books is Alice in Wonderland. Call the function, making sure to\n",
    "include a book title as an argument in the function call."
   ]
  },
  {
   "cell_type": "code",
   "execution_count": 5,
   "metadata": {},
   "outputs": [
    {
     "name": "stdout",
     "output_type": "stream",
     "text": [
      "Alice In Wonderland is my favorite book.\n"
     ]
    }
   ],
   "source": [
    "def favBook(title):\n",
    "    print(f\"{title.title()} is my favorite book.\")\n",
    "    \n",
    "favBook('alice in wonderland')"
   ]
  },
  {
   "cell_type": "markdown",
   "metadata": {},
   "source": [
    "Passing arguments: Positional arguments"
   ]
  },
  {
   "cell_type": "code",
   "execution_count": 9,
   "metadata": {},
   "outputs": [
    {
     "name": "stdout",
     "output_type": "stream",
     "text": [
      "\n",
      "I have a Dog.\n",
      "My Dog's name is Scooby Doo.\n"
     ]
    }
   ],
   "source": [
    "def describePet( animalType, petName ):\n",
    "    print(f\"\\nI have a {animalType.title()}.\")\n",
    "    print(f\"My {animalType.title()}'s name is {petName.title()}.\")\n",
    "    \n",
    "describePet('dog' , 'Scooby Doo')"
   ]
  },
  {
   "cell_type": "markdown",
   "metadata": {},
   "source": [
    "Multiple function calls"
   ]
  },
  {
   "cell_type": "code",
   "execution_count": 10,
   "metadata": {},
   "outputs": [
    {
     "name": "stdout",
     "output_type": "stream",
     "text": [
      "\n",
      "I have a Cat.\n",
      "My Cat's name is Jack.\n",
      "\n",
      "I have a Mouse.\n",
      "My Mouse's name is Beany.\n",
      "\n",
      "I have a Parrot.\n",
      "My Parrot's name is Scrappy.\n"
     ]
    }
   ],
   "source": [
    "describePet('cat' , 'jack')\n",
    "describePet('mouse' , 'beany')\n",
    "describePet('parrot' , 'Scrappy')"
   ]
  },
  {
   "cell_type": "markdown",
   "metadata": {},
   "source": [
    "Order matters in positional arguments"
   ]
  },
  {
   "cell_type": "code",
   "execution_count": 11,
   "metadata": {},
   "outputs": [
    {
     "name": "stdout",
     "output_type": "stream",
     "text": [
      "\n",
      "I have a Scooby Doo.\n",
      "My Scooby Doo's name is Dog.\n"
     ]
    }
   ],
   "source": [
    "describePet('Scooby Doo', 'dog')"
   ]
  },
  {
   "cell_type": "markdown",
   "metadata": {},
   "source": [
    "Keyword arguments"
   ]
  },
  {
   "cell_type": "code",
   "execution_count": 12,
   "metadata": {},
   "outputs": [
    {
     "name": "stdout",
     "output_type": "stream",
     "text": [
      "\n",
      "I have a Dog.\n",
      "My Dog's name is Scooby Doo.\n"
     ]
    }
   ],
   "source": [
    "describePet(petName = 'Scooby Doo', animalType= 'dog')"
   ]
  },
  {
   "cell_type": "markdown",
   "metadata": {},
   "source": [
    "Default values"
   ]
  },
  {
   "cell_type": "code",
   "execution_count": 15,
   "metadata": {},
   "outputs": [
    {
     "name": "stdout",
     "output_type": "stream",
     "text": [
      "\n",
      "I have a Dog.\n",
      "My Dog's name is Rollie.\n"
     ]
    }
   ],
   "source": [
    "def describePet( petName , animalType = 'dog' ):\n",
    "    print(f\"\\nI have a {animalType.title()}.\")\n",
    "    print(f\"My {animalType.title()}'s name is {petName.title()}.\")\n",
    "    \n",
    "describePet(petName= 'rollie')"
   ]
  },
  {
   "cell_type": "code",
   "execution_count": 16,
   "metadata": {},
   "outputs": [
    {
     "name": "stdout",
     "output_type": "stream",
     "text": [
      "\n",
      "I have a Dog.\n",
      "My Dog's name is Scooby Doo.\n"
     ]
    }
   ],
   "source": [
    "describePet('Scooby doo')"
   ]
  },
  {
   "cell_type": "code",
   "execution_count": 17,
   "metadata": {},
   "outputs": [
    {
     "name": "stdout",
     "output_type": "stream",
     "text": [
      "\n",
      "I have a Cat.\n",
      "My Cat's name is Jack.\n"
     ]
    }
   ],
   "source": [
    "describePet( petName= 'jack', animalType= 'cat')"
   ]
  },
  {
   "cell_type": "markdown",
   "metadata": {},
   "source": [
    "Equivalent function calls"
   ]
  },
  {
   "cell_type": "code",
   "execution_count": 18,
   "metadata": {},
   "outputs": [
    {
     "name": "stdout",
     "output_type": "stream",
     "text": [
      "\n",
      "I have a Dog.\n",
      "My Dog's name is Willie.\n",
      "\n",
      "I have a Dog.\n",
      "My Dog's name is Willie.\n",
      "\n",
      "I have a Hamster.\n",
      "My Hamster's name is Harry.\n",
      "\n",
      "I have a Hamster.\n",
      "My Hamster's name is Harry.\n",
      "\n",
      "I have a Hamster.\n",
      "My Hamster's name is Harry.\n"
     ]
    }
   ],
   "source": [
    "describePet('willie')\n",
    "describePet(petName='willie')\n",
    "\n",
    "describePet('harry', 'hamster')\n",
    "describePet(petName='harry', animalType='hamster')\n",
    "describePet(animalType='hamster', petName='harry')"
   ]
  },
  {
   "cell_type": "markdown",
   "metadata": {},
   "source": [
    "Avoiding Argument Errors"
   ]
  },
  {
   "cell_type": "code",
   "execution_count": 20,
   "metadata": {},
   "outputs": [
    {
     "ename": "TypeError",
     "evalue": "describePet() missing 2 required positional arguments: 'animalType' and 'petName'",
     "output_type": "error",
     "traceback": [
      "\u001b[1;31m---------------------------------------------------------------------------\u001b[0m",
      "\u001b[1;31mTypeError\u001b[0m                                 Traceback (most recent call last)",
      "\u001b[1;32m<ipython-input-20-bc124f57c5ec>\u001b[0m in \u001b[0;36m<module>\u001b[1;34m\u001b[0m\n\u001b[0;32m      3\u001b[0m     \u001b[0mprint\u001b[0m\u001b[1;33m(\u001b[0m\u001b[1;34mf\"My {animalType.title()}'s name is {petName.title()}.\"\u001b[0m\u001b[1;33m)\u001b[0m\u001b[1;33m\u001b[0m\u001b[1;33m\u001b[0m\u001b[0m\n\u001b[0;32m      4\u001b[0m \u001b[1;33m\u001b[0m\u001b[0m\n\u001b[1;32m----> 5\u001b[1;33m \u001b[0mdescribePet\u001b[0m\u001b[1;33m(\u001b[0m\u001b[1;33m)\u001b[0m\u001b[1;33m\u001b[0m\u001b[1;33m\u001b[0m\u001b[0m\n\u001b[0m",
      "\u001b[1;31mTypeError\u001b[0m: describePet() missing 2 required positional arguments: 'animalType' and 'petName'"
     ]
    }
   ],
   "source": [
    "def describePet( animalType, petName ):\n",
    "    print(f\"\\nI have a {animalType.title()}.\")\n",
    "    print(f\"My {animalType.title()}'s name is {petName.title()}.\")\n",
    "\n",
    "describePet()"
   ]
  },
  {
   "cell_type": "markdown",
   "metadata": {},
   "source": [
    "Exercise"
   ]
  },
  {
   "cell_type": "markdown",
   "metadata": {},
   "source": [
    "8-3. T-Shirt: Write a function called make_shirt() that accepts a size and the\n",
    "text of a message that should be printed on the shirt. The function should print\n",
    "a sentence summarizing the size of the shirt and the message printed on it.\n",
    "Call the function once using positional arguments to make a shirt. Call the\n",
    "function a second time using keyword arguments."
   ]
  },
  {
   "cell_type": "code",
   "execution_count": 21,
   "metadata": {},
   "outputs": [
    {
     "name": "stdout",
     "output_type": "stream",
     "text": [
      "Size of T-Shirt is Medium.\n",
      "Print: Jack Of All Trades.\n"
     ]
    }
   ],
   "source": [
    "def makeShirt(size, message):\n",
    "    print(f\"Size of T-Shirt is {size.title()}.\")\n",
    "    print(f\"Print: {message.title()}.\")\n",
    "    \n",
    "makeShirt('medium', 'jack of all trades')"
   ]
  },
  {
   "cell_type": "code",
   "execution_count": 22,
   "metadata": {},
   "outputs": [
    {
     "name": "stdout",
     "output_type": "stream",
     "text": [
      "Size of T-Shirt is Large.\n",
      "Print: Jack Of All Trades.\n"
     ]
    }
   ],
   "source": [
    "makeShirt(message= 'jack of all trades', size= 'large')"
   ]
  },
  {
   "cell_type": "markdown",
   "metadata": {},
   "source": [
    "8-4. Large Shirts: Modify the make_shirt() function so that shirts are large\n",
    "by default with a message that reads I love Python. Make a large shirt and a\n",
    "medium shirt with the default message, and a shirt of any size with a different\n",
    "message."
   ]
  },
  {
   "cell_type": "code",
   "execution_count": 24,
   "metadata": {},
   "outputs": [
    {
     "name": "stdout",
     "output_type": "stream",
     "text": [
      "Size of T-Shirt is Large.\n",
      "Print: I Love Python.\n"
     ]
    }
   ],
   "source": [
    "def makeShirt(size= \"large\", message= \"i love python\"):\n",
    "    print(f\"Size of T-Shirt is {size.title()}.\")\n",
    "    print(f\"Print: {message.title()}.\")\n",
    "    \n",
    "makeShirt()"
   ]
  },
  {
   "cell_type": "code",
   "execution_count": 25,
   "metadata": {},
   "outputs": [
    {
     "name": "stdout",
     "output_type": "stream",
     "text": [
      "Size of T-Shirt is Large.\n",
      "Print: Python Is Best.\n"
     ]
    }
   ],
   "source": [
    "makeShirt(message= 'python is best')"
   ]
  },
  {
   "cell_type": "code",
   "execution_count": 26,
   "metadata": {},
   "outputs": [
    {
     "name": "stdout",
     "output_type": "stream",
     "text": [
      "Size of T-Shirt is Medium.\n",
      "Print: I Love Python.\n"
     ]
    }
   ],
   "source": [
    "makeShirt(size= 'medium')"
   ]
  },
  {
   "cell_type": "code",
   "execution_count": null,
   "metadata": {},
   "outputs": [],
   "source": []
  }
 ],
 "metadata": {
  "kernelspec": {
   "display_name": "Python 3",
   "language": "python",
   "name": "python3"
  },
  "language_info": {
   "codemirror_mode": {
    "name": "ipython",
    "version": 3
   },
   "file_extension": ".py",
   "mimetype": "text/x-python",
   "name": "python",
   "nbconvert_exporter": "python",
   "pygments_lexer": "ipython3",
   "version": "3.7.4"
  }
 },
 "nbformat": 4,
 "nbformat_minor": 2
}
