{
 "cells": [
  {
   "cell_type": "markdown",
   "metadata": {},
   "source": [
    "# Dictionaries "
   ]
  },
  {
   "cell_type": "markdown",
   "metadata": {},
   "source": [
    "A simple dictionary"
   ]
  },
  {
   "cell_type": "code",
   "execution_count": 1,
   "metadata": {},
   "outputs": [
    {
     "name": "stdout",
     "output_type": "stream",
     "text": [
      "green\n",
      "5\n"
     ]
    }
   ],
   "source": [
    "alien0 = {'color': 'green', 'points': 5}\n",
    "\n",
    "print(alien0['color'])\n",
    "print(alien0['points'])"
   ]
  },
  {
   "cell_type": "markdown",
   "metadata": {},
   "source": [
    "Working with Dictionaries: Accessing Values in a Dictionary"
   ]
  },
  {
   "cell_type": "code",
   "execution_count": 2,
   "metadata": {},
   "outputs": [
    {
     "name": "stdout",
     "output_type": "stream",
     "text": [
      "green\n"
     ]
    }
   ],
   "source": [
    "alien0 = {'color': 'green'}\n",
    "\n",
    "print(alien0['color'])"
   ]
  },
  {
   "cell_type": "code",
   "execution_count": 6,
   "metadata": {},
   "outputs": [
    {
     "name": "stdout",
     "output_type": "stream",
     "text": [
      "You just earned 5 points!\n"
     ]
    }
   ],
   "source": [
    "alien0 = {'color': 'green', 'points': 5}\n",
    "\n",
    "newPoints = alien0['points']\n",
    "print(f'You just earned {newPoints} points!')"
   ]
  },
  {
   "cell_type": "markdown",
   "metadata": {},
   "source": [
    "Adding New Key-Value Pairs"
   ]
  },
  {
   "cell_type": "code",
   "execution_count": 7,
   "metadata": {},
   "outputs": [
    {
     "name": "stdout",
     "output_type": "stream",
     "text": [
      "{'color': 'green', 'points': 5, 'xPosition': 0, 'yPosition': 25}\n"
     ]
    }
   ],
   "source": [
    "alien0['xPosition'] = 0\n",
    "alien0['yPosition'] = 25\n",
    "print(alien0)"
   ]
  },
  {
   "cell_type": "markdown",
   "metadata": {},
   "source": [
    "Starting with an Empty Dictionary"
   ]
  },
  {
   "cell_type": "code",
   "execution_count": 8,
   "metadata": {},
   "outputs": [
    {
     "name": "stdout",
     "output_type": "stream",
     "text": [
      "{'color': 'green', 'points': 5}\n"
     ]
    }
   ],
   "source": [
    "alien0 = {}\n",
    "\n",
    "alien0['color'] = 'green'\n",
    "alien0['points'] = 5\n",
    "\n",
    "print(alien0)"
   ]
  },
  {
   "cell_type": "markdown",
   "metadata": {},
   "source": [
    "Modifying Values in a Dictionary"
   ]
  },
  {
   "cell_type": "code",
   "execution_count": 13,
   "metadata": {},
   "outputs": [
    {
     "name": "stdout",
     "output_type": "stream",
     "text": [
      "Alien color is green.\n",
      "Alien color is now yellow.\n"
     ]
    }
   ],
   "source": [
    "alien0 = {'color' : 'green'}\n",
    "print(f'Alien color is {alien0[\"color\"]}.')\n",
    "\n",
    "alien0['color'] = 'yellow'\n",
    "print(f'Alien color is now {alien0[\"color\"]}.')"
   ]
  },
  {
   "cell_type": "code",
   "execution_count": 3,
   "metadata": {},
   "outputs": [
    {
     "name": "stdout",
     "output_type": "stream",
     "text": [
      "Original x position: 0\n",
      "New x position: 2\n"
     ]
    }
   ],
   "source": [
    "alien0 = {'xPosition' : 0, 'yPosition' : 25, 'speed' : 'medium' }\n",
    "print(f'Original x position: {alien0[\"xPosition\"]}')\n",
    "      \n",
    "# Move alien to the right.\n",
    "# Determine how far to move the alien based on its current speed.\n",
    "if alien0['speed'] == 'slow':\n",
    "      xIncrement = 1\n",
    "elif alien0['speed'] == 'medium':\n",
    "      xIncrement = 2\n",
    "else:\n",
    "      xIncrement = 3 #this must be a fast alien\n",
    "\n",
    "alien0['xPosition'] += xIncrement #new position must be old plus the increment\n",
    "\n",
    "print(f'New x position: {alien0[\"xPosition\"]}')\n"
   ]
  },
  {
   "cell_type": "code",
   "execution_count": 4,
   "metadata": {},
   "outputs": [
    {
     "name": "stdout",
     "output_type": "stream",
     "text": [
      "Original x position: 0\n",
      "New x position: 3\n"
     ]
    }
   ],
   "source": [
    "alien0 = {'xPosition' : 0, 'yPosition' : 25, 'speed' : 'medium' }\n",
    "print(f'Original x position: {alien0[\"xPosition\"]}')\n",
    "alien0['speed'] = 'fast'\n",
    "\n",
    "# Move alien to the right.\n",
    "# Determine how far to move the alien based on its current speed.\n",
    "if alien0['speed'] == 'slow':\n",
    "      xIncrement = 1\n",
    "elif alien0['speed'] == 'medium':\n",
    "      xIncrement = 2\n",
    "else:\n",
    "      xIncrement = 3 #this must be a fast alien\n",
    "\n",
    "alien0['xPosition'] += xIncrement #new position must be old plus the increment\n",
    "\n",
    "print(f'New x position: {alien0[\"xPosition\"]}')"
   ]
  },
  {
   "cell_type": "markdown",
   "metadata": {},
   "source": [
    "Removing Key-Value Pairs:"
   ]
  },
  {
   "cell_type": "code",
   "execution_count": 5,
   "metadata": {},
   "outputs": [
    {
     "name": "stdout",
     "output_type": "stream",
     "text": [
      "{'color': 'green', 'points': 5}\n",
      "{'color': 'green'}\n"
     ]
    }
   ],
   "source": [
    "alien0 = {'color': 'green', 'points': 5}\n",
    "print(alien0)\n",
    "\n",
    "del alien0['points']\n",
    "print(alien0)"
   ]
  },
  {
   "cell_type": "markdown",
   "metadata": {},
   "source": [
    "A Dictionary of similar objects"
   ]
  },
  {
   "cell_type": "code",
   "execution_count": 11,
   "metadata": {},
   "outputs": [
    {
     "name": "stdout",
     "output_type": "stream",
     "text": [
      "Sarah's favorite language is C.\n"
     ]
    }
   ],
   "source": [
    "favLanguages = {\n",
    "    'jen': 'python',\n",
    "    'sarah': 'c',\n",
    "    'edward': 'ruby',\n",
    "    'phil': 'python'\n",
    "}\n",
    "\n",
    "print(f\"Sarah's favorite language is {favLanguages['sarah'].title()}.\")"
   ]
  },
  {
   "cell_type": "markdown",
   "metadata": {},
   "source": [
    "Exercise"
   ]
  },
  {
   "cell_type": "markdown",
   "metadata": {},
   "source": [
    "6-1. Person: Use a dictionary to store information about a person you know.\n",
    "Store their first name, last name, age, and the city in which they live. You\n",
    "should have keys such as first_name, last_name, age, and city. Print each\n",
    "piece of information stored in your dictionary."
   ]
  },
  {
   "cell_type": "code",
   "execution_count": 13,
   "metadata": {},
   "outputs": [
    {
     "name": "stdout",
     "output_type": "stream",
     "text": [
      "abc\n",
      "def\n",
      "25\n",
      "ghi\n"
     ]
    }
   ],
   "source": [
    "person1 = {\n",
    "    'firstName': 'abc',\n",
    "    'lastName': 'def',\n",
    "    'age': '25',\n",
    "    'city': 'ghi'\n",
    "}\n",
    "\n",
    "print(person1['firstName'])\n",
    "print(person1['lastName'])\n",
    "print(person1['age'])\n",
    "print(person1['city'])"
   ]
  },
  {
   "cell_type": "markdown",
   "metadata": {},
   "source": [
    "6-2. Favorite Numbers: Use a dictionary to store people’s favorite numbers.\n",
    "Think of five names, and use them as keys in your dictionary. Think of a favorite\n",
    "number for each person, and store each as a value in your dictionary. Print\n",
    "each person’s name and their favorite number. For even more fun, poll a few\n",
    "friends and get some actual data for your program."
   ]
  },
  {
   "cell_type": "code",
   "execution_count": 15,
   "metadata": {},
   "outputs": [
    {
     "name": "stdout",
     "output_type": "stream",
     "text": [
      "A's favorite number is 50.\n",
      "B's favorite number is 40.\n",
      "C's favorite number is 30.\n",
      "D's favorite number is 20.\n",
      "E's favorite number is 10.\n"
     ]
    }
   ],
   "source": [
    "favNumbers = {\n",
    "    'A': '50',\n",
    "    'B': '40',\n",
    "    'C': '30',\n",
    "    'D': '20',\n",
    "    'E': '10'\n",
    "}\n",
    "\n",
    "print(f\"A's favorite number is {favNumbers['A']}.\")\n",
    "print(f\"B's favorite number is {favNumbers['B']}.\")\n",
    "print(f\"C's favorite number is {favNumbers['C']}.\")\n",
    "print(f\"D's favorite number is {favNumbers['D']}.\")\n",
    "print(f\"E's favorite number is {favNumbers['E']}.\")"
   ]
  },
  {
   "cell_type": "markdown",
   "metadata": {},
   "source": [
    "6-3. Glossary: A Python dictionary can be used to model an actual dictionary.\n",
    "However, to avoid confusion, let’s call it a glossary.\n",
    "• Think of five programming words you’ve learned about in the previous\n",
    "chapters. Use these words as the keys in your glossary, and store their\n",
    "meanings as values.\n",
    "• Print each word and its meaning as neatly formatted output. You might\n",
    "print the word followed by a colon and then its meaning, or print the word\n",
    "on one line and then print its meaning indented on a second line. Use the\n",
    "newline character (\\n) to insert a blank line between each word-meaning\n",
    "pair in your output."
   ]
  },
  {
   "cell_type": "code",
   "execution_count": 16,
   "metadata": {},
   "outputs": [],
   "source": [
    "glossary = {\n",
    "    'print': 'It prints the output.',\n",
    "    'del': 'Deletes the value.',\n",
    "    'for': 'Loops through the provided data.',\n",
    "    'if': 'Tests the conditions.',\n",
    "    'elif': 'Tests the condition which is false on its above conditon.' \n",
    "}"
   ]
  },
  {
   "cell_type": "code",
   "execution_count": 17,
   "metadata": {},
   "outputs": [
    {
     "name": "stdout",
     "output_type": "stream",
     "text": [
      "print: It prints the output.\n",
      "\n",
      "del: Deletes the value.\n",
      "\n",
      "for: Loops through the provided data.\n",
      "\n",
      "if: Tests the conditions.\n",
      "\n",
      "elif: Tests the condition which is false on its above conditon.\n"
     ]
    }
   ],
   "source": [
    "print(f\"print: {glossary['print']}\")\n",
    "print(f\"\\ndel: {glossary['del']}\")\n",
    "print(f\"\\nfor: {glossary['for']}\")\n",
    "print(f\"\\nif: {glossary['if']}\")\n",
    "print(f\"\\nelif: {glossary['elif']}\")\n"
   ]
  },
  {
   "cell_type": "markdown",
   "metadata": {},
   "source": [
    "Looping through a Dictionary: Looping through all Key-Value Pairs"
   ]
  },
  {
   "cell_type": "code",
   "execution_count": 20,
   "metadata": {},
   "outputs": [
    {
     "name": "stdout",
     "output_type": "stream",
     "text": [
      "\n",
      "Key: username\n",
      "Value: efermi\n",
      "\n",
      "Key: first\n",
      "Value: enrico\n",
      "\n",
      "Key: last\n",
      "Value: fermi\n"
     ]
    }
   ],
   "source": [
    "user0 = {\n",
    "    'username': 'efermi',\n",
    "    'first': 'enrico',\n",
    "    'last': 'fermi',\n",
    "}\n",
    "for key, value in user0.items():\n",
    "    print(f'\\nKey: {key}')\n",
    "    print(f'Value: {value}')"
   ]
  },
  {
   "cell_type": "code",
   "execution_count": 26,
   "metadata": {},
   "outputs": [
    {
     "name": "stdout",
     "output_type": "stream",
     "text": [
      "Jen's favorite language is Python.\n",
      "Sarah's favorite language is C.\n",
      "Edward's favorite language is Ruby.\n",
      "Phil's favorite language is Python.\n"
     ]
    }
   ],
   "source": [
    "favLang = {\n",
    "    'jen': 'python',\n",
    "    'sarah': 'c',\n",
    "    'edward': 'ruby',\n",
    "    'phil': 'python',\n",
    "}\n",
    "\n",
    "for n , l in favLang.items():\n",
    "    print(f\"{n.title()}'s favorite language is {l.title()}.\")"
   ]
  },
  {
   "cell_type": "markdown",
   "metadata": {},
   "source": [
    "Looping through all keys in the Dictionary:"
   ]
  },
  {
   "cell_type": "code",
   "execution_count": 27,
   "metadata": {},
   "outputs": [
    {
     "name": "stdout",
     "output_type": "stream",
     "text": [
      "Jen\n",
      "Sarah\n",
      "Edward\n",
      "Phil\n"
     ]
    }
   ],
   "source": [
    "for name in favLang.keys():\n",
    "    print(name.title())"
   ]
  },
  {
   "cell_type": "code",
   "execution_count": 30,
   "metadata": {},
   "outputs": [
    {
     "name": "stdout",
     "output_type": "stream",
     "text": [
      "Jen\n",
      "Sarah\n",
      "  Hi Sarah, I see your favorite language is c.\n",
      "Edward\n",
      "Phil\n",
      "  Hi Phil, I see your favorite language is python.\n"
     ]
    }
   ],
   "source": [
    "friends = ['phil' , 'sarah']\n",
    "\n",
    "for name in favLang:\n",
    "    print(name.title())\n",
    "    if name in friends:\n",
    "        print(f\"  Hi {name.title()}, I see your favorite language is {favLang[name]}.\")"
   ]
  },
  {
   "cell_type": "code",
   "execution_count": 31,
   "metadata": {},
   "outputs": [
    {
     "name": "stdout",
     "output_type": "stream",
     "text": [
      "Erin, You are not in the list.\n"
     ]
    }
   ],
   "source": [
    "if 'erin' not in favLang.keys():\n",
    "    print('Erin, You are not in the list.')"
   ]
  },
  {
   "cell_type": "markdown",
   "metadata": {},
   "source": [
    "Looping through a Dictioanry's Keys in Order"
   ]
  },
  {
   "cell_type": "code",
   "execution_count": 32,
   "metadata": {},
   "outputs": [
    {
     "name": "stdout",
     "output_type": "stream",
     "text": [
      "Edward, Thank you for taking the poll.\n",
      "Jen, Thank you for taking the poll.\n",
      "Phil, Thank you for taking the poll.\n",
      "Sarah, Thank you for taking the poll.\n"
     ]
    }
   ],
   "source": [
    "for name in sorted(favLang.keys()):\n",
    "    print(f'{name.title()}, Thank you for taking the poll.')"
   ]
  },
  {
   "cell_type": "markdown",
   "metadata": {},
   "source": [
    "Looping through all Values in a Dictionary"
   ]
  },
  {
   "cell_type": "code",
   "execution_count": 33,
   "metadata": {},
   "outputs": [
    {
     "name": "stdout",
     "output_type": "stream",
     "text": [
      "The following languages were mentioned:\n",
      "Python\n",
      "C\n",
      "Ruby\n",
      "Python\n"
     ]
    }
   ],
   "source": [
    "print('The following languages were mentioned:')\n",
    "for lang in favLang.values():\n",
    "    print(lang.title())"
   ]
  },
  {
   "cell_type": "code",
   "execution_count": 34,
   "metadata": {},
   "outputs": [
    {
     "name": "stdout",
     "output_type": "stream",
     "text": [
      "The following languages were mentioned:\n",
      "Python\n",
      "C\n",
      "Ruby\n"
     ]
    }
   ],
   "source": [
    "print('The following languages were mentioned:')\n",
    " #set is similar to list except each item is unique, means no repetitions.\n",
    "for lang in set(favLang.values()):\n",
    "    print(lang.title())"
   ]
  },
  {
   "cell_type": "markdown",
   "metadata": {},
   "source": [
    "Exercise"
   ]
  },
  {
   "cell_type": "markdown",
   "metadata": {},
   "source": [
    "6-4. Glossary 2: Now that you know how to loop through a dictionary, clean\n",
    "up the code from Exercise 6-3 (page 102) by replacing your series of print\n",
    "statements with a loop that runs through the dictionary’s keys and values.\n",
    "When you’re sure that your loop works, add five more Python terms to your\n",
    "glossary. When you run your program again, these new words and meanings\n",
    "should automatically be included in the output."
   ]
  },
  {
   "cell_type": "code",
   "execution_count": 3,
   "metadata": {},
   "outputs": [],
   "source": [
    "glossary = {\n",
    "    'print': 'It prints the output.',\n",
    "    'del': 'Deletes the value.',\n",
    "    'for': 'Loops through the provided data.',\n",
    "    'if': 'Tests the conditions.',\n",
    "    'elif': 'Tests the condition which is false on its above conditon.' \n",
    "}"
   ]
  },
  {
   "cell_type": "code",
   "execution_count": 4,
   "metadata": {},
   "outputs": [
    {
     "name": "stdout",
     "output_type": "stream",
     "text": [
      "print: It prints the output.\n",
      "del: Deletes the value.\n",
      "for: Loops through the provided data.\n",
      "if: Tests the conditions.\n",
      "elif: Tests the condition which is false on its above conditon.\n"
     ]
    }
   ],
   "source": [
    "for key, value in glossary.items():\n",
    "    print(f'{key}: {value}')"
   ]
  },
  {
   "cell_type": "markdown",
   "metadata": {},
   "source": [
    "6-5. Rivers: Make a dictionary containing three major rivers and the country\n",
    "each river runs through. One key-value pair might be 'nile': 'egypt'.\n",
    "• Use a loop to print a sentence about each river, such as The Nile runs\n",
    "through Egypt.\n",
    "• Use a loop to print the name of each river included in the dictionary.\n",
    "• Use a loop to print the name of each country included in the dictionary."
   ]
  },
  {
   "cell_type": "code",
   "execution_count": null,
   "metadata": {},
   "outputs": [],
   "source": [
    "rivers = {\n",
    "    \"nile\": \"egypt\",\n",
    "    'yellow river': 'china',\n",
    "    \n",
    "}"
   ]
  }
 ],
 "metadata": {
  "kernelspec": {
   "display_name": "Python 3",
   "language": "python",
   "name": "python3"
  },
  "language_info": {
   "codemirror_mode": {
    "name": "ipython",
    "version": 3
   },
   "file_extension": ".py",
   "mimetype": "text/x-python",
   "name": "python",
   "nbconvert_exporter": "python",
   "pygments_lexer": "ipython3",
   "version": "3.7.4"
  }
 },
 "nbformat": 4,
 "nbformat_minor": 2
}
