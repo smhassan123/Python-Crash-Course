{
 "cells": [
  {
   "cell_type": "markdown",
   "metadata": {},
   "source": [
    "# Dictionaries "
   ]
  },
  {
   "cell_type": "markdown",
   "metadata": {},
   "source": [
    "A simple dictionary"
   ]
  },
  {
   "cell_type": "code",
   "execution_count": 1,
   "metadata": {},
   "outputs": [
    {
     "name": "stdout",
     "output_type": "stream",
     "text": [
      "green\n",
      "5\n"
     ]
    }
   ],
   "source": [
    "alien0 = {'color': 'green', 'points': 5}\n",
    "\n",
    "print(alien0['color'])\n",
    "print(alien0['points'])"
   ]
  },
  {
   "cell_type": "markdown",
   "metadata": {},
   "source": [
    "Working with Dictionaries: Accessing Values in a Dictionary"
   ]
  },
  {
   "cell_type": "code",
   "execution_count": 2,
   "metadata": {},
   "outputs": [
    {
     "name": "stdout",
     "output_type": "stream",
     "text": [
      "green\n"
     ]
    }
   ],
   "source": [
    "alien0 = {'color': 'green'}\n",
    "\n",
    "print(alien0['color'])"
   ]
  },
  {
   "cell_type": "code",
   "execution_count": 6,
   "metadata": {},
   "outputs": [
    {
     "name": "stdout",
     "output_type": "stream",
     "text": [
      "You just earned 5 points!\n"
     ]
    }
   ],
   "source": [
    "alien0 = {'color': 'green', 'points': 5}\n",
    "\n",
    "newPoints = alien0['points']\n",
    "print(f'You just earned {newPoints} points!')"
   ]
  },
  {
   "cell_type": "markdown",
   "metadata": {},
   "source": [
    "Adding New Key-Value Pairs"
   ]
  },
  {
   "cell_type": "code",
   "execution_count": 7,
   "metadata": {},
   "outputs": [
    {
     "name": "stdout",
     "output_type": "stream",
     "text": [
      "{'color': 'green', 'points': 5, 'xPosition': 0, 'yPosition': 25}\n"
     ]
    }
   ],
   "source": [
    "alien0['xPosition'] = 0\n",
    "alien0['yPosition'] = 25\n",
    "print(alien0)"
   ]
  },
  {
   "cell_type": "markdown",
   "metadata": {},
   "source": [
    "Starting with an Empty Dictionary"
   ]
  },
  {
   "cell_type": "code",
   "execution_count": 8,
   "metadata": {},
   "outputs": [
    {
     "name": "stdout",
     "output_type": "stream",
     "text": [
      "{'color': 'green', 'points': 5}\n"
     ]
    }
   ],
   "source": [
    "alien0 = {}\n",
    "\n",
    "alien0['color'] = 'green'\n",
    "alien0['points'] = 5\n",
    "\n",
    "print(alien0)"
   ]
  },
  {
   "cell_type": "markdown",
   "metadata": {},
   "source": [
    "Modifying Values in a Dictionary"
   ]
  },
  {
   "cell_type": "code",
   "execution_count": 13,
   "metadata": {},
   "outputs": [
    {
     "name": "stdout",
     "output_type": "stream",
     "text": [
      "Alien color is green.\n",
      "Alien color is now yellow.\n"
     ]
    }
   ],
   "source": [
    "alien0 = {'color' : 'green'}\n",
    "print(f'Alien color is {alien0[\"color\"]}.')\n",
    "\n",
    "alien0['color'] = 'yellow'\n",
    "print(f'Alien color is now {alien0[\"color\"]}.')"
   ]
  },
  {
   "cell_type": "code",
   "execution_count": 3,
   "metadata": {},
   "outputs": [
    {
     "name": "stdout",
     "output_type": "stream",
     "text": [
      "Original x position: 0\n",
      "New x position: 2\n"
     ]
    }
   ],
   "source": [
    "alien0 = {'xPosition' : 0, 'yPosition' : 25, 'speed' : 'medium' }\n",
    "print(f'Original x position: {alien0[\"xPosition\"]}')\n",
    "      \n",
    "# Move alien to the right.\n",
    "# Determine how far to move the alien based on its current speed.\n",
    "if alien0['speed'] == 'slow':\n",
    "      xIncrement = 1\n",
    "elif alien0['speed'] == 'medium':\n",
    "      xIncrement = 2\n",
    "else:\n",
    "      xIncrement = 3 #this must be a fast alien\n",
    "\n",
    "alien0['xPosition'] += xIncrement #new position must be old plus the increment\n",
    "\n",
    "print(f'New x position: {alien0[\"xPosition\"]}')\n"
   ]
  },
  {
   "cell_type": "code",
   "execution_count": 4,
   "metadata": {},
   "outputs": [
    {
     "name": "stdout",
     "output_type": "stream",
     "text": [
      "Original x position: 0\n",
      "New x position: 3\n"
     ]
    }
   ],
   "source": [
    "alien0 = {'xPosition' : 0, 'yPosition' : 25, 'speed' : 'medium' }\n",
    "print(f'Original x position: {alien0[\"xPosition\"]}')\n",
    "alien0['speed'] = 'fast'\n",
    "\n",
    "# Move alien to the right.\n",
    "# Determine how far to move the alien based on its current speed.\n",
    "if alien0['speed'] == 'slow':\n",
    "      xIncrement = 1\n",
    "elif alien0['speed'] == 'medium':\n",
    "      xIncrement = 2\n",
    "else:\n",
    "      xIncrement = 3 #this must be a fast alien\n",
    "\n",
    "alien0['xPosition'] += xIncrement #new position must be old plus the increment\n",
    "\n",
    "print(f'New x position: {alien0[\"xPosition\"]}')"
   ]
  },
  {
   "cell_type": "markdown",
   "metadata": {},
   "source": [
    "Removing Key-Value Pairs:"
   ]
  },
  {
   "cell_type": "code",
   "execution_count": 5,
   "metadata": {},
   "outputs": [
    {
     "name": "stdout",
     "output_type": "stream",
     "text": [
      "{'color': 'green', 'points': 5}\n",
      "{'color': 'green'}\n"
     ]
    }
   ],
   "source": [
    "alien0 = {'color': 'green', 'points': 5}\n",
    "print(alien0)\n",
    "\n",
    "del alien0['points']\n",
    "print(alien0)"
   ]
  },
  {
   "cell_type": "markdown",
   "metadata": {},
   "source": [
    "A Dictionary of similar objects"
   ]
  },
  {
   "cell_type": "code",
   "execution_count": 11,
   "metadata": {},
   "outputs": [
    {
     "name": "stdout",
     "output_type": "stream",
     "text": [
      "Sarah's favorite language is C.\n"
     ]
    }
   ],
   "source": [
    "favLanguages = {\n",
    "    'jen': 'python',\n",
    "    'sarah': 'c',\n",
    "    'edward': 'ruby',\n",
    "    'phil': 'python'\n",
    "}\n",
    "\n",
    "print(f\"Sarah's favorite language is {favLanguages['sarah'].title()}.\")"
   ]
  },
  {
   "cell_type": "markdown",
   "metadata": {},
   "source": [
    "Exercise"
   ]
  },
  {
   "cell_type": "markdown",
   "metadata": {},
   "source": [
    "6-1. Person: Use a dictionary to store information about a person you know.\n",
    "Store their first name, last name, age, and the city in which they live. You\n",
    "should have keys such as first_name, last_name, age, and city. Print each\n",
    "piece of information stored in your dictionary."
   ]
  },
  {
   "cell_type": "code",
   "execution_count": 13,
   "metadata": {},
   "outputs": [
    {
     "name": "stdout",
     "output_type": "stream",
     "text": [
      "abc\n",
      "def\n",
      "25\n",
      "ghi\n"
     ]
    }
   ],
   "source": [
    "person1 = {\n",
    "    'firstName': 'abc',\n",
    "    'lastName': 'def',\n",
    "    'age': '25',\n",
    "    'city': 'ghi'\n",
    "}\n",
    "\n",
    "print(person1['firstName'])\n",
    "print(person1['lastName'])\n",
    "print(person1['age'])\n",
    "print(person1['city'])"
   ]
  },
  {
   "cell_type": "markdown",
   "metadata": {},
   "source": [
    "6-2. Favorite Numbers: Use a dictionary to store people’s favorite numbers.\n",
    "Think of five names, and use them as keys in your dictionary. Think of a favorite\n",
    "number for each person, and store each as a value in your dictionary. Print\n",
    "each person’s name and their favorite number. For even more fun, poll a few\n",
    "friends and get some actual data for your program."
   ]
  },
  {
   "cell_type": "code",
   "execution_count": 15,
   "metadata": {},
   "outputs": [
    {
     "name": "stdout",
     "output_type": "stream",
     "text": [
      "A's favorite number is 50.\n",
      "B's favorite number is 40.\n",
      "C's favorite number is 30.\n",
      "D's favorite number is 20.\n",
      "E's favorite number is 10.\n"
     ]
    }
   ],
   "source": [
    "favNumbers = {\n",
    "    'A': '50',\n",
    "    'B': '40',\n",
    "    'C': '30',\n",
    "    'D': '20',\n",
    "    'E': '10'\n",
    "}\n",
    "\n",
    "print(f\"A's favorite number is {favNumbers['A']}.\")\n",
    "print(f\"B's favorite number is {favNumbers['B']}.\")\n",
    "print(f\"C's favorite number is {favNumbers['C']}.\")\n",
    "print(f\"D's favorite number is {favNumbers['D']}.\")\n",
    "print(f\"E's favorite number is {favNumbers['E']}.\")"
   ]
  },
  {
   "cell_type": "markdown",
   "metadata": {},
   "source": [
    "6-3. Glossary: A Python dictionary can be used to model an actual dictionary.\n",
    "However, to avoid confusion, let’s call it a glossary.\n",
    "• Think of five programming words you’ve learned about in the previous\n",
    "chapters. Use these words as the keys in your glossary, and store their\n",
    "meanings as values.\n",
    "• Print each word and its meaning as neatly formatted output. You might\n",
    "print the word followed by a colon and then its meaning, or print the word\n",
    "on one line and then print its meaning indented on a second line. Use the\n",
    "newline character (\\n) to insert a blank line between each word-meaning\n",
    "pair in your output."
   ]
  },
  {
   "cell_type": "code",
   "execution_count": 16,
   "metadata": {},
   "outputs": [],
   "source": [
    "glossary = {\n",
    "    'print': 'It prints the output.',\n",
    "    'del': 'Deletes the value.',\n",
    "    'for': 'Loops through the provided data.',\n",
    "    'if': 'Tests the conditions.',\n",
    "    'elif': 'Tests the condition which is false on its above conditon.' \n",
    "}"
   ]
  },
  {
   "cell_type": "code",
   "execution_count": 17,
   "metadata": {},
   "outputs": [
    {
     "name": "stdout",
     "output_type": "stream",
     "text": [
      "print: It prints the output.\n",
      "\n",
      "del: Deletes the value.\n",
      "\n",
      "for: Loops through the provided data.\n",
      "\n",
      "if: Tests the conditions.\n",
      "\n",
      "elif: Tests the condition which is false on its above conditon.\n"
     ]
    }
   ],
   "source": [
    "print(f\"print: {glossary['print']}\")\n",
    "print(f\"\\ndel: {glossary['del']}\")\n",
    "print(f\"\\nfor: {glossary['for']}\")\n",
    "print(f\"\\nif: {glossary['if']}\")\n",
    "print(f\"\\nelif: {glossary['elif']}\")\n"
   ]
  },
  {
   "cell_type": "markdown",
   "metadata": {},
   "source": [
    "Looping through a Dictionary: Looping through all Key-Value Pairs"
   ]
  },
  {
   "cell_type": "code",
   "execution_count": 20,
   "metadata": {},
   "outputs": [
    {
     "name": "stdout",
     "output_type": "stream",
     "text": [
      "\n",
      "Key: username\n",
      "Value: efermi\n",
      "\n",
      "Key: first\n",
      "Value: enrico\n",
      "\n",
      "Key: last\n",
      "Value: fermi\n"
     ]
    }
   ],
   "source": [
    "user0 = {\n",
    "    'username': 'efermi',\n",
    "    'first': 'enrico',\n",
    "    'last': 'fermi',\n",
    "}\n",
    "for key, value in user0.items():\n",
    "    print(f'\\nKey: {key}')\n",
    "    print(f'Value: {value}')"
   ]
  },
  {
   "cell_type": "code",
   "execution_count": 26,
   "metadata": {},
   "outputs": [
    {
     "name": "stdout",
     "output_type": "stream",
     "text": [
      "Jen's favorite language is Python.\n",
      "Sarah's favorite language is C.\n",
      "Edward's favorite language is Ruby.\n",
      "Phil's favorite language is Python.\n"
     ]
    }
   ],
   "source": [
    "favLang = {\n",
    "    'jen': 'python',\n",
    "    'sarah': 'c',\n",
    "    'edward': 'ruby',\n",
    "    'phil': 'python',\n",
    "}\n",
    "\n",
    "for n , l in favLang.items():\n",
    "    print(f\"{n.title()}'s favorite language is {l.title()}.\")"
   ]
  },
  {
   "cell_type": "markdown",
   "metadata": {},
   "source": [
    "Looping through all keys in the Dictionary:"
   ]
  },
  {
   "cell_type": "code",
   "execution_count": 27,
   "metadata": {},
   "outputs": [
    {
     "name": "stdout",
     "output_type": "stream",
     "text": [
      "Jen\n",
      "Sarah\n",
      "Edward\n",
      "Phil\n"
     ]
    }
   ],
   "source": [
    "for name in favLang.keys():\n",
    "    print(name.title())"
   ]
  },
  {
   "cell_type": "code",
   "execution_count": 30,
   "metadata": {},
   "outputs": [
    {
     "name": "stdout",
     "output_type": "stream",
     "text": [
      "Jen\n",
      "Sarah\n",
      "  Hi Sarah, I see your favorite language is c.\n",
      "Edward\n",
      "Phil\n",
      "  Hi Phil, I see your favorite language is python.\n"
     ]
    }
   ],
   "source": [
    "friends = ['phil' , 'sarah']\n",
    "\n",
    "for name in favLang:\n",
    "    print(name.title())\n",
    "    if name in friends:\n",
    "        print(f\"  Hi {name.title()}, I see your favorite language is {favLang[name]}.\")"
   ]
  },
  {
   "cell_type": "code",
   "execution_count": 31,
   "metadata": {},
   "outputs": [
    {
     "name": "stdout",
     "output_type": "stream",
     "text": [
      "Erin, You are not in the list.\n"
     ]
    }
   ],
   "source": [
    "if 'erin' not in favLang.keys():\n",
    "    print('Erin, You are not in the list.')"
   ]
  },
  {
   "cell_type": "markdown",
   "metadata": {},
   "source": [
    "Looping through a Dictioanry's Keys in Order"
   ]
  },
  {
   "cell_type": "code",
   "execution_count": 32,
   "metadata": {},
   "outputs": [
    {
     "name": "stdout",
     "output_type": "stream",
     "text": [
      "Edward, Thank you for taking the poll.\n",
      "Jen, Thank you for taking the poll.\n",
      "Phil, Thank you for taking the poll.\n",
      "Sarah, Thank you for taking the poll.\n"
     ]
    }
   ],
   "source": [
    "for name in sorted(favLang.keys()):\n",
    "    print(f'{name.title()}, Thank you for taking the poll.')"
   ]
  },
  {
   "cell_type": "markdown",
   "metadata": {},
   "source": [
    "Looping through all Values in a Dictionary"
   ]
  },
  {
   "cell_type": "code",
   "execution_count": 33,
   "metadata": {},
   "outputs": [
    {
     "name": "stdout",
     "output_type": "stream",
     "text": [
      "The following languages were mentioned:\n",
      "Python\n",
      "C\n",
      "Ruby\n",
      "Python\n"
     ]
    }
   ],
   "source": [
    "print('The following languages were mentioned:')\n",
    "for lang in favLang.values():\n",
    "    print(lang.title())"
   ]
  },
  {
   "cell_type": "code",
   "execution_count": 34,
   "metadata": {},
   "outputs": [
    {
     "name": "stdout",
     "output_type": "stream",
     "text": [
      "The following languages were mentioned:\n",
      "Python\n",
      "C\n",
      "Ruby\n"
     ]
    }
   ],
   "source": [
    "print('The following languages were mentioned:')\n",
    " #set is similar to list except each item is unique, means no repetitions.\n",
    "for lang in set(favLang.values()):\n",
    "    print(lang.title())"
   ]
  },
  {
   "cell_type": "markdown",
   "metadata": {},
   "source": [
    "Exercise"
   ]
  },
  {
   "cell_type": "markdown",
   "metadata": {},
   "source": [
    "6-4. Glossary 2: Now that you know how to loop through a dictionary, clean\n",
    "up the code from Exercise 6-3 (page 102) by replacing your series of print\n",
    "statements with a loop that runs through the dictionary’s keys and values.\n",
    "When you’re sure that your loop works, add five more Python terms to your\n",
    "glossary. When you run your program again, these new words and meanings\n",
    "should automatically be included in the output."
   ]
  },
  {
   "cell_type": "code",
   "execution_count": 3,
   "metadata": {},
   "outputs": [],
   "source": [
    "glossary = {\n",
    "    'print': 'It prints the output.',\n",
    "    'del': 'Deletes the value.',\n",
    "    'for': 'Loops through the provided data.',\n",
    "    'if': 'Tests the conditions.',\n",
    "    'elif': 'Tests the condition which is false on its above conditon.' \n",
    "}"
   ]
  },
  {
   "cell_type": "code",
   "execution_count": 4,
   "metadata": {},
   "outputs": [
    {
     "name": "stdout",
     "output_type": "stream",
     "text": [
      "print: It prints the output.\n",
      "del: Deletes the value.\n",
      "for: Loops through the provided data.\n",
      "if: Tests the conditions.\n",
      "elif: Tests the condition which is false on its above conditon.\n"
     ]
    }
   ],
   "source": [
    "for key, value in glossary.items():\n",
    "    print(f'{key}: {value}')"
   ]
  },
  {
   "cell_type": "markdown",
   "metadata": {},
   "source": [
    "6-5. Rivers: Make a dictionary containing three major rivers and the country\n",
    "each river runs through. One key-value pair might be 'nile': 'egypt'.\n",
    "• Use a loop to print a sentence about each river, such as The Nile runs\n",
    "through Egypt.\n",
    "• Use a loop to print the name of each river included in the dictionary.\n",
    "• Use a loop to print the name of each country included in the dictionary."
   ]
  },
  {
   "cell_type": "code",
   "execution_count": 5,
   "metadata": {},
   "outputs": [],
   "source": [
    "rivers = {\n",
    "    \"nile\": \"egypt\",\n",
    "    'yellow river': 'china',\n",
    "    'volga': 'russia'\n",
    "}"
   ]
  },
  {
   "cell_type": "code",
   "execution_count": 6,
   "metadata": {},
   "outputs": [
    {
     "name": "stdout",
     "output_type": "stream",
     "text": [
      "The Nile runs through Egypt.\n",
      "The Yellow River runs through China.\n",
      "The Volga runs through Russia.\n"
     ]
    }
   ],
   "source": [
    "for r, c in rivers.items():\n",
    "    print(f'The {r.title()} runs through {c.title()}.')"
   ]
  },
  {
   "cell_type": "code",
   "execution_count": 10,
   "metadata": {},
   "outputs": [
    {
     "name": "stdout",
     "output_type": "stream",
     "text": [
      "Rivers:\n",
      "Nile\n",
      "Yellow River\n",
      "Volga\n"
     ]
    }
   ],
   "source": [
    "print('Rivers:')\n",
    "for r in rivers:\n",
    "    print(r.title())"
   ]
  },
  {
   "cell_type": "code",
   "execution_count": 11,
   "metadata": {},
   "outputs": [
    {
     "name": "stdout",
     "output_type": "stream",
     "text": [
      "Countries:\n",
      "Egypt\n",
      "China\n",
      "Russia\n"
     ]
    }
   ],
   "source": [
    "print('Countries:')\n",
    "for c in rivers.values():\n",
    "    print(c.title())"
   ]
  },
  {
   "cell_type": "markdown",
   "metadata": {},
   "source": [
    "6-6. Polling: Use the code in favorite_languages.py (page 104).\n",
    "• Make a list of people who should take the favorite languages poll. Include\n",
    "some names that are already in the dictionary and some that are not.\n",
    "• Loop through the list of people who should take the poll. If they have\n",
    "already taken the poll, print a message thanking them for responding.\n",
    "If they have not yet taken the poll, print a message inviting them to take\n",
    "the poll."
   ]
  },
  {
   "cell_type": "code",
   "execution_count": 12,
   "metadata": {},
   "outputs": [],
   "source": [
    "favLanguages = {\n",
    "    'jen': 'python',\n",
    "    'sarah': 'c',\n",
    "    'edward': 'ruby',\n",
    "    'phil': 'python'\n",
    "}\n",
    "\n",
    "listOfPeople = ['ellie', 'jen', 'edward', 'john', 'jordan' , 'sarah']"
   ]
  },
  {
   "cell_type": "code",
   "execution_count": 13,
   "metadata": {},
   "outputs": [
    {
     "name": "stdout",
     "output_type": "stream",
     "text": [
      "Ellie please take the poll\n",
      "Thanks Jen for taking the poll.\n",
      "Thanks Edward for taking the poll.\n",
      "John please take the poll\n",
      "Jordan please take the poll\n",
      "Thanks Sarah for taking the poll.\n"
     ]
    }
   ],
   "source": [
    "for i in listOfPeople:\n",
    "    if i in favLanguages.keys():\n",
    "        print(f'Thanks {i.title()} for taking the poll.')\n",
    "    else:\n",
    "        print(f'{i.title()} please take the poll')"
   ]
  },
  {
   "cell_type": "markdown",
   "metadata": {},
   "source": [
    "Nesting: A list of Dictionaries"
   ]
  },
  {
   "cell_type": "code",
   "execution_count": 14,
   "metadata": {},
   "outputs": [
    {
     "name": "stdout",
     "output_type": "stream",
     "text": [
      "{'color': 'green', 'points': 5}\n",
      "{'color': 'yellow', 'points': 10}\n",
      "{'color': 'red', 'points': 15}\n"
     ]
    }
   ],
   "source": [
    "alien0 = {'color': 'green', 'points': 5}\n",
    "alien1 = {'color': 'yellow', 'points': 10}\n",
    "alien2 = {'color': 'red', 'points': 15}\n",
    "\n",
    "aliens = [ alien0, alien1, alien2]\n",
    "\n",
    "for alien in aliens:\n",
    "    print(alien)"
   ]
  },
  {
   "cell_type": "code",
   "execution_count": 18,
   "metadata": {},
   "outputs": [
    {
     "name": "stdout",
     "output_type": "stream",
     "text": [
      "{'color': 'green', 'points': 5, 'speed': 'slow'}\n",
      "{'color': 'green', 'points': 5, 'speed': 'slow'}\n",
      "{'color': 'green', 'points': 5, 'speed': 'slow'}\n",
      "{'color': 'green', 'points': 5, 'speed': 'slow'}\n",
      "{'color': 'green', 'points': 5, 'speed': 'slow'}\n",
      "...\n",
      "Total number of aliens: 30.\n"
     ]
    }
   ],
   "source": [
    "#Generating new alies through for loop\n",
    "aliens = []\n",
    "\n",
    "for alienNum in range(30):\n",
    "    newAlien = {'color': 'green', 'points': 5, 'speed': 'slow'}\n",
    "    aliens.append(newAlien)\n",
    "\n",
    "for alien in aliens[:5]:\n",
    "    print(alien)\n",
    "print('...')\n",
    "\n",
    "print(f'Total number of aliens: {len(aliens)}.')"
   ]
  },
  {
   "cell_type": "code",
   "execution_count": 19,
   "metadata": {},
   "outputs": [
    {
     "name": "stdout",
     "output_type": "stream",
     "text": [
      "{'color': 'yellow', 'points': '10', 'speed': 'medium'}\n",
      "{'color': 'yellow', 'points': '10', 'speed': 'medium'}\n",
      "{'color': 'yellow', 'points': '10', 'speed': 'medium'}\n",
      "{'color': 'green', 'points': 5, 'speed': 'slow'}\n",
      "{'color': 'green', 'points': 5, 'speed': 'slow'}\n"
     ]
    }
   ],
   "source": [
    "for alien in aliens[0:3]:\n",
    "    if alien['color'] == 'green':\n",
    "        alien['color'] = 'yellow'\n",
    "        alien['points'] = '10'\n",
    "        alien['speed'] = 'medium'\n",
    "\n",
    "for alien in aliens[:5]:\n",
    "    print(alien)"
   ]
  },
  {
   "cell_type": "markdown",
   "metadata": {},
   "source": [
    "A list in a Dictionary"
   ]
  },
  {
   "cell_type": "code",
   "execution_count": 3,
   "metadata": {},
   "outputs": [
    {
     "name": "stdout",
     "output_type": "stream",
     "text": [
      "You ordered the thick-crust pizza, with following topping:\n",
      "\t mushrooms\n",
      "\t extra cheese\n"
     ]
    }
   ],
   "source": [
    "pizza = {\n",
    "    'crust': 'thick',\n",
    "    'topping': ['mushrooms', 'extra cheese']\n",
    "}\n",
    "\n",
    "print(f'You ordered the {pizza[\"crust\"]}-crust pizza, with following topping:')\n",
    "\n",
    "for topping in pizza['topping']:\n",
    "      print(f'\\t {topping}')"
   ]
  },
  {
   "cell_type": "code",
   "execution_count": 4,
   "metadata": {},
   "outputs": [
    {
     "name": "stdout",
     "output_type": "stream",
     "text": [
      "\n",
      "Jen's favorite languages are:\n",
      "\tPython.\n",
      "\tRuby.\n",
      "\n",
      "Sarah's favorite languages are:\n",
      "\tC.\n",
      "\n",
      "Edward's favorite languages are:\n",
      "\tRuby.\n",
      "\tGo.\n",
      "\n",
      "Phil's favorite languages are:\n",
      "\tPython.\n",
      "\tHaskell.\n"
     ]
    }
   ],
   "source": [
    "favoriteLanguages = {\n",
    "    'jen': ['python', 'ruby'],\n",
    "    'sarah': ['c'],\n",
    "    'edward': ['ruby', 'go'],\n",
    "    'phil': ['python', 'haskell'],\n",
    "}\n",
    "\n",
    "for name, langs in favoriteLanguages.items():\n",
    "    print(f\"\\n{name.title()}'s favorite languages are:\")\n",
    "    for lang in langs:\n",
    "        print(f'\\t{lang.title()}.')"
   ]
  },
  {
   "cell_type": "markdown",
   "metadata": {},
   "source": [
    "A Dictionary in a Dictionary"
   ]
  },
  {
   "cell_type": "code",
   "execution_count": 11,
   "metadata": {},
   "outputs": [
    {
     "name": "stdout",
     "output_type": "stream",
     "text": [
      "\n",
      "Username: aeinstein\n",
      "first: albert\n",
      "last: einstein\n",
      "location: princeton\n",
      "\n",
      "Username: mcurie\n",
      "first: marie\n",
      "last: curie\n",
      "location: paris\n"
     ]
    }
   ],
   "source": [
    "users = {\n",
    "    'aeinstein': {\n",
    "        'first': 'albert',\n",
    "        'last': 'einstein',\n",
    "        'location': 'princeton'\n",
    "        },\n",
    "    'mcurie': {\n",
    "        'first': 'marie',\n",
    "        'last': 'curie',\n",
    "        'location': 'paris'\n",
    "        }\n",
    "}\n",
    "\n",
    "for user, info in users.items():\n",
    "    print(f'\\nUsername: {user}')\n",
    "    for key, val in info.items():\n",
    "        print(f'{key}: {val}')"
   ]
  },
  {
   "cell_type": "markdown",
   "metadata": {},
   "source": [
    "Exercise"
   ]
  },
  {
   "cell_type": "markdown",
   "metadata": {},
   "source": [
    "6-7. People: Start with the program you wrote for Exercise 6-1 (page 102).\n",
    "Make two new dictionaries representing different people, and store all three\n",
    "dictionaries in a list called people. Loop through your list of people. As you\n",
    "loop through the list, print everything you know about each person."
   ]
  },
  {
   "cell_type": "code",
   "execution_count": 3,
   "metadata": {},
   "outputs": [
    {
     "name": "stdout",
     "output_type": "stream",
     "text": [
      "*******\n",
      "Firstname: Abc\n",
      "Lastname: Def\n",
      "Age: 25\n",
      "City: Ghi\n",
      "*******\n",
      "Firstname: Jkl\n",
      "Lastname: Mno\n",
      "Age: 30\n",
      "City: Pqr\n",
      "*******\n",
      "Firstname: Stu\n",
      "Lastname: Vwx\n",
      "Age: 35\n",
      "City: Yz\n"
     ]
    }
   ],
   "source": [
    "person1 = {\n",
    "    'firstName': 'abc',\n",
    "    'lastName': 'def',\n",
    "    'age': '25',\n",
    "    'city': 'ghi'\n",
    "}\n",
    "\n",
    "person2 = {\n",
    "    'firstName': 'jkl',\n",
    "    'lastName': 'mno',\n",
    "    'age': '30',\n",
    "    'city': 'pqr'\n",
    "}\n",
    "\n",
    "person3 = {\n",
    "    'firstName': 'stu',\n",
    "    'lastName': 'vwx',\n",
    "    'age': '35',\n",
    "    'city': 'yz'\n",
    "}\n",
    "\n",
    "people = [person1, person2, person3]\n",
    "\n",
    "for person in people:\n",
    "    print('*******')\n",
    "    for key, val in person.items():\n",
    "        print(f'{key.title()}: {val.title()}')"
   ]
  },
  {
   "cell_type": "markdown",
   "metadata": {},
   "source": [
    "6-8. Pets: Make several dictionaries, where the name of each dictionary is the\n",
    "name of a pet. In each dictionary, include the kind of animal and the owner’s\n",
    "name. Store these dictionaries in a list called pets. Next, loop through your list\n",
    "and as you do print everything you know about each pet."
   ]
  },
  {
   "cell_type": "code",
   "execution_count": 6,
   "metadata": {},
   "outputs": [
    {
     "name": "stdout",
     "output_type": "stream",
     "text": [
      "*******\n",
      "Name: Rover\n",
      "Animal: Dog\n",
      "Owner: John\n",
      "*******\n",
      "Name: Hulk\n",
      "Animal: Dog\n",
      "Owner: Rock\n",
      "*******\n",
      "Name: Jack\n",
      "Animal: Cat\n",
      "Owner: Jenny\n"
     ]
    }
   ],
   "source": [
    "rover = {\n",
    "    'name': 'rover',\n",
    "    'animal': 'dog',\n",
    "    'owner': 'john'\n",
    "}\n",
    "hulk = {\n",
    "    'name': 'hulk',\n",
    "    'animal': 'dog',\n",
    "    'owner': 'rock'\n",
    "}\n",
    "jack = {\n",
    "    'name': 'jack',\n",
    "    'animal': 'cat',\n",
    "    'owner': 'jenny'\n",
    "}\n",
    "\n",
    "pets = [rover, hulk, jack]\n",
    "\n",
    "for pet in pets:\n",
    "    print('*******')\n",
    "    for k, v in pet.items():\n",
    "        print(f'{k.title()}: {v.title()}')"
   ]
  },
  {
   "cell_type": "markdown",
   "metadata": {},
   "source": [
    "6-9. Favorite Places: Make a dictionary called favorite_places. Think of three\n",
    "names to use as keys in the dictionary, and store one to three favorite places\n",
    "for each person. To make this exercise a bit more interesting, ask some friends\n",
    "to name a few of their favorite places. Loop through the dictionary, and print\n",
    "each person’s name and their favorite places."
   ]
  },
  {
   "cell_type": "code",
   "execution_count": 13,
   "metadata": {},
   "outputs": [
    {
     "name": "stdout",
     "output_type": "stream",
     "text": [
      "\n",
      "Favorite places of Sam are:\n",
      "Italy\n",
      "Spain\n",
      "\n",
      "Favorite place of Danny is Australia.\n",
      "\n",
      "Favorite places of Ben are:\n",
      "Switzerland\n",
      "Brazil\n",
      "Egypt\n"
     ]
    }
   ],
   "source": [
    "favPlaces = {\n",
    "    'sam':['italy', 'spain'],\n",
    "    'danny': ['australia'],\n",
    "    'ben': ['switzerland', 'brazil', 'egypt']\n",
    "}\n",
    "\n",
    "for person, places in favPlaces.items():\n",
    "    if len(favPlaces[person])== 1:\n",
    "        print(f'\\nFavorite place of {person.title()} is {favPlaces[person][0].title()}.')\n",
    "    else:\n",
    "        print(f'\\nFavorite places of {person.title()} are:')\n",
    "        for i in places:\n",
    "            print(i.title())"
   ]
  },
  {
   "cell_type": "code",
   "execution_count": null,
   "metadata": {},
   "outputs": [],
   "source": []
  }
 ],
 "metadata": {
  "kernelspec": {
   "display_name": "Python 3",
   "language": "python",
   "name": "python3"
  },
  "language_info": {
   "codemirror_mode": {
    "name": "ipython",
    "version": 3
   },
   "file_extension": ".py",
   "mimetype": "text/x-python",
   "name": "python",
   "nbconvert_exporter": "python",
   "pygments_lexer": "ipython3",
   "version": "3.7.4"
  }
 },
 "nbformat": 4,
 "nbformat_minor": 2
}
