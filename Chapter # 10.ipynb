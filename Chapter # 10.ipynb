{
 "cells": [
  {
   "cell_type": "markdown",
   "metadata": {},
   "source": [
    "# Files and Exceptions"
   ]
  },
  {
   "cell_type": "markdown",
   "metadata": {},
   "source": [
    "Reading from a file: Reading an Entire File"
   ]
  },
  {
   "cell_type": "code",
   "execution_count": 3,
   "metadata": {},
   "outputs": [
    {
     "name": "stdout",
     "output_type": "stream",
     "text": [
      "3.1415926535\n",
      "8979323846\n",
      "2643383279\n"
     ]
    }
   ],
   "source": [
    "with open('piDigits.txt') as fileObject:\n",
    "    contents = fileObject.read()\n",
    "    print(contents)"
   ]
  },
  {
   "cell_type": "markdown",
   "metadata": {},
   "source": [
    "File Paths"
   ]
  },
  {
   "cell_type": "code",
   "execution_count": 5,
   "metadata": {},
   "outputs": [
    {
     "name": "stdout",
     "output_type": "stream",
     "text": [
      "abcdefg\n",
      "hijklmnop\n",
      "qrstuvwx\n",
      "yz\n"
     ]
    }
   ],
   "source": [
    "with open('test/abc.txt') as fileObjectAbc:\n",
    "    print(fileObjectAbc.read())"
   ]
  },
  {
   "cell_type": "markdown",
   "metadata": {},
   "source": [
    "Reading line by line"
   ]
  },
  {
   "cell_type": "code",
   "execution_count": 2,
   "metadata": {},
   "outputs": [
    {
     "name": "stdout",
     "output_type": "stream",
     "text": [
      "3.1415926535\n",
      "\n",
      "8979323846\n",
      "\n",
      "2643383279\n"
     ]
    }
   ],
   "source": [
    "fileName = 'piDigits.txt'\n",
    "\n",
    "with open(fileName) as fileObject:\n",
    "    for line in fileObject:\n",
    "        print(line)"
   ]
  },
  {
   "cell_type": "code",
   "execution_count": 3,
   "metadata": {},
   "outputs": [
    {
     "name": "stdout",
     "output_type": "stream",
     "text": [
      "3.1415926535\n",
      "8979323846\n",
      "2643383279\n"
     ]
    }
   ],
   "source": [
    "fileName = 'piDigits.txt'\n",
    "\n",
    "with open(fileName) as fileObject:\n",
    "    for line in fileObject:\n",
    "        print(line.rstrip())"
   ]
  },
  {
   "cell_type": "markdown",
   "metadata": {},
   "source": [
    "Making a list of lines from a file"
   ]
  },
  {
   "cell_type": "code",
   "execution_count": 8,
   "metadata": {},
   "outputs": [
    {
     "name": "stdout",
     "output_type": "stream",
     "text": [
      "3.1415926535\n",
      "8979323846\n",
      "2643383279\n"
     ]
    }
   ],
   "source": [
    "fileName = 'piDigits.txt'\n",
    "\n",
    "with open(fileName) as fileObject:\n",
    "    lines = fileObject.readlines()\n",
    "\n",
    "for line in lines:\n",
    "    print(line.rstrip())"
   ]
  },
  {
   "cell_type": "code",
   "execution_count": 9,
   "metadata": {},
   "outputs": [
    {
     "data": {
      "text/plain": [
       "['3.1415926535\\n', '8979323846\\n', '2643383279']"
      ]
     },
     "execution_count": 9,
     "metadata": {},
     "output_type": "execute_result"
    }
   ],
   "source": [
    "lines"
   ]
  },
  {
   "cell_type": "markdown",
   "metadata": {},
   "source": [
    "Working with a file's contents"
   ]
  },
  {
   "cell_type": "code",
   "execution_count": 11,
   "metadata": {},
   "outputs": [
    {
     "name": "stdout",
     "output_type": "stream",
     "text": [
      "3.141592653589793238462643383279\n",
      "32\n"
     ]
    }
   ],
   "source": [
    "fileName = 'piDigits.txt'\n",
    "\n",
    "with open(fileName) as fileObject:\n",
    "    lines = fileObject.readlines()\n",
    "\n",
    "piString = ''\n",
    "\n",
    "for line in lines:\n",
    "    piString += line.strip()\n",
    "    \n",
    "print(piString)\n",
    "\n",
    "print(len(piString))"
   ]
  },
  {
   "cell_type": "markdown",
   "metadata": {},
   "source": [
    "Large Files: One million digits"
   ]
  },
  {
   "cell_type": "code",
   "execution_count": 16,
   "metadata": {},
   "outputs": [
    {
     "name": "stdout",
     "output_type": "stream",
     "text": [
      "3.14159265358979323846264338327950288419716939937510....\n",
      "length of piString 1000002.\n"
     ]
    }
   ],
   "source": [
    "fileName = 'piMillionDigits.txt'\n",
    "\n",
    "with open(fileName) as fileObject:\n",
    "    lines = fileObject.readlines()\n",
    "    \n",
    "piString = ''\n",
    "\n",
    "for line in lines:\n",
    "    piString += line.strip()\n",
    "    \n",
    "print(piString[:52]+ '....')\n",
    "print(f'length of piString {len(piString)}.')"
   ]
  },
  {
   "cell_type": "markdown",
   "metadata": {},
   "source": [
    "Is your Birthday Contained in Pi?"
   ]
  },
  {
   "cell_type": "code",
   "execution_count": 19,
   "metadata": {},
   "outputs": [
    {
     "name": "stdout",
     "output_type": "stream",
     "text": [
      "Enter your Bday in DDMMYY: 061298\n",
      "Your Bday is not in first 0ne million digits of pi!\n"
     ]
    }
   ],
   "source": [
    "fileName = 'piMillionDigits.txt'\n",
    "\n",
    "with open(fileName) as fileObject:\n",
    "    lines = fileObject.readlines()\n",
    "    \n",
    "piString = ''\n",
    "\n",
    "for line in lines:\n",
    "    piString += line.strip()\n",
    "    \n",
    "birthday = input('Enter your Bday in DDMMYY: ')\n",
    "\n",
    "if birthday in  piString:\n",
    "    print('Your Bday is in first 0ne million digits of pi!')\n",
    "else:\n",
    "    print('Your Bday is not in first 0ne million digits of pi!')"
   ]
  },
  {
   "cell_type": "code",
   "execution_count": null,
   "metadata": {},
   "outputs": [],
   "source": []
  }
 ],
 "metadata": {
  "kernelspec": {
   "display_name": "Python 3",
   "language": "python",
   "name": "python3"
  },
  "language_info": {
   "codemirror_mode": {
    "name": "ipython",
    "version": 3
   },
   "file_extension": ".py",
   "mimetype": "text/x-python",
   "name": "python",
   "nbconvert_exporter": "python",
   "pygments_lexer": "ipython3",
   "version": "3.7.4"
  }
 },
 "nbformat": 4,
 "nbformat_minor": 2
}
