{
 "cells": [
  {
   "cell_type": "markdown",
   "metadata": {},
   "source": [
    "# Files and Exceptions"
   ]
  },
  {
   "cell_type": "markdown",
   "metadata": {},
   "source": [
    "Reading from a file: Reading an Entire File"
   ]
  },
  {
   "cell_type": "code",
   "execution_count": 3,
   "metadata": {},
   "outputs": [
    {
     "name": "stdout",
     "output_type": "stream",
     "text": [
      "3.1415926535\n",
      "8979323846\n",
      "2643383279\n"
     ]
    }
   ],
   "source": [
    "with open('piDigits.txt') as fileObject:\n",
    "    contents = fileObject.read()\n",
    "    print(contents)"
   ]
  },
  {
   "cell_type": "markdown",
   "metadata": {},
   "source": [
    "File Paths"
   ]
  },
  {
   "cell_type": "code",
   "execution_count": 5,
   "metadata": {},
   "outputs": [
    {
     "name": "stdout",
     "output_type": "stream",
     "text": [
      "abcdefg\n",
      "hijklmnop\n",
      "qrstuvwx\n",
      "yz\n"
     ]
    }
   ],
   "source": [
    "with open('test/abc.txt') as fileObjectAbc:\n",
    "    print(fileObjectAbc.read())"
   ]
  },
  {
   "cell_type": "markdown",
   "metadata": {},
   "source": [
    "Reading line by line"
   ]
  },
  {
   "cell_type": "code",
   "execution_count": 2,
   "metadata": {},
   "outputs": [
    {
     "name": "stdout",
     "output_type": "stream",
     "text": [
      "3.1415926535\n",
      "\n",
      "8979323846\n",
      "\n",
      "2643383279\n"
     ]
    }
   ],
   "source": [
    "fileName = 'piDigits.txt'\n",
    "\n",
    "with open(fileName) as fileObject:\n",
    "    for line in fileObject:\n",
    "        print(line)"
   ]
  },
  {
   "cell_type": "code",
   "execution_count": 3,
   "metadata": {},
   "outputs": [
    {
     "name": "stdout",
     "output_type": "stream",
     "text": [
      "3.1415926535\n",
      "8979323846\n",
      "2643383279\n"
     ]
    }
   ],
   "source": [
    "fileName = 'piDigits.txt'\n",
    "\n",
    "with open(fileName) as fileObject:\n",
    "    for line in fileObject:\n",
    "        print(line.rstrip())"
   ]
  },
  {
   "cell_type": "markdown",
   "metadata": {},
   "source": [
    "Making a list of lines from a file"
   ]
  },
  {
   "cell_type": "code",
   "execution_count": 8,
   "metadata": {},
   "outputs": [
    {
     "name": "stdout",
     "output_type": "stream",
     "text": [
      "3.1415926535\n",
      "8979323846\n",
      "2643383279\n"
     ]
    }
   ],
   "source": [
    "fileName = 'piDigits.txt'\n",
    "\n",
    "with open(fileName) as fileObject:\n",
    "    lines = fileObject.readlines()\n",
    "\n",
    "for line in lines:\n",
    "    print(line.rstrip())"
   ]
  },
  {
   "cell_type": "code",
   "execution_count": 9,
   "metadata": {},
   "outputs": [
    {
     "data": {
      "text/plain": [
       "['3.1415926535\\n', '8979323846\\n', '2643383279']"
      ]
     },
     "execution_count": 9,
     "metadata": {},
     "output_type": "execute_result"
    }
   ],
   "source": [
    "lines"
   ]
  },
  {
   "cell_type": "markdown",
   "metadata": {},
   "source": [
    "Working with a file's contents"
   ]
  },
  {
   "cell_type": "code",
   "execution_count": 11,
   "metadata": {},
   "outputs": [
    {
     "name": "stdout",
     "output_type": "stream",
     "text": [
      "3.141592653589793238462643383279\n",
      "32\n"
     ]
    }
   ],
   "source": [
    "fileName = 'piDigits.txt'\n",
    "\n",
    "with open(fileName) as fileObject:\n",
    "    lines = fileObject.readlines()\n",
    "\n",
    "piString = ''\n",
    "\n",
    "for line in lines:\n",
    "    piString += line.strip()\n",
    "    \n",
    "print(piString)\n",
    "\n",
    "print(len(piString))"
   ]
  },
  {
   "cell_type": "markdown",
   "metadata": {},
   "source": [
    "Large Files: One million digits"
   ]
  },
  {
   "cell_type": "code",
   "execution_count": 5,
   "metadata": {},
   "outputs": [
    {
     "name": "stdout",
     "output_type": "stream",
     "text": [
      "3.14159265358979323846264338327950288419716939937510....\n",
      "length of piString 1000002.\n"
     ]
    }
   ],
   "source": [
    "fileName = 'piMillionDigits.txt'\n",
    "\n",
    "with open(fileName) as fileObject:\n",
    "    lines = fileObject.readlines()\n",
    "    \n",
    "piString = ''\n",
    "\n",
    "for line in lines:\n",
    "    piString += line.strip()\n",
    "    \n",
    "print(piString[:52]+ '....')\n",
    "print(f'length of piString {len(piString)}.')"
   ]
  },
  {
   "cell_type": "markdown",
   "metadata": {},
   "source": [
    "Is your Birthday Contained in Pi?"
   ]
  },
  {
   "cell_type": "code",
   "execution_count": 6,
   "metadata": {},
   "outputs": [
    {
     "name": "stdout",
     "output_type": "stream",
     "text": [
      "Enter your Bday in DDMMYY: \n",
      "Your Bday is in first 0ne million digits of pi!\n"
     ]
    }
   ],
   "source": [
    "fileName = 'piMillionDigits.txt'\n",
    "\n",
    "with open(fileName) as fileObject:\n",
    "    lines = fileObject.readlines()\n",
    "    \n",
    "piString = ''\n",
    "\n",
    "for line in lines:\n",
    "    piString += line.strip()\n",
    "    \n",
    "birthday = input('Enter your Bday in DDMMYY: ')\n",
    "\n",
    "if birthday in  piString:\n",
    "    print('Your Bday is in first 0ne million digits of pi!')\n",
    "else:\n",
    "    print('Your Bday is not in first 0ne million digits of pi!')"
   ]
  },
  {
   "cell_type": "markdown",
   "metadata": {},
   "source": [
    "Exercise"
   ]
  },
  {
   "cell_type": "markdown",
   "metadata": {},
   "source": [
    "10-1. Learning Python: Open a blank file in your text editor and write a few\n",
    "lines summarizing what you’ve learned about Python so far. Start each line\n",
    "with the phrase In Python you can.... Save the file as learning_python.txt in the\n",
    "same directory as your exercises from this chapter. Write a program that reads\n",
    "the file and prints what you wrote three times. Print the contents once by reading\n",
    "in the entire file, once by looping over the file object, and once by storing\n",
    "the lines in a list and then working with them outside the with block.   "
   ]
  },
  {
   "cell_type": "code",
   "execution_count": 11,
   "metadata": {},
   "outputs": [
    {
     "name": "stdout",
     "output_type": "stream",
     "text": [
      "In Python i can build classes.\n",
      "In Python i can build Functions.\n",
      "In Python i can run loops.\n",
      "*******\n"
     ]
    }
   ],
   "source": [
    "with open('learningPython.txt') as exObject:\n",
    "    content = exObject.read()\n",
    "    print(content)\n",
    "    print('*******')"
   ]
  },
  {
   "cell_type": "code",
   "execution_count": 13,
   "metadata": {},
   "outputs": [
    {
     "name": "stdout",
     "output_type": "stream",
     "text": [
      "In Python i can build classes.\n",
      "In Python i can build Functions.\n",
      "In Python i can run loops.\n"
     ]
    }
   ],
   "source": [
    "with open('learningPython.txt') as exObject2:\n",
    "    for line in exObject2:\n",
    "        print(line.strip())\n",
    "    "
   ]
  },
  {
   "cell_type": "code",
   "execution_count": 14,
   "metadata": {},
   "outputs": [
    {
     "name": "stdout",
     "output_type": "stream",
     "text": [
      "In Python i can build classes.\n",
      "In Python i can build Functions.\n",
      "In Python i can run loops.\n"
     ]
    }
   ],
   "source": [
    "with open('learningPython.txt') as exObject3:\n",
    "    lines = exObject3.readlines()\n",
    "    \n",
    "for line in lines:\n",
    "    print(line.strip())"
   ]
  },
  {
   "cell_type": "markdown",
   "metadata": {},
   "source": [
    "10-2. Learning C: You can use the replace() method to replace any word in a\n",
    "string with a different word. Here’s a quick example showing how to replace\n",
    "'dog' with 'cat' in a sentence:\n",
    "message = \"I really like dogs.\"\n",
    "message.replace('dog', 'cat')\n",
    "'I really like cats.'\n",
    "Read in each line from the file you just created, learning_python.txt, and\n",
    "replace the word Python with the name of another language, such as C. Print\n",
    "each modified line to the screen."
   ]
  },
  {
   "cell_type": "code",
   "execution_count": 16,
   "metadata": {},
   "outputs": [
    {
     "name": "stdout",
     "output_type": "stream",
     "text": [
      "In C i can build classes.\n",
      "In C i can build Functions.\n",
      "In C i can run loops.\n"
     ]
    }
   ],
   "source": [
    "with open('learningPython.txt') as exObject4:\n",
    "    lines = exObject4.readlines()\n",
    "\n",
    "    \n",
    "for line in lines:\n",
    "    print(line.replace('Python', 'C').strip())\n",
    "    "
   ]
  },
  {
   "cell_type": "markdown",
   "metadata": {},
   "source": [
    "Writing to a file: Writing to an empty file"
   ]
  },
  {
   "cell_type": "code",
   "execution_count": 1,
   "metadata": {},
   "outputs": [],
   "source": [
    "fileName = 'programming.txt'\n",
    "\n",
    "with open(fileName, 'w') as fileObject:\n",
    "    fileObject.write(\"I love programming\")"
   ]
  },
  {
   "cell_type": "markdown",
   "metadata": {},
   "source": [
    "Writing Multiple Lines"
   ]
  },
  {
   "cell_type": "code",
   "execution_count": 3,
   "metadata": {},
   "outputs": [],
   "source": [
    "fileName = 'programming.txt'\n",
    "\n",
    "with open(fileName, 'w') as fileObject:\n",
    "    fileObject.write(\"I love programming.\")\n",
    "    fileObject.write('I love creating new games.')"
   ]
  },
  {
   "cell_type": "code",
   "execution_count": 5,
   "metadata": {},
   "outputs": [],
   "source": [
    "fileName = 'programming.txt'\n",
    "\n",
    "with open(fileName, 'w') as fileObject:\n",
    "    fileObject.write(\"I love programming.\\n\")\n",
    "    fileObject.write('I love creating new games.\\n')"
   ]
  },
  {
   "cell_type": "markdown",
   "metadata": {},
   "source": [
    "Appending to a file"
   ]
  },
  {
   "cell_type": "code",
   "execution_count": 6,
   "metadata": {},
   "outputs": [],
   "source": [
    "with open(fileName, 'a') as fileObject:\n",
    "    fileObject.write('I also love finding meaning in large dataset.\\n')\n",
    "    fileObject.write('I love creating apps that can run in a browser.\\n')"
   ]
  },
  {
   "cell_type": "markdown",
   "metadata": {},
   "source": [
    "Exercise"
   ]
  },
  {
   "cell_type": "markdown",
   "metadata": {},
   "source": [
    "10-3. Guest: Write a program that prompts the user for their name. When they\n",
    "respond, write their name to a file called guest.txt"
   ]
  },
  {
   "cell_type": "code",
   "execution_count": 3,
   "metadata": {},
   "outputs": [
    {
     "name": "stdout",
     "output_type": "stream",
     "text": [
      "Enter Your Name: Teddy\n"
     ]
    }
   ],
   "source": [
    "fileName = 'guest.txt'\n",
    "\n",
    "with open(fileName, 'w') as fileObject:\n",
    "    fileObject.write(input('Enter Your Name: '))"
   ]
  },
  {
   "cell_type": "markdown",
   "metadata": {},
   "source": []
  }
 ],
 "metadata": {
  "kernelspec": {
   "display_name": "Python 3",
   "language": "python",
   "name": "python3"
  },
  "language_info": {
   "codemirror_mode": {
    "name": "ipython",
    "version": 3
   },
   "file_extension": ".py",
   "mimetype": "text/x-python",
   "name": "python",
   "nbconvert_exporter": "python",
   "pygments_lexer": "ipython3",
   "version": "3.7.4"
  }
 },
 "nbformat": 4,
 "nbformat_minor": 2
}
