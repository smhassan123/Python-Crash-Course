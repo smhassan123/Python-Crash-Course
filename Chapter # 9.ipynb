{
 "cells": [
  {
   "cell_type": "markdown",
   "metadata": {},
   "source": [
    "# Classes"
   ]
  },
  {
   "cell_type": "markdown",
   "metadata": {},
   "source": [
    "Creating and Using \"Class\": Creating the Dog Class"
   ]
  },
  {
   "cell_type": "code",
   "execution_count": 1,
   "metadata": {},
   "outputs": [],
   "source": [
    "class Dog():\n",
    "    def __init__(self, name, age):\n",
    "        self.name = name\n",
    "        self.age = age\n",
    "        \n",
    "    def sit(self):\n",
    "        print(f\"{self.name.title()} is now sitting.\")\n",
    "        \n",
    "    def rollOver(self):\n",
    "        print(f\"{self.name.title()} rolled over!\")"
   ]
  },
  {
   "cell_type": "markdown",
   "metadata": {},
   "source": [
    "Making an instance from a class"
   ]
  },
  {
   "cell_type": "code",
   "execution_count": 4,
   "metadata": {},
   "outputs": [
    {
     "name": "stdout",
     "output_type": "stream",
     "text": [
      "Name of dog: Willie\n",
      "Age of dog: 6\n"
     ]
    }
   ],
   "source": [
    "myDog = Dog('willie', 6)\n",
    "\n",
    "print(f\"Name of dog: {myDog.name.title()}\")\n",
    "print(f\"Age of dog: {myDog.age}\")"
   ]
  },
  {
   "cell_type": "markdown",
   "metadata": {},
   "source": [
    "Accessing attributes"
   ]
  },
  {
   "cell_type": "code",
   "execution_count": 5,
   "metadata": {},
   "outputs": [
    {
     "data": {
      "text/plain": [
       "'willie'"
      ]
     },
     "execution_count": 5,
     "metadata": {},
     "output_type": "execute_result"
    }
   ],
   "source": [
    "myDog.name"
   ]
  },
  {
   "cell_type": "code",
   "execution_count": 6,
   "metadata": {},
   "outputs": [
    {
     "data": {
      "text/plain": [
       "6"
      ]
     },
     "execution_count": 6,
     "metadata": {},
     "output_type": "execute_result"
    }
   ],
   "source": [
    "myDog.age"
   ]
  },
  {
   "cell_type": "markdown",
   "metadata": {},
   "source": [
    "Calling Methods"
   ]
  },
  {
   "cell_type": "code",
   "execution_count": 7,
   "metadata": {},
   "outputs": [
    {
     "name": "stdout",
     "output_type": "stream",
     "text": [
      "Willie is now sitting.\n"
     ]
    }
   ],
   "source": [
    "myDog.sit()"
   ]
  },
  {
   "cell_type": "code",
   "execution_count": 8,
   "metadata": {},
   "outputs": [
    {
     "name": "stdout",
     "output_type": "stream",
     "text": [
      "Willie rolled over!\n"
     ]
    }
   ],
   "source": [
    "myDog.rollOver()"
   ]
  },
  {
   "cell_type": "markdown",
   "metadata": {},
   "source": [
    "Creating Multiple Instances"
   ]
  },
  {
   "cell_type": "code",
   "execution_count": 12,
   "metadata": {},
   "outputs": [
    {
     "name": "stdout",
     "output_type": "stream",
     "text": [
      "My dog's name is Willie\n",
      "Willie is now sitting.\n",
      "\n",
      "Your dog's name is Lucy\n",
      "Lucy is now sitting.\n"
     ]
    }
   ],
   "source": [
    "yourDog = Dog(\"lucy\", 3)\n",
    "\n",
    "print(f\"My dog's name is {myDog.name.title()}\")\n",
    "myDog.sit()\n",
    "print(f\"\\nYour dog's name is {yourDog.name.title()}\")\n",
    "yourDog.sit()"
   ]
  },
  {
   "cell_type": "markdown",
   "metadata": {},
   "source": [
    "Exercise"
   ]
  },
  {
   "cell_type": "markdown",
   "metadata": {},
   "source": [
    "9-1. Restaurant: Make a class called Restaurant. The __init__() method for\n",
    "Restaurant should store two attributes: a restaurant_name and a cuisine_type.\n",
    "Make a method called describe_restaurant() that prints these two pieces of\n",
    "information, and a method called open_restaurant() that prints a message indicating\n",
    "that the restaurant is open.\n",
    "Make an instance called restaurant from your class. Print the two attributes\n",
    "individually, and then call both methods."
   ]
  },
  {
   "cell_type": "code",
   "execution_count": 13,
   "metadata": {},
   "outputs": [],
   "source": [
    "class Restaurant():\n",
    "    def __init__(self, restaurantName, cuisineType):\n",
    "        self.restaurantName = restaurantName\n",
    "        self.cuisineType = cuisineType\n",
    "    \n",
    "    def describeRestaurant(self):\n",
    "        print(f\"{self.restaurantName.title()} is a {self.cuisineType.title()} restaurant.\")\n",
    "    \n",
    "    def openRestaurant(self):\n",
    "        print(f\"{self.restaurantName.title()} is open.\")"
   ]
  },
  {
   "cell_type": "code",
   "execution_count": 14,
   "metadata": {},
   "outputs": [],
   "source": [
    "res1 = Restaurant('burger lab', 'fast food')"
   ]
  },
  {
   "cell_type": "code",
   "execution_count": 15,
   "metadata": {},
   "outputs": [
    {
     "data": {
      "text/plain": [
       "'burger lab'"
      ]
     },
     "execution_count": 15,
     "metadata": {},
     "output_type": "execute_result"
    }
   ],
   "source": [
    "res1.restaurantName"
   ]
  },
  {
   "cell_type": "code",
   "execution_count": 16,
   "metadata": {},
   "outputs": [
    {
     "data": {
      "text/plain": [
       "'fast food'"
      ]
     },
     "execution_count": 16,
     "metadata": {},
     "output_type": "execute_result"
    }
   ],
   "source": [
    "res1.cuisineType"
   ]
  },
  {
   "cell_type": "code",
   "execution_count": 21,
   "metadata": {},
   "outputs": [
    {
     "name": "stdout",
     "output_type": "stream",
     "text": [
      "Burger Lab is a Fast Food restaurant.\n"
     ]
    }
   ],
   "source": [
    "res1.describeRestaurant()"
   ]
  },
  {
   "cell_type": "code",
   "execution_count": 22,
   "metadata": {},
   "outputs": [
    {
     "name": "stdout",
     "output_type": "stream",
     "text": [
      "Burger Lab is open.\n"
     ]
    }
   ],
   "source": [
    "res1.openRestaurant()"
   ]
  },
  {
   "cell_type": "markdown",
   "metadata": {},
   "source": [
    "9-2. Three Restaurants: Start with your class from Exercise 9-1. Create three\n",
    "different instances from the class, and call describe_restaurant() for each\n",
    "instance."
   ]
  },
  {
   "cell_type": "code",
   "execution_count": 23,
   "metadata": {},
   "outputs": [
    {
     "name": "stdout",
     "output_type": "stream",
     "text": [
      "Bbq House is a Bbq restaurant.\n"
     ]
    }
   ],
   "source": [
    "res2 = Restaurant('BBQ House', 'bbq')\n",
    "res2.describeRestaurant()"
   ]
  },
  {
   "cell_type": "code",
   "execution_count": 24,
   "metadata": {},
   "outputs": [
    {
     "name": "stdout",
     "output_type": "stream",
     "text": [
      "Lal Qila is a Continental restaurant.\n"
     ]
    }
   ],
   "source": [
    "res3 = Restaurant('Lal qila', 'continental')\n",
    "res3.describeRestaurant()"
   ]
  },
  {
   "cell_type": "code",
   "execution_count": 25,
   "metadata": {},
   "outputs": [
    {
     "name": "stdout",
     "output_type": "stream",
     "text": [
      "Chop Soy is a Chinese restaurant.\n"
     ]
    }
   ],
   "source": [
    "res4 = Restaurant('Chop soy', 'chinese')\n",
    "res4.describeRestaurant()"
   ]
  },
  {
   "cell_type": "markdown",
   "metadata": {},
   "source": [
    "9-3. Users: Make a class called User. Create two attributes called first_name\n",
    "and last_name, and then create several other attributes that are typically stored\n",
    "in a user profile. Make a method called describe_user() that prints a summary\n",
    "of the user’s information. Make another method called greet_user() that prints\n",
    "a personalized greeting to the user.\n",
    "Create several instances representing different users, and call both methods\n",
    "for each user."
   ]
  },
  {
   "cell_type": "code",
   "execution_count": 26,
   "metadata": {},
   "outputs": [],
   "source": [
    "class User():\n",
    "    def __init__(self, fName, lName, nickName):\n",
    "        self.fName = fName\n",
    "        self.lName = lName\n",
    "        self.nickName = nickName\n",
    "    \n",
    "    def describeUser(self):\n",
    "        userDict = {\"first name\": self.fName,\n",
    "                    \"last name\": self.lName,\n",
    "                    \"nick name\": self.nickName}\n",
    "        for k,v in userDict.items():\n",
    "            print(f\"{k.title()}: {v.title()}\")\n",
    "            \n",
    "    def greet(self):\n",
    "        print(f\"Hello, {self.nickName.title()}!\")"
   ]
  },
  {
   "cell_type": "code",
   "execution_count": 27,
   "metadata": {},
   "outputs": [],
   "source": [
    "user1 = User('daniel', 'cormier', 'dc')"
   ]
  },
  {
   "cell_type": "code",
   "execution_count": 28,
   "metadata": {},
   "outputs": [
    {
     "name": "stdout",
     "output_type": "stream",
     "text": [
      "First Name: Daniel\n",
      "Last Name: Cormier\n",
      "Nick Name: Dc\n"
     ]
    }
   ],
   "source": [
    "user1.describeUser()"
   ]
  },
  {
   "cell_type": "code",
   "execution_count": 30,
   "metadata": {},
   "outputs": [
    {
     "name": "stdout",
     "output_type": "stream",
     "text": [
      "Hello, Dc!\n"
     ]
    }
   ],
   "source": [
    "user1.greet()"
   ]
  },
  {
   "cell_type": "markdown",
   "metadata": {},
   "source": [
    "Working with Classes and Instances: The Car Class"
   ]
  },
  {
   "cell_type": "code",
   "execution_count": 36,
   "metadata": {},
   "outputs": [],
   "source": [
    "class Car():\n",
    "    def __init__(self, make, model, year):\n",
    "        self.make = make\n",
    "        self.model = model\n",
    "        self.year = year\n",
    "    \n",
    "    def getDescriptive(self):\n",
    "        longName = (f\"{self.year} {self.make} {self.model}\")\n",
    "        return longName.title()"
   ]
  },
  {
   "cell_type": "code",
   "execution_count": 37,
   "metadata": {},
   "outputs": [],
   "source": [
    "myNewCar = Car('audi', 'a4', 2016)"
   ]
  },
  {
   "cell_type": "code",
   "execution_count": 38,
   "metadata": {},
   "outputs": [
    {
     "name": "stdout",
     "output_type": "stream",
     "text": [
      "2016 Audi A4\n"
     ]
    }
   ],
   "source": [
    "print(myNewCar.getDescriptive())"
   ]
  },
  {
   "cell_type": "markdown",
   "metadata": {},
   "source": [
    "Setting a Default Value for an Attribute"
   ]
  },
  {
   "cell_type": "code",
   "execution_count": 39,
   "metadata": {},
   "outputs": [],
   "source": [
    "class Car():\n",
    "    def __init__(self, make, model, year):\n",
    "        self.make = make\n",
    "        self.model = model\n",
    "        self.year = year\n",
    "        self.odoMeterReading = 0\n",
    "    \n",
    "    def getDescriptive(self):\n",
    "        longName = (f\"{self.year} {self.make} {self.model}\")\n",
    "        return longName.title()\n",
    "    \n",
    "    def readOdometer(self):\n",
    "        print(f\"This car has {self.odoMeterReading} miles on it.\")"
   ]
  },
  {
   "cell_type": "code",
   "execution_count": 40,
   "metadata": {},
   "outputs": [],
   "source": [
    "car1 = Car('lexus' , \"lx570\", 2019)"
   ]
  },
  {
   "cell_type": "code",
   "execution_count": 42,
   "metadata": {},
   "outputs": [
    {
     "data": {
      "text/plain": [
       "'2019 Lexus Lx570'"
      ]
     },
     "execution_count": 42,
     "metadata": {},
     "output_type": "execute_result"
    }
   ],
   "source": [
    "car1.getDescriptive()"
   ]
  },
  {
   "cell_type": "code",
   "execution_count": 43,
   "metadata": {},
   "outputs": [
    {
     "name": "stdout",
     "output_type": "stream",
     "text": [
      "This car has 0 miles on it.\n"
     ]
    }
   ],
   "source": [
    "car1.readOdometer()"
   ]
  },
  {
   "cell_type": "markdown",
   "metadata": {},
   "source": [
    "Modifying Attribute Values: Modifying an attribute's value directly"
   ]
  },
  {
   "cell_type": "code",
   "execution_count": 44,
   "metadata": {},
   "outputs": [
    {
     "name": "stdout",
     "output_type": "stream",
     "text": [
      "This car has 50 miles on it.\n"
     ]
    }
   ],
   "source": [
    "car1.odoMeterReading = 50\n",
    "car1.readOdometer()"
   ]
  },
  {
   "cell_type": "markdown",
   "metadata": {},
   "source": [
    "Modifying an attribute's value through a method"
   ]
  },
  {
   "cell_type": "code",
   "execution_count": 45,
   "metadata": {},
   "outputs": [],
   "source": [
    "class Car():\n",
    "    def __init__(self, make, model, year):\n",
    "        self.make = make\n",
    "        self.model = model\n",
    "        self.year = year\n",
    "        self.odoMeterReading = 0\n",
    "    \n",
    "    def getDescriptive(self):\n",
    "        longName = (f\"{self.year} {self.make} {self.model}\")\n",
    "        return longName.title()\n",
    "    \n",
    "    def readOdometer(self):\n",
    "        print(f\"This car has {self.odoMeterReading} miles on it.\")\n",
    "        \n",
    "    def updateOdometer(self, mileage):\n",
    "        self.odoMeterReading = mileage"
   ]
  },
  {
   "cell_type": "code",
   "execution_count": 46,
   "metadata": {},
   "outputs": [],
   "source": [
    "car2 = Car('toyota', 'corolla', 2020)"
   ]
  },
  {
   "cell_type": "code",
   "execution_count": 47,
   "metadata": {},
   "outputs": [
    {
     "name": "stdout",
     "output_type": "stream",
     "text": [
      "This car has 0 miles on it.\n",
      "This car has 65 miles on it.\n"
     ]
    }
   ],
   "source": [
    "car2.readOdometer()\n",
    "car2.updateOdometer(65)\n",
    "car2.readOdometer()"
   ]
  },
  {
   "cell_type": "code",
   "execution_count": 48,
   "metadata": {},
   "outputs": [],
   "source": [
    "#To make sure that reading cannot be roll backed.\n",
    "class Car():\n",
    "    def __init__(self, make, model, year):\n",
    "        self.make = make\n",
    "        self.model = model\n",
    "        self.year = year\n",
    "        self.odoMeterReading = 0\n",
    "    \n",
    "    def getDescriptive(self):\n",
    "        longName = (f\"{self.year} {self.make} {self.model}\")\n",
    "        return longName.title()\n",
    "    \n",
    "    def readOdometer(self):\n",
    "        print(f\"This car has {self.odoMeterReading} miles on it.\")\n",
    "    \n",
    "    def updateOdometer(self, mileage):\n",
    "        if mileage >= self.odoMeterReading:\n",
    "            self.odoMeterReading = mileage\n",
    "        else:\n",
    "            print('You cannot roll back an odometer!')"
   ]
  },
  {
   "cell_type": "code",
   "execution_count": 49,
   "metadata": {},
   "outputs": [],
   "source": [
    "car3 = Car('bugatti', 'veyron', 2015)"
   ]
  },
  {
   "cell_type": "code",
   "execution_count": 50,
   "metadata": {},
   "outputs": [
    {
     "name": "stdout",
     "output_type": "stream",
     "text": [
      "This car has 0 miles on it.\n",
      "This car has 90 miles on it.\n",
      "You cannot roll back an odometer!\n",
      "This car has 90 miles on it.\n"
     ]
    }
   ],
   "source": [
    "car3.readOdometer()\n",
    "car3.updateOdometer(90)\n",
    "car3.readOdometer()\n",
    "car3.updateOdometer(85)\n",
    "car3.readOdometer()"
   ]
  },
  {
   "cell_type": "markdown",
   "metadata": {},
   "source": [
    "Incrementing an attribute's value through a method"
   ]
  },
  {
   "cell_type": "code",
   "execution_count": 51,
   "metadata": {},
   "outputs": [],
   "source": [
    "class Car():\n",
    "    def __init__(self, make, model, year):\n",
    "        self.make = make\n",
    "        self.model = model\n",
    "        self.year = year\n",
    "        self.odoMeterReading = 0\n",
    "    \n",
    "    def getDescriptive(self):\n",
    "        longName = (f\"{self.year} {self.make} {self.model}\")\n",
    "        return longName.title()\n",
    "    \n",
    "    def readOdometer(self):\n",
    "        print(f\"This car has {self.odoMeterReading} miles on it.\")\n",
    "    \n",
    "    def updateOdometer(self, mileage):\n",
    "        if mileage >= self.odoMeterReading:\n",
    "            self.odoMeterReading = mileage\n",
    "        else:\n",
    "            print('You cannot roll back an odometer!')\n",
    "    \n",
    "    def incrementOdometer(self, miles):\n",
    "        self.odoMeterReading += miles"
   ]
  },
  {
   "cell_type": "code",
   "execution_count": 52,
   "metadata": {},
   "outputs": [],
   "source": [
    "car4 = Car('lamborghini', 'aventador' , 2013)"
   ]
  },
  {
   "cell_type": "code",
   "execution_count": 53,
   "metadata": {},
   "outputs": [
    {
     "name": "stdout",
     "output_type": "stream",
     "text": [
      "This car has 0 miles on it.\n",
      "This car has 5000 miles on it.\n",
      "This car has 5650 miles on it.\n"
     ]
    }
   ],
   "source": [
    "car4.readOdometer()\n",
    "car4.updateOdometer(5000)\n",
    "car4.readOdometer()\n",
    "car4.incrementOdometer(650)\n",
    "car4.readOdometer()"
   ]
  },
  {
   "cell_type": "markdown",
   "metadata": {},
   "source": [
    "Exercise"
   ]
  },
  {
   "cell_type": "markdown",
   "metadata": {},
   "source": [
    "9-4. Number Served: Start with your program from Exercise 9-1 (page 166).\n",
    "Add an attribute called number_served with a default value of 0. Create an\n",
    "instance called restaurant from this class. Print the number of customers the\n",
    "restaurant has served, and then change this value and print it again.\n",
    "Add a method called set_number_served() that lets you set the number\n",
    "of customers that have been served. Call this method with a new number and\n",
    "print the value again.\n",
    "Add a method called increment_number_served() that lets you increment\n",
    "the number of customers who’ve been served. Call this method with any number\n",
    "you like that could represent how many customers were served in, say, a\n",
    "day of business."
   ]
  },
  {
   "cell_type": "code",
   "execution_count": 54,
   "metadata": {},
   "outputs": [],
   "source": [
    "class Restaurant():\n",
    "    def __init__(self, restaurantName, cuisineType):\n",
    "        self.restaurantName = restaurantName\n",
    "        self.cuisineType = cuisineType\n",
    "        self.numberServed = 0\n",
    "    \n",
    "    def describeRestaurant(self):\n",
    "        print(f\"{self.restaurantName.title()} is a {self.cuisineType.title()} restaurant.\")\n",
    "    \n",
    "    def openRestaurant(self):\n",
    "        print(f\"{self.restaurantName.title()} is open.\")\n",
    "        \n",
    "    def setNumberServed(self, numberServed):\n",
    "        if numberServed >= 0:\n",
    "            self.numberServed = numberServed\n",
    "        else:\n",
    "            print('Number of customers served cannot be negative.')\n",
    "            \n",
    "    def incrementNumberServed(self, incrNum):\n",
    "        if incrNum >= 0:\n",
    "            self.numberServed += incrNum\n",
    "        else:\n",
    "            print('Number of customers served cannot be revert back.')"
   ]
  },
  {
   "cell_type": "code",
   "execution_count": 55,
   "metadata": {},
   "outputs": [],
   "source": [
    "rest1 = Restaurant('burger lab', 'burger joint')"
   ]
  },
  {
   "cell_type": "code",
   "execution_count": 58,
   "metadata": {},
   "outputs": [
    {
     "name": "stdout",
     "output_type": "stream",
     "text": [
      "Burger Lab is a Burger Joint restaurant.\n",
      "Burger Lab is open.\n",
      "Number Served: 0\n"
     ]
    }
   ],
   "source": [
    "rest1.describeRestaurant()\n",
    "rest1.openRestaurant()\n",
    "print(f'Number Served: {rest1.numberServed}')"
   ]
  },
  {
   "cell_type": "code",
   "execution_count": 60,
   "metadata": {},
   "outputs": [
    {
     "name": "stdout",
     "output_type": "stream",
     "text": [
      "Number Served: 50\n"
     ]
    }
   ],
   "source": [
    "rest1.setNumberServed(50)\n",
    "print(f'Number Served: {rest1.numberServed}')"
   ]
  },
  {
   "cell_type": "code",
   "execution_count": 61,
   "metadata": {},
   "outputs": [
    {
     "name": "stdout",
     "output_type": "stream",
     "text": [
      "Number Served: 75\n"
     ]
    }
   ],
   "source": [
    "rest1.incrementNumberServed(25)\n",
    "print(f'Number Served: {rest1.numberServed}')"
   ]
  },
  {
   "cell_type": "markdown",
   "metadata": {},
   "source": [
    "9-5. Login Attempts: Add an attribute called login_attempts to your User\n",
    "class from Exercise 9-3 (page 166). Write a method called increment_\n",
    "login_attempts() that increments the value of login_attempts by 1. Write\n",
    "another method called reset_login_attempts() that resets the value of login_\n",
    "attempts to 0.\n",
    "Make an instance of the User class and call increment_login_attempts()\n",
    "several times. Print the value of login_attempts to make sure it was incremented\n",
    "properly, and then call reset_login_attempts(). Print login_attempts again to\n",
    "make sure it was reset to 0."
   ]
  },
  {
   "cell_type": "code",
   "execution_count": 62,
   "metadata": {},
   "outputs": [],
   "source": [
    "class User():\n",
    "    def __init__(self, fName, lName, nickName):\n",
    "        self.fName = fName\n",
    "        self.lName = lName\n",
    "        self.nickName = nickName\n",
    "        self.loginAttempts = 0\n",
    "    \n",
    "    def describeUser(self):\n",
    "        userDict = {\"first name\": self.fName,\n",
    "                    \"last name\": self.lName,\n",
    "                    \"nick name\": self.nickName}\n",
    "        for k,v in userDict.items():\n",
    "            print(f\"{k.title()}: {v.title()}\")\n",
    "            \n",
    "    def greet(self):\n",
    "        print(f\"Hello, {self.nickName.title()}!\")\n",
    "        \n",
    "    def incrementLoginAttempts(self):\n",
    "        self.loginAttempts += 1\n",
    "    \n",
    "    def resetLoginAttempts(self):\n",
    "        self.loginAttempts = 0"
   ]
  },
  {
   "cell_type": "code",
   "execution_count": 63,
   "metadata": {},
   "outputs": [],
   "source": [
    "user1 = User('Alan', 'Jackson', 'aj')"
   ]
  },
  {
   "cell_type": "code",
   "execution_count": 64,
   "metadata": {},
   "outputs": [
    {
     "data": {
      "text/plain": [
       "0"
      ]
     },
     "execution_count": 64,
     "metadata": {},
     "output_type": "execute_result"
    }
   ],
   "source": [
    "user1.loginAttempts"
   ]
  },
  {
   "cell_type": "code",
   "execution_count": 74,
   "metadata": {},
   "outputs": [
    {
     "data": {
      "text/plain": [
       "1"
      ]
     },
     "execution_count": 74,
     "metadata": {},
     "output_type": "execute_result"
    }
   ],
   "source": [
    "user1.incrementLoginAttempts()\n",
    "user1.loginAttempts"
   ]
  },
  {
   "cell_type": "code",
   "execution_count": 75,
   "metadata": {},
   "outputs": [
    {
     "data": {
      "text/plain": [
       "2"
      ]
     },
     "execution_count": 75,
     "metadata": {},
     "output_type": "execute_result"
    }
   ],
   "source": [
    "user1.incrementLoginAttempts()\n",
    "user1.loginAttempts"
   ]
  },
  {
   "cell_type": "code",
   "execution_count": 76,
   "metadata": {},
   "outputs": [
    {
     "data": {
      "text/plain": [
       "3"
      ]
     },
     "execution_count": 76,
     "metadata": {},
     "output_type": "execute_result"
    }
   ],
   "source": [
    "user1.incrementLoginAttempts()\n",
    "user1.loginAttempts"
   ]
  },
  {
   "cell_type": "code",
   "execution_count": 77,
   "metadata": {},
   "outputs": [
    {
     "data": {
      "text/plain": [
       "4"
      ]
     },
     "execution_count": 77,
     "metadata": {},
     "output_type": "execute_result"
    }
   ],
   "source": [
    "user1.incrementLoginAttempts()\n",
    "user1.loginAttempts"
   ]
  },
  {
   "cell_type": "code",
   "execution_count": 78,
   "metadata": {},
   "outputs": [
    {
     "data": {
      "text/plain": [
       "0"
      ]
     },
     "execution_count": 78,
     "metadata": {},
     "output_type": "execute_result"
    }
   ],
   "source": [
    "user1.resetLoginAttempts()\n",
    "user1.loginAttempts"
   ]
  },
  {
   "cell_type": "markdown",
   "metadata": {},
   "source": [
    "Inheritance:"
   ]
  },
  {
   "cell_type": "markdown",
   "metadata": {},
   "source": [
    "the __init__() method for a child class"
   ]
  },
  {
   "cell_type": "code",
   "execution_count": 79,
   "metadata": {},
   "outputs": [],
   "source": [
    "class Car():\n",
    "    def __init__(self, make, model, year):\n",
    "        self.make = make\n",
    "        self.model = model\n",
    "        self.year = year\n",
    "        self.odoMeterReading = 0\n",
    "    \n",
    "    def getDescriptive(self):\n",
    "        longName = (f\"{self.year} {self.make} {self.model}\")\n",
    "        return longName.title()\n",
    "    \n",
    "    def readOdometer(self):\n",
    "        print(f\"This car has {self.odoMeterReading} miles on it.\")\n",
    "    \n",
    "    def updateOdometer(self, mileage):\n",
    "        if mileage >= self.odoMeterReading:\n",
    "            self.odoMeterReading = mileage\n",
    "        else:\n",
    "            print('You cannot roll back an odometer!')\n",
    "    \n",
    "    def incrementOdometer(self, miles):\n",
    "        self.odoMeterReading += miles"
   ]
  },
  {
   "cell_type": "code",
   "execution_count": 83,
   "metadata": {},
   "outputs": [],
   "source": [
    "class ElectricCar(Car):\n",
    "    def __init__(self, make, model, year):\n",
    "        super().__init__(make, model, year)"
   ]
  },
  {
   "cell_type": "code",
   "execution_count": 81,
   "metadata": {},
   "outputs": [],
   "source": [
    "myTesla = ElectricCar('tesla', 'model s', 2016)"
   ]
  },
  {
   "cell_type": "code",
   "execution_count": 82,
   "metadata": {},
   "outputs": [
    {
     "data": {
      "text/plain": [
       "'2016 Tesla Model S'"
      ]
     },
     "execution_count": 82,
     "metadata": {},
     "output_type": "execute_result"
    }
   ],
   "source": [
    "myTesla.getDescriptive()"
   ]
  },
  {
   "cell_type": "markdown",
   "metadata": {},
   "source": [
    "Defining Attributes and Methods for the child Class"
   ]
  },
  {
   "cell_type": "code",
   "execution_count": 84,
   "metadata": {},
   "outputs": [],
   "source": [
    "class ElectricCar(Car):\n",
    "    def __init__(self, make, model, year):\n",
    "        super().__init__(make, model, year)\n",
    "        self.batterySize = 70\n",
    "        \n",
    "    def describeBattery(self):\n",
    "        print(f\"This car has {self.batterySize}-kWh battery.\")"
   ]
  },
  {
   "cell_type": "code",
   "execution_count": 88,
   "metadata": {},
   "outputs": [],
   "source": [
    "myTesla = ElectricCar('tesla', 'model s', 2016)"
   ]
  },
  {
   "cell_type": "code",
   "execution_count": 89,
   "metadata": {},
   "outputs": [
    {
     "name": "stdout",
     "output_type": "stream",
     "text": [
      "This car has 70-kWh battery.\n"
     ]
    }
   ],
   "source": [
    "myTesla.describeBattery()"
   ]
  },
  {
   "cell_type": "code",
   "execution_count": null,
   "metadata": {},
   "outputs": [],
   "source": []
  }
 ],
 "metadata": {
  "kernelspec": {
   "display_name": "Python 3",
   "language": "python",
   "name": "python3"
  },
  "language_info": {
   "codemirror_mode": {
    "name": "ipython",
    "version": 3
   },
   "file_extension": ".py",
   "mimetype": "text/x-python",
   "name": "python",
   "nbconvert_exporter": "python",
   "pygments_lexer": "ipython3",
   "version": "3.7.4"
  }
 },
 "nbformat": 4,
 "nbformat_minor": 2
}
