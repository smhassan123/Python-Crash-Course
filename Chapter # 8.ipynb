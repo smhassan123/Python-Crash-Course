{
 "cells": [
  {
   "cell_type": "markdown",
   "metadata": {},
   "source": [
    "# Functions"
   ]
  },
  {
   "cell_type": "markdown",
   "metadata": {},
   "source": [
    "Defining a Function"
   ]
  },
  {
   "cell_type": "code",
   "execution_count": 2,
   "metadata": {},
   "outputs": [
    {
     "name": "stdout",
     "output_type": "stream",
     "text": [
      "Hello\n"
     ]
    }
   ],
   "source": [
    "def greetUser():\n",
    "    print('Hello')\n",
    "    \n",
    "greetUser()"
   ]
  },
  {
   "cell_type": "markdown",
   "metadata": {},
   "source": [
    "Passing information to a function"
   ]
  },
  {
   "cell_type": "code",
   "execution_count": 3,
   "metadata": {},
   "outputs": [
    {
     "name": "stdout",
     "output_type": "stream",
     "text": [
      "Hello, Jesse!\n"
     ]
    }
   ],
   "source": [
    "def greetUser(username):\n",
    "    print(f\"Hello, {username.title()}!\")\n",
    "\n",
    "greetUser('jesse')"
   ]
  },
  {
   "cell_type": "markdown",
   "metadata": {},
   "source": [
    "Exercise"
   ]
  },
  {
   "cell_type": "markdown",
   "metadata": {},
   "source": [
    "8-1. Message: Write a function called display_message() that prints one sentence\n",
    "telling everyone what you are learning about in this chapter. Call the\n",
    "function, and make sure the message displays correctly."
   ]
  },
  {
   "cell_type": "code",
   "execution_count": 4,
   "metadata": {},
   "outputs": [
    {
     "name": "stdout",
     "output_type": "stream",
     "text": [
      "I'm learning Functions in this chapter.\n"
     ]
    }
   ],
   "source": [
    "def displayMessage():\n",
    "    print(\"I'm learning Functions in this chapter.\")\n",
    "    \n",
    "displayMessage()"
   ]
  },
  {
   "cell_type": "markdown",
   "metadata": {},
   "source": [
    "8-2. Favorite Book: Write a function called favorite_book() that accepts one\n",
    "parameter, title. The function should print a message, such as One of my\n",
    "favorite books is Alice in Wonderland. Call the function, making sure to\n",
    "include a book title as an argument in the function call."
   ]
  },
  {
   "cell_type": "code",
   "execution_count": 5,
   "metadata": {},
   "outputs": [
    {
     "name": "stdout",
     "output_type": "stream",
     "text": [
      "Alice In Wonderland is my favorite book.\n"
     ]
    }
   ],
   "source": [
    "def favBook(title):\n",
    "    print(f\"{title.title()} is my favorite book.\")\n",
    "    \n",
    "favBook('alice in wonderland')"
   ]
  },
  {
   "cell_type": "markdown",
   "metadata": {},
   "source": [
    "Passing arguments: Positional arguments"
   ]
  },
  {
   "cell_type": "code",
   "execution_count": 9,
   "metadata": {},
   "outputs": [
    {
     "name": "stdout",
     "output_type": "stream",
     "text": [
      "\n",
      "I have a Dog.\n",
      "My Dog's name is Scooby Doo.\n"
     ]
    }
   ],
   "source": [
    "def describePet( animalType, petName ):\n",
    "    print(f\"\\nI have a {animalType.title()}.\")\n",
    "    print(f\"My {animalType.title()}'s name is {petName.title()}.\")\n",
    "    \n",
    "describePet('dog' , 'Scooby Doo')"
   ]
  },
  {
   "cell_type": "markdown",
   "metadata": {},
   "source": [
    "Multiple function calls"
   ]
  },
  {
   "cell_type": "code",
   "execution_count": 10,
   "metadata": {},
   "outputs": [
    {
     "name": "stdout",
     "output_type": "stream",
     "text": [
      "\n",
      "I have a Cat.\n",
      "My Cat's name is Jack.\n",
      "\n",
      "I have a Mouse.\n",
      "My Mouse's name is Beany.\n",
      "\n",
      "I have a Parrot.\n",
      "My Parrot's name is Scrappy.\n"
     ]
    }
   ],
   "source": [
    "describePet('cat' , 'jack')\n",
    "describePet('mouse' , 'beany')\n",
    "describePet('parrot' , 'Scrappy')"
   ]
  },
  {
   "cell_type": "markdown",
   "metadata": {},
   "source": [
    "Order matters in positional arguments"
   ]
  },
  {
   "cell_type": "code",
   "execution_count": 11,
   "metadata": {},
   "outputs": [
    {
     "name": "stdout",
     "output_type": "stream",
     "text": [
      "\n",
      "I have a Scooby Doo.\n",
      "My Scooby Doo's name is Dog.\n"
     ]
    }
   ],
   "source": [
    "describePet('Scooby Doo', 'dog')"
   ]
  },
  {
   "cell_type": "markdown",
   "metadata": {},
   "source": [
    "Keyword arguments"
   ]
  },
  {
   "cell_type": "code",
   "execution_count": 12,
   "metadata": {},
   "outputs": [
    {
     "name": "stdout",
     "output_type": "stream",
     "text": [
      "\n",
      "I have a Dog.\n",
      "My Dog's name is Scooby Doo.\n"
     ]
    }
   ],
   "source": [
    "describePet(petName = 'Scooby Doo', animalType= 'dog')"
   ]
  },
  {
   "cell_type": "markdown",
   "metadata": {},
   "source": [
    "Default values"
   ]
  },
  {
   "cell_type": "code",
   "execution_count": 15,
   "metadata": {},
   "outputs": [
    {
     "name": "stdout",
     "output_type": "stream",
     "text": [
      "\n",
      "I have a Dog.\n",
      "My Dog's name is Rollie.\n"
     ]
    }
   ],
   "source": [
    "def describePet( petName , animalType = 'dog' ):\n",
    "    print(f\"\\nI have a {animalType.title()}.\")\n",
    "    print(f\"My {animalType.title()}'s name is {petName.title()}.\")\n",
    "    \n",
    "describePet(petName= 'rollie')"
   ]
  },
  {
   "cell_type": "code",
   "execution_count": 16,
   "metadata": {},
   "outputs": [
    {
     "name": "stdout",
     "output_type": "stream",
     "text": [
      "\n",
      "I have a Dog.\n",
      "My Dog's name is Scooby Doo.\n"
     ]
    }
   ],
   "source": [
    "describePet('Scooby doo')"
   ]
  },
  {
   "cell_type": "code",
   "execution_count": 17,
   "metadata": {},
   "outputs": [
    {
     "name": "stdout",
     "output_type": "stream",
     "text": [
      "\n",
      "I have a Cat.\n",
      "My Cat's name is Jack.\n"
     ]
    }
   ],
   "source": [
    "describePet( petName= 'jack', animalType= 'cat')"
   ]
  },
  {
   "cell_type": "markdown",
   "metadata": {},
   "source": [
    "Equivalent function calls"
   ]
  },
  {
   "cell_type": "code",
   "execution_count": 18,
   "metadata": {},
   "outputs": [
    {
     "name": "stdout",
     "output_type": "stream",
     "text": [
      "\n",
      "I have a Dog.\n",
      "My Dog's name is Willie.\n",
      "\n",
      "I have a Dog.\n",
      "My Dog's name is Willie.\n",
      "\n",
      "I have a Hamster.\n",
      "My Hamster's name is Harry.\n",
      "\n",
      "I have a Hamster.\n",
      "My Hamster's name is Harry.\n",
      "\n",
      "I have a Hamster.\n",
      "My Hamster's name is Harry.\n"
     ]
    }
   ],
   "source": [
    "describePet('willie')\n",
    "describePet(petName='willie')\n",
    "\n",
    "describePet('harry', 'hamster')\n",
    "describePet(petName='harry', animalType='hamster')\n",
    "describePet(animalType='hamster', petName='harry')"
   ]
  },
  {
   "cell_type": "markdown",
   "metadata": {},
   "source": [
    "Avoiding Argument Errors"
   ]
  },
  {
   "cell_type": "code",
   "execution_count": 20,
   "metadata": {},
   "outputs": [
    {
     "ename": "TypeError",
     "evalue": "describePet() missing 2 required positional arguments: 'animalType' and 'petName'",
     "output_type": "error",
     "traceback": [
      "\u001b[1;31m---------------------------------------------------------------------------\u001b[0m",
      "\u001b[1;31mTypeError\u001b[0m                                 Traceback (most recent call last)",
      "\u001b[1;32m<ipython-input-20-bc124f57c5ec>\u001b[0m in \u001b[0;36m<module>\u001b[1;34m\u001b[0m\n\u001b[0;32m      3\u001b[0m     \u001b[0mprint\u001b[0m\u001b[1;33m(\u001b[0m\u001b[1;34mf\"My {animalType.title()}'s name is {petName.title()}.\"\u001b[0m\u001b[1;33m)\u001b[0m\u001b[1;33m\u001b[0m\u001b[1;33m\u001b[0m\u001b[0m\n\u001b[0;32m      4\u001b[0m \u001b[1;33m\u001b[0m\u001b[0m\n\u001b[1;32m----> 5\u001b[1;33m \u001b[0mdescribePet\u001b[0m\u001b[1;33m(\u001b[0m\u001b[1;33m)\u001b[0m\u001b[1;33m\u001b[0m\u001b[1;33m\u001b[0m\u001b[0m\n\u001b[0m",
      "\u001b[1;31mTypeError\u001b[0m: describePet() missing 2 required positional arguments: 'animalType' and 'petName'"
     ]
    }
   ],
   "source": [
    "def describePet( animalType, petName ):\n",
    "    print(f\"\\nI have a {animalType.title()}.\")\n",
    "    print(f\"My {animalType.title()}'s name is {petName.title()}.\")\n",
    "\n",
    "describePet()"
   ]
  },
  {
   "cell_type": "markdown",
   "metadata": {},
   "source": [
    "Exercise"
   ]
  },
  {
   "cell_type": "markdown",
   "metadata": {},
   "source": [
    "8-3. T-Shirt: Write a function called make_shirt() that accepts a size and the\n",
    "text of a message that should be printed on the shirt. The function should print\n",
    "a sentence summarizing the size of the shirt and the message printed on it.\n",
    "Call the function once using positional arguments to make a shirt. Call the\n",
    "function a second time using keyword arguments."
   ]
  },
  {
   "cell_type": "code",
   "execution_count": 21,
   "metadata": {},
   "outputs": [
    {
     "name": "stdout",
     "output_type": "stream",
     "text": [
      "Size of T-Shirt is Medium.\n",
      "Print: Jack Of All Trades.\n"
     ]
    }
   ],
   "source": [
    "def makeShirt(size, message):\n",
    "    print(f\"Size of T-Shirt is {size.title()}.\")\n",
    "    print(f\"Print: {message.title()}.\")\n",
    "    \n",
    "makeShirt('medium', 'jack of all trades')"
   ]
  },
  {
   "cell_type": "code",
   "execution_count": 22,
   "metadata": {},
   "outputs": [
    {
     "name": "stdout",
     "output_type": "stream",
     "text": [
      "Size of T-Shirt is Large.\n",
      "Print: Jack Of All Trades.\n"
     ]
    }
   ],
   "source": [
    "makeShirt(message= 'jack of all trades', size= 'large')"
   ]
  },
  {
   "cell_type": "markdown",
   "metadata": {},
   "source": [
    "8-4. Large Shirts: Modify the make_shirt() function so that shirts are large\n",
    "by default with a message that reads I love Python. Make a large shirt and a\n",
    "medium shirt with the default message, and a shirt of any size with a different\n",
    "message."
   ]
  },
  {
   "cell_type": "code",
   "execution_count": 24,
   "metadata": {},
   "outputs": [
    {
     "name": "stdout",
     "output_type": "stream",
     "text": [
      "Size of T-Shirt is Large.\n",
      "Print: I Love Python.\n"
     ]
    }
   ],
   "source": [
    "def makeShirt(size= \"large\", message= \"i love python\"):\n",
    "    print(f\"Size of T-Shirt is {size.title()}.\")\n",
    "    print(f\"Print: {message.title()}.\")\n",
    "    \n",
    "makeShirt()"
   ]
  },
  {
   "cell_type": "code",
   "execution_count": 25,
   "metadata": {},
   "outputs": [
    {
     "name": "stdout",
     "output_type": "stream",
     "text": [
      "Size of T-Shirt is Large.\n",
      "Print: Python Is Best.\n"
     ]
    }
   ],
   "source": [
    "makeShirt(message= 'python is best')"
   ]
  },
  {
   "cell_type": "code",
   "execution_count": 26,
   "metadata": {},
   "outputs": [
    {
     "name": "stdout",
     "output_type": "stream",
     "text": [
      "Size of T-Shirt is Medium.\n",
      "Print: I Love Python.\n"
     ]
    }
   ],
   "source": [
    "makeShirt(size= 'medium')"
   ]
  },
  {
   "cell_type": "markdown",
   "metadata": {},
   "source": [
    "8-5. Cities: Write a function called describe_city() that accepts the name of\n",
    "a city and its country. The function should print a simple sentence, such as\n",
    "Reykjavik is in Iceland. Give the parameter for the country a default value.\n",
    "Call your function for three different cities, at least one of which is not in the\n",
    "default country."
   ]
  },
  {
   "cell_type": "code",
   "execution_count": 27,
   "metadata": {},
   "outputs": [
    {
     "name": "stdout",
     "output_type": "stream",
     "text": [
      "\n",
      "Wuhan is in China.\n",
      "\n",
      "Hubei is in China.\n",
      "\n",
      "Tokyo is in Japan.\n"
     ]
    }
   ],
   "source": [
    "def describeCity(city , country= 'china'):\n",
    "    print(f\"\\n{city.title()} is in {country.title()}.\")\n",
    "    \n",
    "describeCity('wuhan')\n",
    "describeCity('hubei')\n",
    "describeCity('tokyo' , country= 'japan')"
   ]
  },
  {
   "cell_type": "markdown",
   "metadata": {},
   "source": [
    "Return Values: Returning a simple value"
   ]
  },
  {
   "cell_type": "code",
   "execution_count": 28,
   "metadata": {},
   "outputs": [
    {
     "name": "stdout",
     "output_type": "stream",
     "text": [
      "Jimi Hendrix\n"
     ]
    }
   ],
   "source": [
    "def getFormattedName(fName, lName):\n",
    "    fullName = fName+ \" \" + lName\n",
    "    return fullName.title()\n",
    "\n",
    "musician = getFormattedName('jimi', 'hendrix')\n",
    "print(musician)"
   ]
  },
  {
   "cell_type": "markdown",
   "metadata": {},
   "source": [
    "Making an argument optional"
   ]
  },
  {
   "cell_type": "code",
   "execution_count": 30,
   "metadata": {},
   "outputs": [
    {
     "name": "stdout",
     "output_type": "stream",
     "text": [
      "John Lee\n"
     ]
    }
   ],
   "source": [
    "def getFormattedName(fName, lName, mName=\"\"):\n",
    "    if mName:\n",
    "        fullName = fName+ \" \" + mName+ \" \" + lName\n",
    "    else:\n",
    "        fullName = fName+ \" \" + lName\n",
    "    return fullName.title()\n",
    "\n",
    "musician = getFormattedName('john','lee')\n",
    "print(musician)"
   ]
  },
  {
   "cell_type": "code",
   "execution_count": 31,
   "metadata": {},
   "outputs": [
    {
     "name": "stdout",
     "output_type": "stream",
     "text": [
      "John Hooker Lee\n"
     ]
    }
   ],
   "source": [
    "musician = getFormattedName('john','lee', 'hooker')\n",
    "print(musician)"
   ]
  },
  {
   "cell_type": "markdown",
   "metadata": {},
   "source": [
    "Returning a dictionary"
   ]
  },
  {
   "cell_type": "code",
   "execution_count": 32,
   "metadata": {},
   "outputs": [
    {
     "name": "stdout",
     "output_type": "stream",
     "text": [
      "{'first': 'jimi', 'last': 'hendrix'}\n"
     ]
    }
   ],
   "source": [
    "def buildPerson(fName, lName):\n",
    "    person = {'first': fName, 'last': lName}\n",
    "    return person\n",
    "\n",
    "musician = buildPerson('jimi' , 'hendrix')\n",
    "print(musician)"
   ]
  },
  {
   "cell_type": "code",
   "execution_count": 33,
   "metadata": {},
   "outputs": [
    {
     "name": "stdout",
     "output_type": "stream",
     "text": [
      "{'first': 'jimi', 'last': 'hendrix', 'age': 25}\n"
     ]
    }
   ],
   "source": [
    "def buildPerson(fName, lName, age= \"\"):\n",
    "    person = {'first': fName, 'last': lName}\n",
    "    if age:\n",
    "        person['age'] = age\n",
    "    return person\n",
    "\n",
    "musician = buildPerson('jimi' , 'hendrix', 25)\n",
    "print(musician)"
   ]
  },
  {
   "cell_type": "markdown",
   "metadata": {},
   "source": [
    "Using Function with a while loop"
   ]
  },
  {
   "cell_type": "code",
   "execution_count": 36,
   "metadata": {},
   "outputs": [
    {
     "name": "stdout",
     "output_type": "stream",
     "text": [
      "\n",
      "PLease enter your name:\n",
      "(Enter 'q' at any time to quit)\n",
      "Enter your first name or 'q' to quit: jimi\n",
      "Enter your last name or 'q' to quit: hendrix\n",
      "\n",
      "Hello, Jimi Hendrix!\n",
      "\n",
      "PLease enter your name:\n",
      "(Enter 'q' at any time to quit)\n",
      "Enter your first name or 'q' to quit: jimi\n",
      "Enter your last name or 'q' to quit: q\n"
     ]
    }
   ],
   "source": [
    "def getFormattedName(fName, lName):\n",
    "    fullName = fName+ \" \" + lName\n",
    "    return fullName.title()\n",
    "\n",
    "while True:\n",
    "    print(\"\\nPLease enter your name:\")\n",
    "    print(\"(Enter 'q' at any time to quit)\")\n",
    "    firstName = input(\"Enter your first name or 'q' to quit: \").lower()\n",
    "    if firstName == 'q':\n",
    "        break\n",
    "    \n",
    "    lastName = input(\"Enter your last name or 'q' to quit: \").lower()\n",
    "    if lastName == 'q':\n",
    "        break\n",
    "    \n",
    "    formattedName= getFormattedName(firstName, lastName)\n",
    "    print(f\"\\nHello, {formattedName}!\")"
   ]
  },
  {
   "cell_type": "markdown",
   "metadata": {},
   "source": [
    "Exercise"
   ]
  },
  {
   "cell_type": "markdown",
   "metadata": {},
   "source": [
    "8-6. City Names: Write a function called city_country() that takes in the name\n",
    "of a city and its country. The function should return a string formatted like this:\n",
    "\"Santiago, Chile\"\n",
    "Call your function with at least three city-country pairs, and print the value\n",
    "that’s returned."
   ]
  },
  {
   "cell_type": "code",
   "execution_count": 38,
   "metadata": {},
   "outputs": [
    {
     "name": "stdout",
     "output_type": "stream",
     "text": [
      "\n",
      "\"Paris, France\"\n",
      "\n",
      "\"Istanbul, Turkey\"\n",
      "\n",
      "\"Tokyo, Japan\"\n"
     ]
    }
   ],
   "source": [
    "def cityCountry(city, country):\n",
    "    print(f'\\n\"{city.title()}, {country.title()}\"')\n",
    "    \n",
    "cityCountry('paris', 'france')\n",
    "cityCountry('istanbul', 'turkey')\n",
    "cityCountry('tokyo', 'japan')"
   ]
  },
  {
   "cell_type": "markdown",
   "metadata": {},
   "source": [
    "8-7. Album: Write a function called make_album() that builds a dictionary\n",
    "describing a music album. The function should take in an artist name and an\n",
    "album title, and it should return a dictionary containing these two pieces of\n",
    "information. Use the function to make three dictionaries representing different\n",
    "albums. Print each return value to show that the dictionaries are storing the\n",
    "album information correctly.\n",
    "Add an optional parameter to make_album() that allows you to store the\n",
    "number of tracks on an album. If the calling line includes a value for the number\n",
    "of tracks, add that value to the album’s dictionary. Make at least one new\n",
    "function call that includes the number of tracks on an album."
   ]
  },
  {
   "cell_type": "code",
   "execution_count": 40,
   "metadata": {},
   "outputs": [
    {
     "name": "stdout",
     "output_type": "stream",
     "text": [
      "Artist1: {'artistName': 'jimi hendrix', 'albumTitle': 'sunshine'}\n",
      "Artist2: {'artistName': 'U2', 'albumTitle': '360'}\n",
      "Artist3: {'artistName': 'metallica', 'albumTitle': 'matters', 'numberOfTracks': 12}\n"
     ]
    }
   ],
   "source": [
    "def makeAlbum(artist, albumTitle, tracks= \"\"):\n",
    "    album = {}\n",
    "    album['artistName'] = artist\n",
    "    album['albumTitle'] = albumTitle\n",
    "    if tracks:\n",
    "        album['numberOfTracks'] = tracks\n",
    "    return album\n",
    "\n",
    "artist1 = makeAlbum('jimi hendrix', 'sunshine')\n",
    "artist2 = makeAlbum('U2', '360')\n",
    "artist3 = makeAlbum('metallica', 'matters', 12)\n",
    "print(f\"Artist1: {artist1}\")\n",
    "print(f\"Artist2: {artist2}\")\n",
    "print(f\"Artist3: {artist3}\")"
   ]
  },
  {
   "cell_type": "markdown",
   "metadata": {},
   "source": [
    "8-8. User Albums: Start with your program from Exercise 8-7. Write a while\n",
    "loop that allows users to enter an album’s artist and title. Once you have that\n",
    "information, call make_album() with the user’s input and print the dictionary\n",
    "that’s created. Be sure to include a quit value in the while loop."
   ]
  },
  {
   "cell_type": "code",
   "execution_count": 41,
   "metadata": {},
   "outputs": [
    {
     "name": "stdout",
     "output_type": "stream",
     "text": [
      "Enter Artist Name: (Enter 'q' to exit)Jimi\n",
      "Enter Album Title: (Enter 'q' to exit)sunshine\n",
      "{'artistName': 'Jimi', 'albumTitle': 'sunshine'}\n",
      "Enter Artist Name: (Enter 'q' to exit)u2\n",
      "Enter Album Title: (Enter 'q' to exit)q\n"
     ]
    }
   ],
   "source": [
    "flag = True\n",
    "\n",
    "while flag:\n",
    "    artist = input(\"Enter Artist Name: (Enter 'q' to exit)\")\n",
    "    if artist == 'q':\n",
    "        break\n",
    "    title = input(\"Enter Album Title: (Enter 'q' to exit)\")\n",
    "    if title == 'q':\n",
    "        break\n",
    "    print(makeAlbum(artist, title))\n",
    "    "
   ]
  },
  {
   "cell_type": "markdown",
   "metadata": {},
   "source": [
    "Passing a List"
   ]
  },
  {
   "cell_type": "code",
   "execution_count": 42,
   "metadata": {},
   "outputs": [
    {
     "name": "stdout",
     "output_type": "stream",
     "text": [
      "Hello, Ellie!\n",
      "Hello, Jack!\n",
      "Hello, Nathan!\n"
     ]
    }
   ],
   "source": [
    "def greetUsers(names):\n",
    "    for name in names:\n",
    "        print(f\"Hello, {name.title()}!\")\n",
    "        \n",
    "usernames = ['ellie', 'jack', 'nathan']\n",
    "\n",
    "greetUsers(usernames)"
   ]
  },
  {
   "cell_type": "markdown",
   "metadata": {},
   "source": [
    "Modifying a List in a function"
   ]
  },
  {
   "cell_type": "code",
   "execution_count": 45,
   "metadata": {},
   "outputs": [
    {
     "name": "stdout",
     "output_type": "stream",
     "text": [
      "Printing Design: dodecahedron\n",
      "Printing Design: robot pendant\n",
      "Printing Design: iphone case\n",
      "\n",
      "Following are the completed designs:\n",
      "dodecahedron\n",
      "robot pendant\n",
      "iphone case\n"
     ]
    }
   ],
   "source": [
    "#Without function.\n",
    "unprintedDesigns = ['iphone case', 'robot pendant', 'dodecahedron']\n",
    "completedModels = []\n",
    "\n",
    "while unprintedDesigns:\n",
    "    currentDesign = unprintedDesigns.pop()\n",
    "    completedModels.append(currentDesign)\n",
    "    print(f\"Printing Design: {currentDesign}\")\n",
    "\n",
    "print(\"\\nFollowing are the completed designs:\")\n",
    "for design in completedModels:\n",
    "    print(design)"
   ]
  },
  {
   "cell_type": "code",
   "execution_count": 1,
   "metadata": {},
   "outputs": [
    {
     "name": "stdout",
     "output_type": "stream",
     "text": [
      "Printing Design: dodecahedron\n",
      "Printing Design: robot pendant\n",
      "Printing Design: iphone case\n"
     ]
    }
   ],
   "source": [
    "def printModels(designs, completed):\n",
    "    while designs:\n",
    "        currentDesign = designs.pop()\n",
    "        completed.append(currentDesign)\n",
    "        print(f\"Printing Design: {currentDesign}\")\n",
    "\n",
    "def showCompleted(completed):\n",
    "    print(\"Following are the completed designs:\")\n",
    "    for design in completed:\n",
    "        print(design)\n",
    "\n",
    "unprintedDesigns = ['iphone case', 'robot pendant', 'dodecahedron']\n",
    "completedModels = []\n",
    "\n",
    "printModels(unprintedDesigns, completedModels)"
   ]
  },
  {
   "cell_type": "code",
   "execution_count": 2,
   "metadata": {},
   "outputs": [
    {
     "name": "stdout",
     "output_type": "stream",
     "text": [
      "Following are the completed designs:\n",
      "dodecahedron\n",
      "robot pendant\n",
      "iphone case\n"
     ]
    }
   ],
   "source": [
    "showCompleted(completedModels)"
   ]
  },
  {
   "cell_type": "markdown",
   "metadata": {},
   "source": [
    "Preventing a Function to modifying a List"
   ]
  },
  {
   "cell_type": "code",
   "execution_count": 3,
   "metadata": {},
   "outputs": [
    {
     "name": "stdout",
     "output_type": "stream",
     "text": [
      "Printing Design: dodecahedron\n",
      "Printing Design: robot pendant\n",
      "Printing Design: iphone case\n"
     ]
    }
   ],
   "source": [
    "unprintedDesigns = ['iphone case', 'robot pendant', 'dodecahedron']\n",
    "completedModels = []\n",
    "\n",
    "printModels(unprintedDesigns[:], completedModels)"
   ]
  },
  {
   "cell_type": "code",
   "execution_count": 4,
   "metadata": {},
   "outputs": [
    {
     "name": "stdout",
     "output_type": "stream",
     "text": [
      "['iphone case', 'robot pendant', 'dodecahedron']\n",
      "['dodecahedron', 'robot pendant', 'iphone case']\n"
     ]
    }
   ],
   "source": [
    "print(unprintedDesigns)\n",
    "print(completedModels)"
   ]
  },
  {
   "cell_type": "code",
   "execution_count": 5,
   "metadata": {},
   "outputs": [
    {
     "name": "stdout",
     "output_type": "stream",
     "text": [
      "Following are the completed designs:\n",
      "dodecahedron\n",
      "robot pendant\n",
      "iphone case\n"
     ]
    }
   ],
   "source": [
    "showCompleted(completedModels)"
   ]
  },
  {
   "cell_type": "markdown",
   "metadata": {},
   "source": [
    "Exercise"
   ]
  },
  {
   "cell_type": "markdown",
   "metadata": {},
   "source": [
    "8-9. Magicians: Make a list of magician’s names. Pass the list to a function\n",
    "called show_magicians(), which prints the name of each magician in the list."
   ]
  },
  {
   "cell_type": "code",
   "execution_count": 7,
   "metadata": {},
   "outputs": [
    {
     "name": "stdout",
     "output_type": "stream",
     "text": [
      "Following are the magicians:\n",
      "Gary\n",
      "Larry\n",
      "Harry\n"
     ]
    }
   ],
   "source": [
    "def showMagicians(magicians):\n",
    "    print('Following are the magicians:')\n",
    "    for magician in magicians:\n",
    "        print(magician.title())\n",
    "        \n",
    "magicianList = ['gary', 'larry', 'harry']\n",
    "\n",
    "showMagicians(magicianList)"
   ]
  },
  {
   "cell_type": "markdown",
   "metadata": {},
   "source": [
    "8-10. Great Magicians: Start with a copy of your program from Exercise 8-9.\n",
    "Write a function called make_great() that modifies the list of magicians by adding\n",
    "the phrase the Great to each magician’s name. Call show_magicians() to\n",
    "see that the list has actually been modified."
   ]
  },
  {
   "cell_type": "code",
   "execution_count": 9,
   "metadata": {},
   "outputs": [
    {
     "name": "stdout",
     "output_type": "stream",
     "text": [
      "Following are the magicians:\n",
      "The Great Gary\n",
      "The Great Larry\n",
      "The Great Harry\n"
     ]
    }
   ],
   "source": [
    "def makeGreat(magicians):\n",
    "    i = 0\n",
    "    for magician in magicians:\n",
    "        magicians[i] = 'the Great '+ magician\n",
    "        i+=1\n",
    "\n",
    "makeGreat(magicianList)\n",
    "showMagicians(magicianList)"
   ]
  },
  {
   "cell_type": "markdown",
   "metadata": {},
   "source": [
    "8-11. Unchanged Magicians: Start with your work from Exercise 8-10. Call the\n",
    "function make_great() with a copy of the list of magicians’ names. Because the\n",
    "original list will be unchanged, return the new list and store it in a separate list.\n",
    "Call show_magicians() with each list to show that you have one list of the original\n",
    "names and one list with the Great added to each magician’s name."
   ]
  },
  {
   "cell_type": "code",
   "execution_count": 11,
   "metadata": {},
   "outputs": [
    {
     "name": "stdout",
     "output_type": "stream",
     "text": [
      "Following are the magicians:\n",
      "Gary\n",
      "Larry\n",
      "Harry\n"
     ]
    }
   ],
   "source": [
    "def makeGreat(magicians, modified):\n",
    "    for magician in magicians:\n",
    "        modified.append(f'the Great {magician}')\n",
    "        \n",
    "magicianList = ['gary', 'larry', 'harry']\n",
    "magicianModified = []\n",
    "\n",
    "makeGreat(magicianList, magicianModified)\n",
    "showMagicians(magicianList)"
   ]
  },
  {
   "cell_type": "code",
   "execution_count": 12,
   "metadata": {},
   "outputs": [
    {
     "name": "stdout",
     "output_type": "stream",
     "text": [
      "Following are the magicians:\n",
      "The Great Gary\n",
      "The Great Larry\n",
      "The Great Harry\n"
     ]
    }
   ],
   "source": [
    "showMagicians(magicianModified)"
   ]
  },
  {
   "cell_type": "markdown",
   "metadata": {},
   "source": [
    "Passing an arbitrary number of arguments"
   ]
  },
  {
   "cell_type": "code",
   "execution_count": 16,
   "metadata": {},
   "outputs": [
    {
     "name": "stdout",
     "output_type": "stream",
     "text": [
      "('Mushrooms',)\n"
     ]
    }
   ],
   "source": [
    "def makePizza(*toppings):\n",
    "    print(toppings)\n",
    "    \n",
    "makePizza('Mushrooms')"
   ]
  },
  {
   "cell_type": "code",
   "execution_count": 18,
   "metadata": {},
   "outputs": [
    {
     "name": "stdout",
     "output_type": "stream",
     "text": [
      "('Extra cheese', 'pepperoni')\n"
     ]
    }
   ],
   "source": [
    "makePizza('Extra cheese', 'pepperoni')"
   ]
  },
  {
   "cell_type": "code",
   "execution_count": 21,
   "metadata": {},
   "outputs": [
    {
     "name": "stdout",
     "output_type": "stream",
     "text": [
      "\n",
      "Making pizza with following toppings:\n",
      "-Mushrooms\n"
     ]
    }
   ],
   "source": [
    "def makePizza(*toppings):\n",
    "    print('\\nMaking pizza with following toppings:')\n",
    "    for topping in toppings:\n",
    "        print(\"-\" + topping.title())\n",
    "    \n",
    "makePizza('Mushrooms')"
   ]
  },
  {
   "cell_type": "code",
   "execution_count": 22,
   "metadata": {},
   "outputs": [
    {
     "name": "stdout",
     "output_type": "stream",
     "text": [
      "\n",
      "Making pizza with following toppings:\n",
      "-Extra Cheese\n",
      "-Pepperoni\n"
     ]
    }
   ],
   "source": [
    "makePizza('Extra cheese', 'pepperoni')"
   ]
  },
  {
   "cell_type": "markdown",
   "metadata": {},
   "source": [
    "Mixing Positional and Arbitrary Arguments"
   ]
  },
  {
   "cell_type": "code",
   "execution_count": 1,
   "metadata": {},
   "outputs": [
    {
     "name": "stdout",
     "output_type": "stream",
     "text": [
      "Making a 15-inch pizza with following toppings:\n",
      "-Mushrooms\n",
      "-Pepperoni\n",
      "-Extra Cheese\n"
     ]
    }
   ],
   "source": [
    "def makePizza(size, *toppings):\n",
    "    print(f\"Making a {size}-inch pizza with following toppings:\")\n",
    "    for topping in toppings:\n",
    "        print(f\"-{topping.title()}\")\n",
    "        \n",
    "makePizza(15, 'mushrooms', 'pepperoni', 'extra cheese')"
   ]
  },
  {
   "cell_type": "code",
   "execution_count": 2,
   "metadata": {},
   "outputs": [
    {
     "name": "stdout",
     "output_type": "stream",
     "text": [
      "Making a 16-inch pizza with following toppings:\n",
      "-Extra Cheese\n"
     ]
    }
   ],
   "source": [
    "makePizza(16, 'extra cheese')"
   ]
  },
  {
   "cell_type": "markdown",
   "metadata": {},
   "source": [
    "Using arbitrary keyword arguments"
   ]
  },
  {
   "cell_type": "code",
   "execution_count": 13,
   "metadata": {},
   "outputs": [
    {
     "name": "stdout",
     "output_type": "stream",
     "text": [
      "{'firstName': 'albert', 'LastName': 'einstein', 'location': 'princeton', 'field': 'physics'}\n"
     ]
    }
   ],
   "source": [
    "def buildProfile(fName, lName, **userInfo):\n",
    "    profile= {}\n",
    "    profile[\"firstName\"] = fName\n",
    "    profile[\"LastName\"] = lName\n",
    "    for k, v in userInfo.items():\n",
    "        profile[k] = v\n",
    "    return profile\n",
    "\n",
    "userProfile = buildProfile('albert', 'einstein', location = 'princeton', field= 'physics')\n",
    "print(userProfile)"
   ]
  },
  {
   "cell_type": "markdown",
   "metadata": {},
   "source": [
    "Exercise"
   ]
  },
  {
   "cell_type": "markdown",
   "metadata": {},
   "source": [
    "8-12. Sandwiches: Write a function that accepts a list of items a person wants\n",
    "on a sandwich. The function should have one parameter that collects as many\n",
    "items as the function call provides, and it should print a summary of the sandwich\n",
    "that is being ordered. Call the function three times, using a different number\n",
    "of arguments each time."
   ]
  },
  {
   "cell_type": "code",
   "execution_count": 8,
   "metadata": {},
   "outputs": [
    {
     "name": "stdout",
     "output_type": "stream",
     "text": [
      "\n",
      "Making Sandwich with:\n",
      "-Extra Cheese\n",
      "\n",
      "Making Sandwich with:\n",
      "-Extra Cheese\n",
      "-Extra Cream\n",
      "\n",
      "Making Sandwich with:\n",
      "-Extra Cheese\n",
      "-Extra Cream\n",
      "-Pepperoni\n"
     ]
    }
   ],
   "source": [
    "def sandwiches(*toppings):\n",
    "    print('\\nMaking Sandwich with:')\n",
    "    for topping in toppings:\n",
    "        print(\"-\" + topping.title())\n",
    "        \n",
    "sandwich1 = sandwiches('Extra cheese')\n",
    "sandwich2 = sandwiches('Extra cheese', 'Extra cream')\n",
    "sandwich3 = sandwiches('Extra cheese', 'Extra cream', 'pepperoni')"
   ]
  },
  {
   "cell_type": "markdown",
   "metadata": {},
   "source": [
    "8-13. User Profile: Start with a copy of user_profile.py from page 153. Build\n",
    "a profile of yourself by calling build_profile(), using your first and last names\n",
    "and three other key-value pairs that describe you."
   ]
  },
  {
   "cell_type": "code",
   "execution_count": 14,
   "metadata": {},
   "outputs": [
    {
     "data": {
      "text/plain": [
       "{'firstName': 'jimi',\n",
       " 'LastName': 'hendrix',\n",
       " 'profession': 'music',\n",
       " 'instrument': 'guitar'}"
      ]
     },
     "execution_count": 14,
     "metadata": {},
     "output_type": "execute_result"
    }
   ],
   "source": [
    "buildProfile(\"jimi\" , \"hendrix\", profession = 'music', instrument = 'guitar')"
   ]
  },
  {
   "cell_type": "markdown",
   "metadata": {},
   "source": [
    "8-14. Cars: Write a function that stores information about a car in a dictionary.\n",
    "The function should always receive a manufacturer and a model name. It\n",
    "should then accept an arbitrary number of keyword arguments. Call the function\n",
    "with the required information and two other name-value pairs, such as a\n",
    "color or an optional feature. Your function should work for a call like this one:\n",
    "car = make_car('subaru', 'outback', color='blue', tow_package=True)\n",
    "Print the dictionary that’s returned to make sure all the information was\n",
    "stored correctly."
   ]
  },
  {
   "cell_type": "code",
   "execution_count": 16,
   "metadata": {},
   "outputs": [
    {
     "data": {
      "text/plain": [
       "{'manufacturer': 'subaru',\n",
       " 'model': 'outback',\n",
       " 'color': 'blue',\n",
       " 'towPackage': True}"
      ]
     },
     "execution_count": 16,
     "metadata": {},
     "output_type": "execute_result"
    }
   ],
   "source": [
    "def makeCar(manufacturer, model, **optionalFeatures):\n",
    "    car = {}\n",
    "    car['manufacturer'] = manufacturer\n",
    "    car['model'] = model\n",
    "    for k,v in optionalFeatures.items():\n",
    "        car[k] = v\n",
    "    return car\n",
    "\n",
    "makeCar('subaru' , 'outback', color= 'blue', towPackage= True)"
   ]
  },
  {
   "cell_type": "markdown",
   "metadata": {},
   "source": [
    "Storing Functions in Modules"
   ]
  },
  {
   "cell_type": "code",
   "execution_count": 1,
   "metadata": {},
   "outputs": [],
   "source": [
    "import pizza"
   ]
  },
  {
   "cell_type": "code",
   "execution_count": 3,
   "metadata": {},
   "outputs": [
    {
     "name": "stdout",
     "output_type": "stream",
     "text": [
      "\n",
      "Making a 16-inch pizza with following toppings:\n",
      "-mushrooms\n",
      "\n",
      "Making a 16-inch pizza with following toppings:\n",
      "-mushrooms\n",
      "-Extra cheese\n"
     ]
    }
   ],
   "source": [
    "pizza.makePizza(16, \"mushrooms\")\n",
    "pizza.makePizza(16, \"mushrooms\", \"Extra cheese\")"
   ]
  },
  {
   "cell_type": "markdown",
   "metadata": {},
   "source": [
    "Importing Specific Functions"
   ]
  },
  {
   "cell_type": "code",
   "execution_count": 4,
   "metadata": {},
   "outputs": [],
   "source": [
    "from pizza import makePizza"
   ]
  },
  {
   "cell_type": "code",
   "execution_count": 5,
   "metadata": {},
   "outputs": [
    {
     "name": "stdout",
     "output_type": "stream",
     "text": [
      "\n",
      "Making a 16-inch pizza with following toppings:\n",
      "-mushrooms\n"
     ]
    }
   ],
   "source": [
    "makePizza(16, \"mushrooms\")"
   ]
  },
  {
   "cell_type": "code",
   "execution_count": 6,
   "metadata": {},
   "outputs": [
    {
     "name": "stdout",
     "output_type": "stream",
     "text": [
      "\n",
      "Making a 19-inch pizza with following toppings:\n",
      "-pepperoni\n",
      "-Extra cheese\n"
     ]
    }
   ],
   "source": [
    "makePizza(19, 'pepperoni', 'Extra cheese')"
   ]
  },
  {
   "cell_type": "code",
   "execution_count": null,
   "metadata": {},
   "outputs": [],
   "source": []
  }
 ],
 "metadata": {
  "kernelspec": {
   "display_name": "Python 3",
   "language": "python",
   "name": "python3"
  },
  "language_info": {
   "codemirror_mode": {
    "name": "ipython",
    "version": 3
   },
   "file_extension": ".py",
   "mimetype": "text/x-python",
   "name": "python",
   "nbconvert_exporter": "python",
   "pygments_lexer": "ipython3",
   "version": "3.7.4"
  }
 },
 "nbformat": 4,
 "nbformat_minor": 2
}
